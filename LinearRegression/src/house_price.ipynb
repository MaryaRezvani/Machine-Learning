{
 "cells": [
  {
   "cell_type": "markdown",
   "id": "11b73de6-710b-4c4e-a2c9-57fd43e2ec5f",
   "metadata": {},
   "source": [
    "# حل مسئله 01"
   ]
  },
  {
   "cell_type": "markdown",
   "id": "5c43041f-9733-4b68-ab38-1d943bd04dbf",
   "metadata": {},
   "source": [
    "## pandas,numpy,matplotlib اضافه کردن کتابخانه"
   ]
  },
  {
   "cell_type": "code",
   "execution_count": 21,
   "id": "128aebf6-bfae-4c1e-ab4a-67fbefbd6004",
   "metadata": {},
   "outputs": [],
   "source": [
    "import pandas as pd\n",
    "import matplotlib.pyplot as plt\n",
    "import numpy as np"
   ]
  },
  {
   "cell_type": "markdown",
   "id": "e900ebe8-5433-4a76-a5ac-765a41d7e7f7",
   "metadata": {},
   "source": [
    "### csv خواندن از فایل "
   ]
  },
  {
   "cell_type": "code",
   "execution_count": 3,
   "id": "675f177a-1d99-409b-9184-fab9954f1a73",
   "metadata": {},
   "outputs": [],
   "source": [
    "df = pd.read_csv('./housePrice.csv')"
   ]
  },
  {
   "cell_type": "markdown",
   "id": "d987c0fd-52af-4eff-a696-6d11fce8fd29",
   "metadata": {},
   "source": [
    "### مشاهده ۵ سطر اول دیتا فریم"
   ]
  },
  {
   "cell_type": "code",
   "execution_count": 4,
   "id": "760bb165-c297-4910-ab69-6c83cfed8985",
   "metadata": {},
   "outputs": [
    {
     "data": {
      "text/html": [
       "<div>\n",
       "<style scoped>\n",
       "    .dataframe tbody tr th:only-of-type {\n",
       "        vertical-align: middle;\n",
       "    }\n",
       "\n",
       "    .dataframe tbody tr th {\n",
       "        vertical-align: top;\n",
       "    }\n",
       "\n",
       "    .dataframe thead th {\n",
       "        text-align: right;\n",
       "    }\n",
       "</style>\n",
       "<table border=\"1\" class=\"dataframe\">\n",
       "  <thead>\n",
       "    <tr style=\"text-align: right;\">\n",
       "      <th></th>\n",
       "      <th>Area</th>\n",
       "      <th>Room</th>\n",
       "      <th>Parking</th>\n",
       "      <th>Warehouse</th>\n",
       "      <th>Elevator</th>\n",
       "      <th>Address</th>\n",
       "      <th>Price</th>\n",
       "      <th>Price(USD)</th>\n",
       "    </tr>\n",
       "  </thead>\n",
       "  <tbody>\n",
       "    <tr>\n",
       "      <th>0</th>\n",
       "      <td>63</td>\n",
       "      <td>1</td>\n",
       "      <td>True</td>\n",
       "      <td>True</td>\n",
       "      <td>True</td>\n",
       "      <td>Shahran</td>\n",
       "      <td>1.850000e+09</td>\n",
       "      <td>61666.67</td>\n",
       "    </tr>\n",
       "    <tr>\n",
       "      <th>1</th>\n",
       "      <td>60</td>\n",
       "      <td>1</td>\n",
       "      <td>True</td>\n",
       "      <td>True</td>\n",
       "      <td>True</td>\n",
       "      <td>Shahran</td>\n",
       "      <td>1.850000e+09</td>\n",
       "      <td>61666.67</td>\n",
       "    </tr>\n",
       "    <tr>\n",
       "      <th>2</th>\n",
       "      <td>79</td>\n",
       "      <td>2</td>\n",
       "      <td>True</td>\n",
       "      <td>True</td>\n",
       "      <td>True</td>\n",
       "      <td>Pardis</td>\n",
       "      <td>5.500000e+08</td>\n",
       "      <td>18333.33</td>\n",
       "    </tr>\n",
       "    <tr>\n",
       "      <th>3</th>\n",
       "      <td>95</td>\n",
       "      <td>2</td>\n",
       "      <td>True</td>\n",
       "      <td>True</td>\n",
       "      <td>True</td>\n",
       "      <td>Shahrake Qods</td>\n",
       "      <td>9.025000e+08</td>\n",
       "      <td>30083.33</td>\n",
       "    </tr>\n",
       "    <tr>\n",
       "      <th>4</th>\n",
       "      <td>123</td>\n",
       "      <td>2</td>\n",
       "      <td>True</td>\n",
       "      <td>True</td>\n",
       "      <td>True</td>\n",
       "      <td>Shahrake Gharb</td>\n",
       "      <td>7.000000e+09</td>\n",
       "      <td>233333.33</td>\n",
       "    </tr>\n",
       "  </tbody>\n",
       "</table>\n",
       "</div>"
      ],
      "text/plain": [
       "  Area  Room  Parking  Warehouse  Elevator         Address         Price  \\\n",
       "0   63     1     True       True      True         Shahran  1.850000e+09   \n",
       "1   60     1     True       True      True         Shahran  1.850000e+09   \n",
       "2   79     2     True       True      True          Pardis  5.500000e+08   \n",
       "3   95     2     True       True      True   Shahrake Qods  9.025000e+08   \n",
       "4  123     2     True       True      True  Shahrake Gharb  7.000000e+09   \n",
       "\n",
       "   Price(USD)  \n",
       "0    61666.67  \n",
       "1    61666.67  \n",
       "2    18333.33  \n",
       "3    30083.33  \n",
       "4   233333.33  "
      ]
     },
     "execution_count": 4,
     "metadata": {},
     "output_type": "execute_result"
    }
   ],
   "source": [
    "df.head()"
   ]
  },
  {
   "cell_type": "markdown",
   "id": "7ea0a4f8-db25-43ce-882c-be9479635a64",
   "metadata": {},
   "source": [
    "بدست آوردن تعداد مقادیر یکتا ستون آدرس"
   ]
  },
  {
   "cell_type": "code",
   "execution_count": 5,
   "id": "67011ba7-aa7f-4b29-88d2-da33b4a5739a",
   "metadata": {},
   "outputs": [
    {
     "data": {
      "text/plain": [
       "193"
      ]
     },
     "execution_count": 5,
     "metadata": {},
     "output_type": "execute_result"
    }
   ],
   "source": [
    "len(df['Address'].unique())"
   ]
  },
  {
   "cell_type": "markdown",
   "id": "625c5236-18c3-4472-8723-05d985881109",
   "metadata": {},
   "source": [
    "## labelEncoder استفاده از پکیج sklearn اضافه کردن کتابخانه"
   ]
  },
  {
   "cell_type": "code",
   "execution_count": 6,
   "id": "91c1c858-eed6-4eb2-8ec4-94184228cef7",
   "metadata": {},
   "outputs": [],
   "source": [
    "from sklearn.preprocessing import LabelEncoder"
   ]
  },
  {
   "cell_type": "markdown",
   "id": "c9c20eb9-0397-46f8-bb40-e9f71462736f",
   "metadata": {},
   "source": [
    "تبدیل کردن داده های غیر عددی یا آبجکت به کد عددی"
   ]
  },
  {
   "cell_type": "code",
   "execution_count": 7,
   "id": "5d6946cd-c03d-4587-b4d8-948c91344d06",
   "metadata": {},
   "outputs": [],
   "source": [
    "le = LabelEncoder()"
   ]
  },
  {
   "cell_type": "markdown",
   "id": "838346fe-c1dc-412f-ba88-6997591a1a23",
   "metadata": {},
   "source": [
    "برای یادگرفتن و فرمول ها و کارهایی که قرار است روی داده انجام شود تا یادگیری روی ستون آدرس انجام شودfitمتد "
   ]
  },
  {
   "cell_type": "code",
   "execution_count": 8,
   "id": "6307c965-fe88-45cb-94fa-09ea3264be82",
   "metadata": {},
   "outputs": [
    {
     "data": {
      "text/html": [
       "<style>#sk-container-id-1 {color: black;}#sk-container-id-1 pre{padding: 0;}#sk-container-id-1 div.sk-toggleable {background-color: white;}#sk-container-id-1 label.sk-toggleable__label {cursor: pointer;display: block;width: 100%;margin-bottom: 0;padding: 0.3em;box-sizing: border-box;text-align: center;}#sk-container-id-1 label.sk-toggleable__label-arrow:before {content: \"▸\";float: left;margin-right: 0.25em;color: #696969;}#sk-container-id-1 label.sk-toggleable__label-arrow:hover:before {color: black;}#sk-container-id-1 div.sk-estimator:hover label.sk-toggleable__label-arrow:before {color: black;}#sk-container-id-1 div.sk-toggleable__content {max-height: 0;max-width: 0;overflow: hidden;text-align: left;background-color: #f0f8ff;}#sk-container-id-1 div.sk-toggleable__content pre {margin: 0.2em;color: black;border-radius: 0.25em;background-color: #f0f8ff;}#sk-container-id-1 input.sk-toggleable__control:checked~div.sk-toggleable__content {max-height: 200px;max-width: 100%;overflow: auto;}#sk-container-id-1 input.sk-toggleable__control:checked~label.sk-toggleable__label-arrow:before {content: \"▾\";}#sk-container-id-1 div.sk-estimator input.sk-toggleable__control:checked~label.sk-toggleable__label {background-color: #d4ebff;}#sk-container-id-1 div.sk-label input.sk-toggleable__control:checked~label.sk-toggleable__label {background-color: #d4ebff;}#sk-container-id-1 input.sk-hidden--visually {border: 0;clip: rect(1px 1px 1px 1px);clip: rect(1px, 1px, 1px, 1px);height: 1px;margin: -1px;overflow: hidden;padding: 0;position: absolute;width: 1px;}#sk-container-id-1 div.sk-estimator {font-family: monospace;background-color: #f0f8ff;border: 1px dotted black;border-radius: 0.25em;box-sizing: border-box;margin-bottom: 0.5em;}#sk-container-id-1 div.sk-estimator:hover {background-color: #d4ebff;}#sk-container-id-1 div.sk-parallel-item::after {content: \"\";width: 100%;border-bottom: 1px solid gray;flex-grow: 1;}#sk-container-id-1 div.sk-label:hover label.sk-toggleable__label {background-color: #d4ebff;}#sk-container-id-1 div.sk-serial::before {content: \"\";position: absolute;border-left: 1px solid gray;box-sizing: border-box;top: 0;bottom: 0;left: 50%;z-index: 0;}#sk-container-id-1 div.sk-serial {display: flex;flex-direction: column;align-items: center;background-color: white;padding-right: 0.2em;padding-left: 0.2em;position: relative;}#sk-container-id-1 div.sk-item {position: relative;z-index: 1;}#sk-container-id-1 div.sk-parallel {display: flex;align-items: stretch;justify-content: center;background-color: white;position: relative;}#sk-container-id-1 div.sk-item::before, #sk-container-id-1 div.sk-parallel-item::before {content: \"\";position: absolute;border-left: 1px solid gray;box-sizing: border-box;top: 0;bottom: 0;left: 50%;z-index: -1;}#sk-container-id-1 div.sk-parallel-item {display: flex;flex-direction: column;z-index: 1;position: relative;background-color: white;}#sk-container-id-1 div.sk-parallel-item:first-child::after {align-self: flex-end;width: 50%;}#sk-container-id-1 div.sk-parallel-item:last-child::after {align-self: flex-start;width: 50%;}#sk-container-id-1 div.sk-parallel-item:only-child::after {width: 0;}#sk-container-id-1 div.sk-dashed-wrapped {border: 1px dashed gray;margin: 0 0.4em 0.5em 0.4em;box-sizing: border-box;padding-bottom: 0.4em;background-color: white;}#sk-container-id-1 div.sk-label label {font-family: monospace;font-weight: bold;display: inline-block;line-height: 1.2em;}#sk-container-id-1 div.sk-label-container {text-align: center;}#sk-container-id-1 div.sk-container {/* jupyter's `normalize.less` sets `[hidden] { display: none; }` but bootstrap.min.css set `[hidden] { display: none !important; }` so we also need the `!important` here to be able to override the default hidden behavior on the sphinx rendered scikit-learn.org. See: https://github.com/scikit-learn/scikit-learn/issues/21755 */display: inline-block !important;position: relative;}#sk-container-id-1 div.sk-text-repr-fallback {display: none;}</style><div id=\"sk-container-id-1\" class=\"sk-top-container\"><div class=\"sk-text-repr-fallback\"><pre>LabelEncoder()</pre><b>In a Jupyter environment, please rerun this cell to show the HTML representation or trust the notebook. <br />On GitHub, the HTML representation is unable to render, please try loading this page with nbviewer.org.</b></div><div class=\"sk-container\" hidden><div class=\"sk-item\"><div class=\"sk-estimator sk-toggleable\"><input class=\"sk-toggleable__control sk-hidden--visually\" id=\"sk-estimator-id-1\" type=\"checkbox\" checked><label for=\"sk-estimator-id-1\" class=\"sk-toggleable__label sk-toggleable__label-arrow\">LabelEncoder</label><div class=\"sk-toggleable__content\"><pre>LabelEncoder()</pre></div></div></div></div></div>"
      ],
      "text/plain": [
       "LabelEncoder()"
      ]
     },
     "execution_count": 8,
     "metadata": {},
     "output_type": "execute_result"
    }
   ],
   "source": [
    "le.fit(df[\"Address\"])"
   ]
  },
  {
   "cell_type": "code",
   "execution_count": 9,
   "id": "07d53b8d-73fd-431e-82a8-665bb7c81db4",
   "metadata": {},
   "outputs": [
    {
     "data": {
      "text/plain": [
       "array(['Abazar', 'Abbasabad', 'Absard', 'Abuzar', 'Afsarieh', 'Ahang',\n",
       "       'Air force', 'Ajudaniye', 'Alborz Complex', 'Aliabad South',\n",
       "       'Amir Bahador', 'Amirabad', 'Amirieh', 'Andisheh', 'Aqdasieh',\n",
       "       'Araj', 'Argentina', 'Atabak', 'Azadshahr', 'Azarbaijan', 'Azari',\n",
       "       'Baghestan', 'Bahar', 'Baqershahr', 'Beryanak', 'Boloorsazi',\n",
       "       'Central Janatabad', 'Chahardangeh', 'Chardangeh', 'Chardivari',\n",
       "       'Chidz', 'Damavand', 'Darabad', 'Darakeh', 'Darband', 'Daryan No',\n",
       "       'Dehkade Olampic', 'Dezashib', 'Dolatabad', 'Dorous',\n",
       "       'East Ferdows Boulevard', 'East Pars', 'Ekbatan', 'Ekhtiarieh',\n",
       "       'Elahieh', 'Elm-o-Sanat', 'Enghelab', 'Eram', 'Eskandari',\n",
       "       'Fallah', 'Farmanieh', 'Fatemi', 'Feiz Garden', 'Firoozkooh',\n",
       "       'Firoozkooh Kuhsar', 'Gandhi', 'Garden of Saba', 'Gheitarieh',\n",
       "       'Ghiyamdasht', 'Ghoba', 'Gholhak', 'Gisha', 'Golestan', 'Haft Tir',\n",
       "       'Hakimiyeh', 'Hashemi', 'Hassan Abad', 'Hekmat', 'Heravi',\n",
       "       'Heshmatieh', 'Hor Square', 'Islamshahr', 'Islamshahr Elahieh',\n",
       "       'Javadiyeh', 'Jeyhoon', 'Jordan', 'Kahrizak', 'Kamranieh',\n",
       "       'Karimkhan', 'Karoon', 'Kazemabad', 'Keshavarz Boulevard',\n",
       "       'Khademabad Garden', 'Khavaran', 'Komeil', 'Koohsar', 'Kook',\n",
       "       'Lavasan', 'Lavizan', 'Mahallati', 'Mahmoudieh', 'Majidieh',\n",
       "       'Malard', 'Marzdaran', 'Mehrabad', 'Mehrabad River River',\n",
       "       'Mehran', 'Mirdamad', 'Mirza Shirazi', 'Moniriyeh', 'Narmak',\n",
       "       'Nasim Shahr', 'Nawab', 'Naziabad', 'Nezamabad', 'Niavaran',\n",
       "       'North Program Organization', 'Northern Chitgar',\n",
       "       'Northern Janatabad', 'Northern Suhrawardi', 'Northren Jamalzadeh',\n",
       "       'Ostad Moein', 'Ozgol', 'Pakdasht', 'Pakdasht KhatunAbad',\n",
       "       'Parand', 'Parastar', 'Pardis', 'Pasdaran',\n",
       "       'Persian Gulf Martyrs Lake', 'Pirouzi', 'Pishva', 'Punak',\n",
       "       'Qalandari', 'Qarchak', 'Qasr-od-Dasht', 'Qazvin Imamzadeh Hassan',\n",
       "       'Railway', 'Ray', 'Ray - Montazeri', 'Ray - Pilgosh', 'Razi',\n",
       "       'Republic', 'Robat Karim', 'Rudhen', 'Saadat Abad', 'SabaShahr',\n",
       "       'Sabalan', 'Sadeghieh', 'Safadasht', 'Salehabad', 'Salsabil',\n",
       "       'Sattarkhan', 'Seyed Khandan', 'Shadabad', 'Shahedshahr',\n",
       "       'Shahr-e-Ziba', 'ShahrAra', 'Shahrake Apadana', 'Shahrake Azadi',\n",
       "       'Shahrake Gharb', 'Shahrake Madaen', 'Shahrake Qods',\n",
       "       'Shahrake Quds', 'Shahrake Shahid Bagheri', 'Shahrakeh Naft',\n",
       "       'Shahran', 'Shahryar', 'Shams Abad', 'Shoosh', 'Si Metri Ji',\n",
       "       'Sohanak', 'Southern Chitgar', 'Southern Janatabad',\n",
       "       'Southern Program Organization', 'Southern Suhrawardi', 'Tajrish',\n",
       "       'Tarasht', 'Taslihat', 'Tehran Now', 'Tehransar',\n",
       "       'Telecommunication', 'Tenant', 'Thirteen November', 'Vahidieh',\n",
       "       'Vahidiyeh', 'Valiasr', 'Vanak', 'Varamin - Beheshti', 'Velenjak',\n",
       "       'Villa', 'Water Organization', 'Waterfall',\n",
       "       'West Ferdows Boulevard', 'West Pars', 'Yaftabad', 'Yakhchiabad',\n",
       "       'Yousef Abad', 'Zafar', 'Zaferanieh', 'Zargandeh', 'Zibadasht',\n",
       "       nan], dtype=object)"
      ]
     },
     "execution_count": 9,
     "metadata": {},
     "output_type": "execute_result"
    }
   ],
   "source": [
    "le.classes_"
   ]
  },
  {
   "cell_type": "markdown",
   "id": "5707b003-e7f0-4851-983f-8908832ed96f",
   "metadata": {},
   "source": [
    "یادگیری انجام شده را پس از تبدیل در همان ستون ذخیره می کند."
   ]
  },
  {
   "cell_type": "code",
   "execution_count": 10,
   "id": "4d436390-4f1e-4765-ae0d-98b9250c53b9",
   "metadata": {},
   "outputs": [],
   "source": [
    "df['Address'] = le.transform(df['Address'])"
   ]
  },
  {
   "cell_type": "markdown",
   "id": "861c8ddd-1f21-4f2c-88a5-785ee859dbd6",
   "metadata": {},
   "source": [
    "مشاهده ۵ سطر اول دیتا فریم"
   ]
  },
  {
   "cell_type": "code",
   "execution_count": 11,
   "id": "580141f2-80d5-4fae-bd64-52fbcc95c7fd",
   "metadata": {},
   "outputs": [
    {
     "data": {
      "text/html": [
       "<div>\n",
       "<style scoped>\n",
       "    .dataframe tbody tr th:only-of-type {\n",
       "        vertical-align: middle;\n",
       "    }\n",
       "\n",
       "    .dataframe tbody tr th {\n",
       "        vertical-align: top;\n",
       "    }\n",
       "\n",
       "    .dataframe thead th {\n",
       "        text-align: right;\n",
       "    }\n",
       "</style>\n",
       "<table border=\"1\" class=\"dataframe\">\n",
       "  <thead>\n",
       "    <tr style=\"text-align: right;\">\n",
       "      <th></th>\n",
       "      <th>Area</th>\n",
       "      <th>Room</th>\n",
       "      <th>Parking</th>\n",
       "      <th>Warehouse</th>\n",
       "      <th>Elevator</th>\n",
       "      <th>Address</th>\n",
       "      <th>Price</th>\n",
       "      <th>Price(USD)</th>\n",
       "    </tr>\n",
       "  </thead>\n",
       "  <tbody>\n",
       "    <tr>\n",
       "      <th>0</th>\n",
       "      <td>63</td>\n",
       "      <td>1</td>\n",
       "      <td>True</td>\n",
       "      <td>True</td>\n",
       "      <td>True</td>\n",
       "      <td>156</td>\n",
       "      <td>1.850000e+09</td>\n",
       "      <td>61666.67</td>\n",
       "    </tr>\n",
       "    <tr>\n",
       "      <th>1</th>\n",
       "      <td>60</td>\n",
       "      <td>1</td>\n",
       "      <td>True</td>\n",
       "      <td>True</td>\n",
       "      <td>True</td>\n",
       "      <td>156</td>\n",
       "      <td>1.850000e+09</td>\n",
       "      <td>61666.67</td>\n",
       "    </tr>\n",
       "    <tr>\n",
       "      <th>2</th>\n",
       "      <td>79</td>\n",
       "      <td>2</td>\n",
       "      <td>True</td>\n",
       "      <td>True</td>\n",
       "      <td>True</td>\n",
       "      <td>117</td>\n",
       "      <td>5.500000e+08</td>\n",
       "      <td>18333.33</td>\n",
       "    </tr>\n",
       "    <tr>\n",
       "      <th>3</th>\n",
       "      <td>95</td>\n",
       "      <td>2</td>\n",
       "      <td>True</td>\n",
       "      <td>True</td>\n",
       "      <td>True</td>\n",
       "      <td>152</td>\n",
       "      <td>9.025000e+08</td>\n",
       "      <td>30083.33</td>\n",
       "    </tr>\n",
       "    <tr>\n",
       "      <th>4</th>\n",
       "      <td>123</td>\n",
       "      <td>2</td>\n",
       "      <td>True</td>\n",
       "      <td>True</td>\n",
       "      <td>True</td>\n",
       "      <td>150</td>\n",
       "      <td>7.000000e+09</td>\n",
       "      <td>233333.33</td>\n",
       "    </tr>\n",
       "  </tbody>\n",
       "</table>\n",
       "</div>"
      ],
      "text/plain": [
       "  Area  Room  Parking  Warehouse  Elevator  Address         Price  Price(USD)\n",
       "0   63     1     True       True      True      156  1.850000e+09    61666.67\n",
       "1   60     1     True       True      True      156  1.850000e+09    61666.67\n",
       "2   79     2     True       True      True      117  5.500000e+08    18333.33\n",
       "3   95     2     True       True      True      152  9.025000e+08    30083.33\n",
       "4  123     2     True       True      True      150  7.000000e+09   233333.33"
      ]
     },
     "execution_count": 11,
     "metadata": {},
     "output_type": "execute_result"
    }
   ],
   "source": [
    "df.head()"
   ]
  },
  {
   "cell_type": "markdown",
   "id": "f84de89b-55dd-43d6-9b8f-7281e8500f15",
   "metadata": {},
   "source": [
    "حذف ستون قیمت"
   ]
  },
  {
   "cell_type": "code",
   "execution_count": 12,
   "id": "3ab82c42-5b33-4e03-9b66-cf64b4344e29",
   "metadata": {},
   "outputs": [],
   "source": [
    "df.drop([\"Price\"], axis=1, inplace=True)"
   ]
  },
  {
   "cell_type": "markdown",
   "id": "a8bff2e8-34fc-4595-a9d1-b52ed8097e8f",
   "metadata": {},
   "source": [
    "ابعاد دیتافریم را نشان می دهد."
   ]
  },
  {
   "cell_type": "code",
   "execution_count": 13,
   "id": "7ef85ef6-537b-4b14-8499-45283b500ed3",
   "metadata": {},
   "outputs": [
    {
     "data": {
      "text/plain": [
       "(3479, 7)"
      ]
     },
     "execution_count": 13,
     "metadata": {},
     "output_type": "execute_result"
    }
   ],
   "source": [
    "df.shape"
   ]
  },
  {
   "cell_type": "markdown",
   "id": "fbaed78d-ce45-42e7-b3af-b18b15ff7e56",
   "metadata": {},
   "source": [
    "مشاهده اطلاعات دیتا فریم"
   ]
  },
  {
   "cell_type": "code",
   "execution_count": 14,
   "id": "2deec2a6-4032-4993-807e-0368ddd68d8f",
   "metadata": {},
   "outputs": [
    {
     "name": "stdout",
     "output_type": "stream",
     "text": [
      "<class 'pandas.core.frame.DataFrame'>\n",
      "RangeIndex: 3479 entries, 0 to 3478\n",
      "Data columns (total 7 columns):\n",
      " #   Column      Non-Null Count  Dtype  \n",
      "---  ------      --------------  -----  \n",
      " 0   Area        3479 non-null   object \n",
      " 1   Room        3479 non-null   int64  \n",
      " 2   Parking     3479 non-null   bool   \n",
      " 3   Warehouse   3479 non-null   bool   \n",
      " 4   Elevator    3479 non-null   bool   \n",
      " 5   Address     3479 non-null   int64  \n",
      " 6   Price(USD)  3479 non-null   float64\n",
      "dtypes: bool(3), float64(1), int64(2), object(1)\n",
      "memory usage: 119.0+ KB\n"
     ]
    }
   ],
   "source": [
    "df.info()"
   ]
  },
  {
   "cell_type": "markdown",
   "id": "64b4ee9a-36c0-480b-a814-1651890735a6",
   "metadata": {},
   "source": [
    "مشاهده و انجام یکسری عملیات آماری روی دیتا فریم مثل میانگین وغیره"
   ]
  },
  {
   "cell_type": "code",
   "execution_count": 18,
   "id": "2943df7c-484e-4bd2-add4-067c9534f543",
   "metadata": {},
   "outputs": [
    {
     "data": {
      "text/html": [
       "<div>\n",
       "<style scoped>\n",
       "    .dataframe tbody tr th:only-of-type {\n",
       "        vertical-align: middle;\n",
       "    }\n",
       "\n",
       "    .dataframe tbody tr th {\n",
       "        vertical-align: top;\n",
       "    }\n",
       "\n",
       "    .dataframe thead th {\n",
       "        text-align: right;\n",
       "    }\n",
       "</style>\n",
       "<table border=\"1\" class=\"dataframe\">\n",
       "  <thead>\n",
       "    <tr style=\"text-align: right;\">\n",
       "      <th></th>\n",
       "      <th>Room</th>\n",
       "      <th>Address</th>\n",
       "      <th>Price(USD)</th>\n",
       "    </tr>\n",
       "  </thead>\n",
       "  <tbody>\n",
       "    <tr>\n",
       "      <th>count</th>\n",
       "      <td>3479.000000</td>\n",
       "      <td>3479.000000</td>\n",
       "      <td>3.479000e+03</td>\n",
       "    </tr>\n",
       "    <tr>\n",
       "      <th>mean</th>\n",
       "      <td>2.079908</td>\n",
       "      <td>105.536648</td>\n",
       "      <td>1.786341e+05</td>\n",
       "    </tr>\n",
       "    <tr>\n",
       "      <th>std</th>\n",
       "      <td>0.758275</td>\n",
       "      <td>50.653530</td>\n",
       "      <td>2.699978e+05</td>\n",
       "    </tr>\n",
       "    <tr>\n",
       "      <th>min</th>\n",
       "      <td>0.000000</td>\n",
       "      <td>0.000000</td>\n",
       "      <td>1.200000e+02</td>\n",
       "    </tr>\n",
       "    <tr>\n",
       "      <th>25%</th>\n",
       "      <td>2.000000</td>\n",
       "      <td>62.000000</td>\n",
       "      <td>4.727500e+04</td>\n",
       "    </tr>\n",
       "    <tr>\n",
       "      <th>50%</th>\n",
       "      <td>2.000000</td>\n",
       "      <td>117.000000</td>\n",
       "      <td>9.666667e+04</td>\n",
       "    </tr>\n",
       "    <tr>\n",
       "      <th>75%</th>\n",
       "      <td>2.000000</td>\n",
       "      <td>146.000000</td>\n",
       "      <td>2.000000e+05</td>\n",
       "    </tr>\n",
       "    <tr>\n",
       "      <th>max</th>\n",
       "      <td>5.000000</td>\n",
       "      <td>192.000000</td>\n",
       "      <td>3.080000e+06</td>\n",
       "    </tr>\n",
       "  </tbody>\n",
       "</table>\n",
       "</div>"
      ],
      "text/plain": [
       "              Room      Address    Price(USD)\n",
       "count  3479.000000  3479.000000  3.479000e+03\n",
       "mean      2.079908   105.536648  1.786341e+05\n",
       "std       0.758275    50.653530  2.699978e+05\n",
       "min       0.000000     0.000000  1.200000e+02\n",
       "25%       2.000000    62.000000  4.727500e+04\n",
       "50%       2.000000   117.000000  9.666667e+04\n",
       "75%       2.000000   146.000000  2.000000e+05\n",
       "max       5.000000   192.000000  3.080000e+06"
      ]
     },
     "execution_count": 18,
     "metadata": {},
     "output_type": "execute_result"
    }
   ],
   "source": [
    "df.describe()"
   ]
  },
  {
   "cell_type": "markdown",
   "id": "1248f8d6-d5a4-4c1e-ad31-4356e8b561af",
   "metadata": {},
   "source": [
    "تبدیل متغیر آبجکت به عددی"
   ]
  },
  {
   "cell_type": "code",
   "execution_count": 23,
   "id": "d8ecfc7a-1d6c-4c67-9d46-596d4e614d24",
   "metadata": {},
   "outputs": [
    {
     "ename": "ValueError",
     "evalue": "Unable to parse string \" 3,310,000,000 \" at position 570",
     "output_type": "error",
     "traceback": [
      "\u001b[0;31m---------------------------------------------------------------------------\u001b[0m",
      "\u001b[0;31mValueError\u001b[0m                                Traceback (most recent call last)",
      "File \u001b[0;32mlib.pyx:2368\u001b[0m, in \u001b[0;36mpandas._libs.lib.maybe_convert_numeric\u001b[0;34m()\u001b[0m\n",
      "\u001b[0;31mValueError\u001b[0m: Unable to parse string \" 3,310,000,000 \"",
      "\nDuring handling of the above exception, another exception occurred:\n",
      "\u001b[0;31mValueError\u001b[0m                                Traceback (most recent call last)",
      "Cell \u001b[0;32mIn[23], line 1\u001b[0m\n\u001b[0;32m----> 1\u001b[0m \u001b[43mpd\u001b[49m\u001b[38;5;241;43m.\u001b[39;49m\u001b[43mto_numeric\u001b[49m\u001b[43m(\u001b[49m\u001b[43mdf\u001b[49m\u001b[43m[\u001b[49m\u001b[38;5;124;43m'\u001b[39;49m\u001b[38;5;124;43mArea\u001b[39;49m\u001b[38;5;124;43m'\u001b[39;49m\u001b[43m]\u001b[49m\u001b[43m)\u001b[49m\n",
      "File \u001b[0;32m~/miniconda3/lib/python3.11/site-packages/pandas/core/tools/numeric.py:222\u001b[0m, in \u001b[0;36mto_numeric\u001b[0;34m(arg, errors, downcast, dtype_backend)\u001b[0m\n\u001b[1;32m    220\u001b[0m coerce_numeric \u001b[38;5;241m=\u001b[39m errors \u001b[38;5;129;01mnot\u001b[39;00m \u001b[38;5;129;01min\u001b[39;00m (\u001b[38;5;124m\"\u001b[39m\u001b[38;5;124mignore\u001b[39m\u001b[38;5;124m\"\u001b[39m, \u001b[38;5;124m\"\u001b[39m\u001b[38;5;124mraise\u001b[39m\u001b[38;5;124m\"\u001b[39m)\n\u001b[1;32m    221\u001b[0m \u001b[38;5;28;01mtry\u001b[39;00m:\n\u001b[0;32m--> 222\u001b[0m     values, new_mask \u001b[38;5;241m=\u001b[39m \u001b[43mlib\u001b[49m\u001b[38;5;241;43m.\u001b[39;49m\u001b[43mmaybe_convert_numeric\u001b[49m\u001b[43m(\u001b[49m\u001b[43m  \u001b[49m\u001b[38;5;66;43;03m# type: ignore[call-overload]  # noqa: E501\u001b[39;49;00m\n\u001b[1;32m    223\u001b[0m \u001b[43m        \u001b[49m\u001b[43mvalues\u001b[49m\u001b[43m,\u001b[49m\n\u001b[1;32m    224\u001b[0m \u001b[43m        \u001b[49m\u001b[38;5;28;43mset\u001b[39;49m\u001b[43m(\u001b[49m\u001b[43m)\u001b[49m\u001b[43m,\u001b[49m\n\u001b[1;32m    225\u001b[0m \u001b[43m        \u001b[49m\u001b[43mcoerce_numeric\u001b[49m\u001b[38;5;241;43m=\u001b[39;49m\u001b[43mcoerce_numeric\u001b[49m\u001b[43m,\u001b[49m\n\u001b[1;32m    226\u001b[0m \u001b[43m        \u001b[49m\u001b[43mconvert_to_masked_nullable\u001b[49m\u001b[38;5;241;43m=\u001b[39;49m\u001b[43mdtype_backend\u001b[49m\u001b[43m \u001b[49m\u001b[38;5;129;43;01mis\u001b[39;49;00m\u001b[43m \u001b[49m\u001b[38;5;129;43;01mnot\u001b[39;49;00m\u001b[43m \u001b[49m\u001b[43mlib\u001b[49m\u001b[38;5;241;43m.\u001b[39;49m\u001b[43mno_default\u001b[49m\n\u001b[1;32m    227\u001b[0m \u001b[43m        \u001b[49m\u001b[38;5;129;43;01mor\u001b[39;49;00m\u001b[43m \u001b[49m\u001b[38;5;28;43misinstance\u001b[39;49m\u001b[43m(\u001b[49m\u001b[43mvalues_dtype\u001b[49m\u001b[43m,\u001b[49m\u001b[43m \u001b[49m\u001b[43mStringDtype\u001b[49m\u001b[43m)\u001b[49m\u001b[43m,\u001b[49m\n\u001b[1;32m    228\u001b[0m \u001b[43m    \u001b[49m\u001b[43m)\u001b[49m\n\u001b[1;32m    229\u001b[0m \u001b[38;5;28;01mexcept\u001b[39;00m (\u001b[38;5;167;01mValueError\u001b[39;00m, \u001b[38;5;167;01mTypeError\u001b[39;00m):\n\u001b[1;32m    230\u001b[0m     \u001b[38;5;28;01mif\u001b[39;00m errors \u001b[38;5;241m==\u001b[39m \u001b[38;5;124m\"\u001b[39m\u001b[38;5;124mraise\u001b[39m\u001b[38;5;124m\"\u001b[39m:\n",
      "File \u001b[0;32mlib.pyx:2410\u001b[0m, in \u001b[0;36mpandas._libs.lib.maybe_convert_numeric\u001b[0;34m()\u001b[0m\n",
      "\u001b[0;31mValueError\u001b[0m: Unable to parse string \" 3,310,000,000 \" at position 570"
     ]
    }
   ],
   "source": [
    "pd.to_numeric(df['Area'])"
   ]
  },
  {
   "cell_type": "markdown",
   "id": "dfeb58fe-5094-4c1b-a8b3-936787068c6e",
   "metadata": {},
   "source": [
    "حذف سطرهایی که داده های پرت دارند"
   ]
  },
  {
   "cell_type": "code",
   "execution_count": 24,
   "id": "895819e6-5e25-4dcb-85fc-ae61d186f372",
   "metadata": {},
   "outputs": [],
   "source": [
    "df[\"Area\"] = df['Area'].drop([570, 709, 807, 1604, 2171, 2802])"
   ]
  },
  {
   "cell_type": "markdown",
   "id": "3ea0b6b7-e377-4d50-91b9-de43e3a42599",
   "metadata": {},
   "source": [
    "تبدیل ستون مساحت که نوع آن آبجکت بود به ماتریس عددی در پانداس"
   ]
  },
  {
   "cell_type": "code",
   "execution_count": 25,
   "id": "69bbe492-6333-40a6-837d-ca07e3fe7235",
   "metadata": {},
   "outputs": [
    {
     "data": {
      "text/plain": [
       "0        63.0\n",
       "1        60.0\n",
       "2        79.0\n",
       "3        95.0\n",
       "4       123.0\n",
       "        ...  \n",
       "3474     86.0\n",
       "3475     83.0\n",
       "3476     75.0\n",
       "3477    105.0\n",
       "3478     82.0\n",
       "Name: Area, Length: 3479, dtype: float64"
      ]
     },
     "execution_count": 25,
     "metadata": {},
     "output_type": "execute_result"
    }
   ],
   "source": [
    "pd.to_numeric(df['Area'])"
   ]
  },
  {
   "cell_type": "code",
   "execution_count": 26,
   "id": "08494995-a8bd-498e-9ead-1ac3702b1209",
   "metadata": {},
   "outputs": [
    {
     "name": "stdout",
     "output_type": "stream",
     "text": [
      "<class 'pandas.core.frame.DataFrame'>\n",
      "RangeIndex: 3479 entries, 0 to 3478\n",
      "Data columns (total 7 columns):\n",
      " #   Column      Non-Null Count  Dtype  \n",
      "---  ------      --------------  -----  \n",
      " 0   Area        3473 non-null   object \n",
      " 1   Room        3479 non-null   int64  \n",
      " 2   Parking     3479 non-null   bool   \n",
      " 3   Warehouse   3479 non-null   bool   \n",
      " 4   Elevator    3479 non-null   bool   \n",
      " 5   Address     3479 non-null   int64  \n",
      " 6   Price(USD)  3479 non-null   float64\n",
      "dtypes: bool(3), float64(1), int64(2), object(1)\n",
      "memory usage: 119.0+ KB\n"
     ]
    }
   ],
   "source": [
    "df.info()"
   ]
  },
  {
   "cell_type": "code",
   "execution_count": 27,
   "id": "ae05c9e8-e0a5-4b7f-856f-dab1557d8b85",
   "metadata": {},
   "outputs": [],
   "source": [
    "df.dropna(inplace=True)"
   ]
  },
  {
   "cell_type": "markdown",
   "id": "9ba8da26-c77d-4e4c-8f83-880724fa2974",
   "metadata": {},
   "source": [
    "نمایش نمودار هیستوگرام برای داده های قیمت"
   ]
  },
  {
   "cell_type": "code",
   "execution_count": 28,
   "id": "ba9e97ea-5e8b-4a86-95bb-01e060b6febf",
   "metadata": {},
   "outputs": [
    {
     "data": {
      "text/plain": [
       "<Axes: >"
      ]
     },
     "execution_count": 28,
     "metadata": {},
     "output_type": "execute_result"
    },
    {
     "data": {
      "image/png": "[encoded data removed]",
      "text/plain": [
       "<Figure size 640x480 with 1 Axes>"
      ]
     },
     "metadata": {},
     "output_type": "display_data"
    }
   ],
   "source": [
    "df[\"Price(USD)\"].hist(bins=80)"
   ]
  },
  {
   "cell_type": "markdown",
   "id": "a5122b31-2d76-4421-a5a6-e9a73dbd81c5",
   "metadata": {},
   "source": [
    "نمایش ستون اتاق"
   ]
  },
  {
   "cell_type": "code",
   "execution_count": 29,
   "id": "3a52cf48-19bf-44b9-aa1b-9229c6bd09dd",
   "metadata": {},
   "outputs": [
    {
     "data": {
      "text/plain": [
       "0       1\n",
       "1       1\n",
       "2       2\n",
       "3       2\n",
       "4       2\n",
       "       ..\n",
       "3474    2\n",
       "3475    2\n",
       "3476    2\n",
       "3477    2\n",
       "3478    2\n",
       "Name: Room, Length: 3473, dtype: int64"
      ]
     },
     "execution_count": 29,
     "metadata": {},
     "output_type": "execute_result"
    }
   ],
   "source": [
    "df[\"Room\"]"
   ]
  },
  {
   "cell_type": "markdown",
   "id": "473f1de7-86f9-4cfc-880c-24361f4c7ca2",
   "metadata": {},
   "source": [
    " دیتافریم را به ماتریس نامپای تبدیل می کند و از سطراول تا آخر و ستون اول تا یکی مانده به آخر دیتافریم را در ماتریس نامپای در متغیر‌ی ذخیره می کند "
   ]
  },
  {
   "cell_type": "code",
   "execution_count": 30,
   "id": "4f695b37-2390-40e8-ac76-1d36b5dded93",
   "metadata": {},
   "outputs": [],
   "source": [
    "X = df.iloc[:, :-1].values"
   ]
  },
  {
   "cell_type": "markdown",
   "id": "9d27eac2-6967-48fc-b835-abeda1e7fe57",
   "metadata": {},
   "source": [
    "ابعاد ماتریس مشخص میکندshapeمتد "
   ]
  },
  {
   "cell_type": "code",
   "execution_count": 31,
   "id": "9c006329-e50c-486a-a928-845c227b65ed",
   "metadata": {},
   "outputs": [
    {
     "data": {
      "text/plain": [
       "(3473, 6)"
      ]
     },
     "execution_count": 31,
     "metadata": {},
     "output_type": "execute_result"
    }
   ],
   "source": [
    "X.shape"
   ]
  },
  {
   "cell_type": "code",
   "execution_count": 37,
   "id": "b5377a05-1cdc-4d7e-9c3c-234d514a4280",
   "metadata": {},
   "outputs": [
    {
     "data": {
      "text/plain": [
       "array([['63', 1, True, True, True, 156],\n",
       "       ['60', 1, True, True, True, 156],\n",
       "       ['79', 2, True, True, True, 117],\n",
       "       ...,\n",
       "       ['75', 2, False, False, False, 115],\n",
       "       ['105', 2, True, True, True, 39],\n",
       "       ['82', 2, False, True, True, 115]], dtype=object)"
      ]
     },
     "execution_count": 37,
     "metadata": {},
     "output_type": "execute_result"
    }
   ],
   "source": [
    "X"
   ]
  },
  {
   "cell_type": "markdown",
   "id": "d73bf0b3-9c12-491b-9928-e2f47787ce62",
   "metadata": {},
   "source": [
    ".ستون آخری دیتافریم را به ماتریس نامپای تبدیل می کند و در متغیری ذخیره می کند"
   ]
  },
  {
   "cell_type": "code",
   "execution_count": 32,
   "id": "d3475973-a407-4ab4-9567-de08b16c440c",
   "metadata": {},
   "outputs": [],
   "source": [
    "y = df.iloc[:, -1].values"
   ]
  },
  {
   "cell_type": "code",
   "execution_count": 70,
   "id": "1688145b-88f3-4b40-9642-bcc7bb381939",
   "metadata": {},
   "outputs": [
    {
     "data": {
      "text/plain": [
       "array([ 61666.67,  61666.67,  18333.33, ...,  12166.67, 186666.67,\n",
       "        12000.  ])"
      ]
     },
     "execution_count": 70,
     "metadata": {},
     "output_type": "execute_result"
    }
   ],
   "source": [
    "y"
   ]
  },
  {
   "cell_type": "code",
   "execution_count": 33,
   "id": "a19082e3-2299-448b-a4f3-7fb4679b7004",
   "metadata": {},
   "outputs": [
    {
     "data": {
      "text/plain": [
       "(3473,)"
      ]
     },
     "execution_count": 33,
     "metadata": {},
     "output_type": "execute_result"
    }
   ],
   "source": [
    "y.shape"
   ]
  },
  {
   "cell_type": "markdown",
   "id": "97128436-0430-41df-a0aa-94112a959675",
   "metadata": {},
   "source": [
    "  و پکیج مورد نظر برای داده های آموزشیsklearn اضافه کردن کتابخانه"
   ]
  },
  {
   "cell_type": "code",
   "execution_count": 34,
   "id": "41fbbbaa-a243-434e-9f40-69d0855078c9",
   "metadata": {},
   "outputs": [],
   "source": [
    "from sklearn.model_selection import train_test_split"
   ]
  },
  {
   "cell_type": "markdown",
   "id": "bc042ce7-dfee-4830-9489-ca965db0d025",
   "metadata": {},
   "source": [
    "انتخاب مقداری از داده ها بعنوان مجموعه آموزشی و مجموعه تست. بخش آموزش شامل 80 درصد داده ها و بخش تست شامل 20 درصد داده ها است. "
   ]
  },
  {
   "cell_type": "code",
   "execution_count": 35,
   "id": "9da0af7f-9a4b-4441-b29a-f9859ced079c",
   "metadata": {},
   "outputs": [],
   "source": [
    "X_train, X_test, y_train, y_test = train_test_split(X, y)"
   ]
  },
  {
   "cell_type": "code",
   "execution_count": 36,
   "id": "c88450fd-2593-435b-b99e-57fb2df84d51",
   "metadata": {},
   "outputs": [
    {
     "data": {
      "text/plain": [
       "((2604, 6), (2604,))"
      ]
     },
     "execution_count": 36,
     "metadata": {},
     "output_type": "execute_result"
    }
   ],
   "source": [
    "X_train.shape, y_train.shape"
   ]
  },
  {
   "cell_type": "code",
   "execution_count": 37,
   "id": "cbe4edeb-5729-45bd-9cf0-b6aa65bee89e",
   "metadata": {},
   "outputs": [
    {
     "data": {
      "text/plain": [
       "((869, 6), (869,))"
      ]
     },
     "execution_count": 37,
     "metadata": {},
     "output_type": "execute_result"
    }
   ],
   "source": [
    "X_test.shape, y_test.shape"
   ]
  },
  {
   "cell_type": "markdown",
   "id": "6917d645-8eaf-4ff8-9fb0-69d096beb7a6",
   "metadata": {},
   "source": [
    " برای بکارگیری الگوریتم رگرسیون خطی sklearn استفاده از پکیج رگرسیون خطی از کتابخانه"
   ]
  },
  {
   "cell_type": "code",
   "execution_count": 38,
   "id": "68cc6780-97ac-4d9a-ab85-2126be3c1056",
   "metadata": {},
   "outputs": [],
   "source": [
    "from sklearn.linear_model import LinearRegression"
   ]
  },
  {
   "cell_type": "code",
   "execution_count": 39,
   "id": "1f3e63b5-2ec4-401d-ad13-12c733bd48bc",
   "metadata": {},
   "outputs": [],
   "source": [
    "lr = LinearRegression()"
   ]
  },
  {
   "cell_type": "markdown",
   "id": "0e7ebecf-6c61-4079-9cd8-cc9768cd915b",
   "metadata": {},
   "source": [
    "برای یادگرفتن و فرمول ها و کارهایی که قرار است روی داده آموزشی انجام شود تا یادگیری انجام شودfitمتد "
   ]
  },
  {
   "cell_type": "code",
   "execution_count": 40,
   "id": "640a085d-fad7-45a6-bd5f-e12f677695b3",
   "metadata": {},
   "outputs": [
    {
     "data": {
      "text/html": [
       "<style>#sk-container-id-2 {color: black;}#sk-container-id-2 pre{padding: 0;}#sk-container-id-2 div.sk-toggleable {background-color: white;}#sk-container-id-2 label.sk-toggleable__label {cursor: pointer;display: block;width: 100%;margin-bottom: 0;padding: 0.3em;box-sizing: border-box;text-align: center;}#sk-container-id-2 label.sk-toggleable__label-arrow:before {content: \"▸\";float: left;margin-right: 0.25em;color: #696969;}#sk-container-id-2 label.sk-toggleable__label-arrow:hover:before {color: black;}#sk-container-id-2 div.sk-estimator:hover label.sk-toggleable__label-arrow:before {color: black;}#sk-container-id-2 div.sk-toggleable__content {max-height: 0;max-width: 0;overflow: hidden;text-align: left;background-color: #f0f8ff;}#sk-container-id-2 div.sk-toggleable__content pre {margin: 0.2em;color: black;border-radius: 0.25em;background-color: #f0f8ff;}#sk-container-id-2 input.sk-toggleable__control:checked~div.sk-toggleable__content {max-height: 200px;max-width: 100%;overflow: auto;}#sk-container-id-2 input.sk-toggleable__control:checked~label.sk-toggleable__label-arrow:before {content: \"▾\";}#sk-container-id-2 div.sk-estimator input.sk-toggleable__control:checked~label.sk-toggleable__label {background-color: #d4ebff;}#sk-container-id-2 div.sk-label input.sk-toggleable__control:checked~label.sk-toggleable__label {background-color: #d4ebff;}#sk-container-id-2 input.sk-hidden--visually {border: 0;clip: rect(1px 1px 1px 1px);clip: rect(1px, 1px, 1px, 1px);height: 1px;margin: -1px;overflow: hidden;padding: 0;position: absolute;width: 1px;}#sk-container-id-2 div.sk-estimator {font-family: monospace;background-color: #f0f8ff;border: 1px dotted black;border-radius: 0.25em;box-sizing: border-box;margin-bottom: 0.5em;}#sk-container-id-2 div.sk-estimator:hover {background-color: #d4ebff;}#sk-container-id-2 div.sk-parallel-item::after {content: \"\";width: 100%;border-bottom: 1px solid gray;flex-grow: 1;}#sk-container-id-2 div.sk-label:hover label.sk-toggleable__label {background-color: #d4ebff;}#sk-container-id-2 div.sk-serial::before {content: \"\";position: absolute;border-left: 1px solid gray;box-sizing: border-box;top: 0;bottom: 0;left: 50%;z-index: 0;}#sk-container-id-2 div.sk-serial {display: flex;flex-direction: column;align-items: center;background-color: white;padding-right: 0.2em;padding-left: 0.2em;position: relative;}#sk-container-id-2 div.sk-item {position: relative;z-index: 1;}#sk-container-id-2 div.sk-parallel {display: flex;align-items: stretch;justify-content: center;background-color: white;position: relative;}#sk-container-id-2 div.sk-item::before, #sk-container-id-2 div.sk-parallel-item::before {content: \"\";position: absolute;border-left: 1px solid gray;box-sizing: border-box;top: 0;bottom: 0;left: 50%;z-index: -1;}#sk-container-id-2 div.sk-parallel-item {display: flex;flex-direction: column;z-index: 1;position: relative;background-color: white;}#sk-container-id-2 div.sk-parallel-item:first-child::after {align-self: flex-end;width: 50%;}#sk-container-id-2 div.sk-parallel-item:last-child::after {align-self: flex-start;width: 50%;}#sk-container-id-2 div.sk-parallel-item:only-child::after {width: 0;}#sk-container-id-2 div.sk-dashed-wrapped {border: 1px dashed gray;margin: 0 0.4em 0.5em 0.4em;box-sizing: border-box;padding-bottom: 0.4em;background-color: white;}#sk-container-id-2 div.sk-label label {font-family: monospace;font-weight: bold;display: inline-block;line-height: 1.2em;}#sk-container-id-2 div.sk-label-container {text-align: center;}#sk-container-id-2 div.sk-container {/* jupyter's `normalize.less` sets `[hidden] { display: none; }` but bootstrap.min.css set `[hidden] { display: none !important; }` so we also need the `!important` here to be able to override the default hidden behavior on the sphinx rendered scikit-learn.org. See: https://github.com/scikit-learn/scikit-learn/issues/21755 */display: inline-block !important;position: relative;}#sk-container-id-2 div.sk-text-repr-fallback {display: none;}</style><div id=\"sk-container-id-2\" class=\"sk-top-container\"><div class=\"sk-text-repr-fallback\"><pre>LinearRegression()</pre><b>In a Jupyter environment, please rerun this cell to show the HTML representation or trust the notebook. <br />On GitHub, the HTML representation is unable to render, please try loading this page with nbviewer.org.</b></div><div class=\"sk-container\" hidden><div class=\"sk-item\"><div class=\"sk-estimator sk-toggleable\"><input class=\"sk-toggleable__control sk-hidden--visually\" id=\"sk-estimator-id-2\" type=\"checkbox\" checked><label for=\"sk-estimator-id-2\" class=\"sk-toggleable__label sk-toggleable__label-arrow\">LinearRegression</label><div class=\"sk-toggleable__content\"><pre>LinearRegression()</pre></div></div></div></div></div>"
      ],
      "text/plain": [
       "LinearRegression()"
      ]
     },
     "execution_count": 40,
     "metadata": {},
     "output_type": "execute_result"
    }
   ],
   "source": [
    "lr.fit(X_train, y_train)"
   ]
  },
  {
   "cell_type": "markdown",
   "id": "017a713c-fe69-4b9f-ab79-73080b88d58a",
   "metadata": {},
   "source": [
    "بدست آوردن ضریب ویژگیها یا همان وزن"
   ]
  },
  {
   "cell_type": "code",
   "execution_count": 41,
   "id": "10b51e75-b94c-4e18-9de3-6ae325abf922",
   "metadata": {},
   "outputs": [
    {
     "data": {
      "text/plain": [
       "array([ 2361.47219363, 50320.7772594 , -7204.9719861 , 36931.80306697,\n",
       "       36150.47802106,    62.18763294])"
      ]
     },
     "execution_count": 41,
     "metadata": {},
     "output_type": "execute_result"
    }
   ],
   "source": [
    "# y = (w0x0 + w1x1 + w2x2 + w3x3 + w4x4 + w5x5) + b, x0=1\n",
    "lr.coef_ "
   ]
  },
  {
   "cell_type": "markdown",
   "id": "a97bfd89-3a81-4ec8-8bdc-ad075dbdb206",
   "metadata": {},
   "source": [
    "بدست آوردن مقدار بایاس"
   ]
  },
  {
   "cell_type": "code",
   "execution_count": 42,
   "id": "30b5e021-8d66-44a1-9027-8427d5d85f16",
   "metadata": {},
   "outputs": [
    {
     "data": {
      "text/plain": [
       "-240321.66555144987"
      ]
     },
     "execution_count": 42,
     "metadata": {},
     "output_type": "execute_result"
    }
   ],
   "source": [
    "lr.intercept_# is the b(w0)"
   ]
  },
  {
   "cell_type": "markdown",
   "id": "8ffa721d-4b36-443a-aebb-2e9df5709a0c",
   "metadata": {},
   "source": [
    "برای اینکه بفهمیم مدل ما تاچه اندازه داده های آموزشی را می فهمد"
   ]
  },
  {
   "cell_type": "code",
   "execution_count": 43,
   "id": "c295b389-4263-48cb-9b84-b8ca3075e13e",
   "metadata": {},
   "outputs": [
    {
     "data": {
      "text/plain": [
       "0.51824302796679"
      ]
     },
     "execution_count": 43,
     "metadata": {},
     "output_type": "execute_result"
    }
   ],
   "source": [
    "lr.score(X_train, y_train) #54%"
   ]
  },
  {
   "cell_type": "markdown",
   "id": "c257af2c-3fa0-4c55-9679-08e9cd6a5901",
   "metadata": {},
   "source": [
    "برای درک اینکه مدل چگونه اشتباه می کند می توانیم از داده های تست برای پیش بینی استفاده کنیم "
   ]
  },
  {
   "cell_type": "code",
   "execution_count": 44,
   "id": "21133e47-041e-4e09-a73c-b91cd24b6120",
   "metadata": {
    "scrolled": true
   },
   "outputs": [],
   "source": [
    "y_pred = lr.predict(X_test)#"
   ]
  },
  {
   "cell_type": "markdown",
   "id": "06380b4d-e8b5-4087-9e92-2cf9958439f1",
   "metadata": {},
   "source": [
    " برای گزارش میزان خطاsklearn کتابخانهmean_absolute_erroاستفاده از پکیج "
   ]
  },
  {
   "cell_type": "code",
   "execution_count": 52,
   "id": "751c67ce-a028-4a4f-b22d-1c9d3fd2345e",
   "metadata": {},
   "outputs": [],
   "source": [
    "from sklearn.metrics import mean_absolute_error,mean_squared_error"
   ]
  },
  {
   "cell_type": "markdown",
   "id": "60e61915-6d80-4ea6-820d-fc1a5aabf366",
   "metadata": {},
   "source": [
    "برای میزان خطا بین داده های واقعی و مقدارپیش بینی  شدهloss function (MSE)استفاده از"
   ]
  },
  {
   "cell_type": "code",
   "execution_count": 53,
   "id": "5a3af2d9-5a87-440e-8dd5-ce25b44e6673",
   "metadata": {},
   "outputs": [
    {
     "data": {
      "text/plain": [
       "28699614241.812115"
      ]
     },
     "execution_count": 53,
     "metadata": {},
     "output_type": "execute_result"
    }
   ],
   "source": [
    "mean_squared_error(y_test, y_pred)"
   ]
  },
  {
   "cell_type": "markdown",
   "id": "7bd54a9d-0bf2-4695-8dd6-abd1ff710dae",
   "metadata": {},
   "source": [
    "برای میزان خطا بین داده های واقعی و مقدارپیش بینی  شدهloss function (MAE)استفاده از"
   ]
  },
  {
   "cell_type": "code",
   "execution_count": 54,
   "id": "eff20f89-c8e5-404a-8553-3a8e0996d093",
   "metadata": {},
   "outputs": [
    {
     "data": {
      "text/plain": [
       "90367.41732618124"
      ]
     },
     "execution_count": 54,
     "metadata": {},
     "output_type": "execute_result"
    }
   ],
   "source": [
    "mean_absolute_error(y_test, y_pred)"
   ]
  },
  {
   "cell_type": "code",
   "execution_count": null,
   "id": "fdb1104c-7ba1-430c-8ffd-8f370cd81b7e",
   "metadata": {},
   "outputs": [],
   "source": []
  }
 ],
 "metadata": {
  "kernelspec": {
   "display_name": "Python 3 (ipykernel)",
   "language": "python",
   "name": "python3"
  },
  "language_info": {
   "codemirror_mode": {
    "name": "ipython",
    "version": 3
   },
   "file_extension": ".py",
   "mimetype": "text/x-python",
   "name": "python",
   "nbconvert_exporter": "python",
   "pygments_lexer": "ipython3",
   "version": "3.11.4"
  }
 },
 "nbformat": 4,
 "nbformat_minor": 5
}
