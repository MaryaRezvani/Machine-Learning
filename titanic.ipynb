{
 "cells": [
  {
   "cell_type": "markdown",
   "id": "3575c1f3-1327-4b7e-b9f4-48bf02cb6b51",
   "metadata": {
    "tags": []
   },
   "source": [
    "# مسئله پیاده‌سازی دوم"
   ]
  },
  {
   "cell_type": "markdown",
   "id": "d702f7c3-b159-4263-a6f9-ec03a9d2483d",
   "metadata": {
    "tags": []
   },
   "source": [
    "## گام 1 - پیش پردازش داده‌ها"
   ]
  },
  {
   "cell_type": "markdown",
   "id": "4d7fa826-2665-4702-95c9-18e9264ff28d",
   "metadata": {
    "tags": []
   },
   "source": [
    "### کتابخانه‌های مورد نیاز"
   ]
  },
  {
   "cell_type": "code",
   "execution_count": 1,
   "id": "b8087b12-08f2-4954-ba6a-33812f52f9e1",
   "metadata": {
    "execution": {
     "iopub.execute_input": "2023-11-02T13:54:22.296749Z",
     "iopub.status.busy": "2023-11-02T13:54:22.296490Z",
     "iopub.status.idle": "2023-11-02T13:54:23.169003Z",
     "shell.execute_reply": "2023-11-02T13:54:23.168293Z",
     "shell.execute_reply.started": "2023-11-02T13:54:22.296727Z"
    },
    "tags": []
   },
   "outputs": [],
   "source": [
    "import pandas as pd\n",
    "from sklearn.preprocessing import LabelEncoder\n",
    "    from sklearn.model_selection import train_test_split\n",
    "from sklearn.ensemble import RandomForestClassifier\n",
    "from sklearn.metrics import classification_report, confusion_matrix"
   ]
  },
  {
   "cell_type": "markdown",
   "id": "31af0dd1-e041-48fb-9bd1-c2e0d0b0627f",
   "metadata": {},
   "source": [
    "### خواندن دیتاست"
   ]
  },
  {
   "cell_type": "code",
   "execution_count": 2,
   "id": "7c2fa416-bfcd-4074-badd-d6dae2f94b9c",
   "metadata": {
    "execution": {
     "iopub.execute_input": "2023-11-02T13:54:23.171004Z",
     "iopub.status.busy": "2023-11-02T13:54:23.170669Z",
     "iopub.status.idle": "2023-11-02T13:54:23.181228Z",
     "shell.execute_reply": "2023-11-02T13:54:23.180551Z",
     "shell.execute_reply.started": "2023-11-02T13:54:23.170980Z"
    },
    "tags": []
   },
   "outputs": [],
   "source": [
    "data = pd.read_csv(\"./titanic.csv\")"
   ]
  },
  {
   "cell_type": "code",
   "execution_count": 3,
   "id": "f8740f7d-0b55-42be-ae5d-14f09e674f64",
   "metadata": {
    "execution": {
     "iopub.execute_input": "2023-11-02T13:54:23.183001Z",
     "iopub.status.busy": "2023-11-02T13:54:23.182724Z",
     "iopub.status.idle": "2023-11-02T13:54:23.334295Z",
     "shell.execute_reply": "2023-11-02T13:54:23.333529Z",
     "shell.execute_reply.started": "2023-11-02T13:54:23.182974Z"
    },
    "tags": []
   },
   "outputs": [
    {
     "data": {
      "text/html": [
       "<div>\n",
       "<style scoped>\n",
       "    .dataframe tbody tr th:only-of-type {\n",
       "        vertical-align: middle;\n",
       "    }\n",
       "\n",
       "    .dataframe tbody tr th {\n",
       "        vertical-align: top;\n",
       "    }\n",
       "\n",
       "    .dataframe thead th {\n",
       "        text-align: right;\n",
       "    }\n",
       "</style>\n",
       "<table border=\"1\" class=\"dataframe\">\n",
       "  <thead>\n",
       "    <tr style=\"text-align: right;\">\n",
       "      <th></th>\n",
       "      <th>PassengerId</th>\n",
       "      <th>Survived</th>\n",
       "      <th>Pclass</th>\n",
       "      <th>Name</th>\n",
       "      <th>Sex</th>\n",
       "      <th>Age</th>\n",
       "      <th>SibSp</th>\n",
       "      <th>Parch</th>\n",
       "      <th>Ticket</th>\n",
       "      <th>Fare</th>\n",
       "      <th>Cabin</th>\n",
       "      <th>Embarked</th>\n",
       "    </tr>\n",
       "  </thead>\n",
       "  <tbody>\n",
       "    <tr>\n",
       "      <th>0</th>\n",
       "      <td>1</td>\n",
       "      <td>0</td>\n",
       "      <td>3</td>\n",
       "      <td>Braund, Mr. Owen Harris</td>\n",
       "      <td>male</td>\n",
       "      <td>22.0</td>\n",
       "      <td>1</td>\n",
       "      <td>0</td>\n",
       "      <td>A/5 21171</td>\n",
       "      <td>7.2500</td>\n",
       "      <td>NaN</td>\n",
       "      <td>S</td>\n",
       "    </tr>\n",
       "    <tr>\n",
       "      <th>1</th>\n",
       "      <td>2</td>\n",
       "      <td>1</td>\n",
       "      <td>1</td>\n",
       "      <td>Cumings, Mrs. John Bradley (Florence Briggs Th...</td>\n",
       "      <td>female</td>\n",
       "      <td>38.0</td>\n",
       "      <td>1</td>\n",
       "      <td>0</td>\n",
       "      <td>PC 17599</td>\n",
       "      <td>71.2833</td>\n",
       "      <td>C85</td>\n",
       "      <td>C</td>\n",
       "    </tr>\n",
       "    <tr>\n",
       "      <th>2</th>\n",
       "      <td>3</td>\n",
       "      <td>1</td>\n",
       "      <td>3</td>\n",
       "      <td>Heikkinen, Miss. Laina</td>\n",
       "      <td>female</td>\n",
       "      <td>26.0</td>\n",
       "      <td>0</td>\n",
       "      <td>0</td>\n",
       "      <td>STON/O2. 3101282</td>\n",
       "      <td>7.9250</td>\n",
       "      <td>NaN</td>\n",
       "      <td>S</td>\n",
       "    </tr>\n",
       "    <tr>\n",
       "      <th>3</th>\n",
       "      <td>4</td>\n",
       "      <td>1</td>\n",
       "      <td>1</td>\n",
       "      <td>Futrelle, Mrs. Jacques Heath (Lily May Peel)</td>\n",
       "      <td>female</td>\n",
       "      <td>35.0</td>\n",
       "      <td>1</td>\n",
       "      <td>0</td>\n",
       "      <td>113803</td>\n",
       "      <td>53.1000</td>\n",
       "      <td>C123</td>\n",
       "      <td>S</td>\n",
       "    </tr>\n",
       "    <tr>\n",
       "      <th>4</th>\n",
       "      <td>5</td>\n",
       "      <td>0</td>\n",
       "      <td>3</td>\n",
       "      <td>Allen, Mr. William Henry</td>\n",
       "      <td>male</td>\n",
       "      <td>35.0</td>\n",
       "      <td>0</td>\n",
       "      <td>0</td>\n",
       "      <td>373450</td>\n",
       "      <td>8.0500</td>\n",
       "      <td>NaN</td>\n",
       "      <td>S</td>\n",
       "    </tr>\n",
       "  </tbody>\n",
       "</table>\n",
       "</div>"
      ],
      "text/plain": [
       "   PassengerId  Survived  Pclass  \\\n",
       "0            1         0       3   \n",
       "1            2         1       1   \n",
       "2            3         1       3   \n",
       "3            4         1       1   \n",
       "4            5         0       3   \n",
       "\n",
       "                                                Name     Sex   Age  SibSp  \\\n",
       "0                            Braund, Mr. Owen Harris    male  22.0      1   \n",
       "1  Cumings, Mrs. John Bradley (Florence Briggs Th...  female  38.0      1   \n",
       "2                             Heikkinen, Miss. Laina  female  26.0      0   \n",
       "3       Futrelle, Mrs. Jacques Heath (Lily May Peel)  female  35.0      1   \n",
       "4                           Allen, Mr. William Henry    male  35.0      0   \n",
       "\n",
       "   Parch            Ticket     Fare Cabin Embarked  \n",
       "0      0         A/5 21171   7.2500   NaN        S  \n",
       "1      0          PC 17599  71.2833   C85        C  \n",
       "2      0  STON/O2. 3101282   7.9250   NaN        S  \n",
       "3      0            113803  53.1000  C123        S  \n",
       "4      0            373450   8.0500   NaN        S  "
      ]
     },
     "execution_count": 3,
     "metadata": {},
     "output_type": "execute_result"
    }
   ],
   "source": [
    "data.head()"
   ]
  },
  {
   "cell_type": "code",
   "execution_count": 4,
   "id": "aba841ba-8af6-4469-912e-3b49b5d71912",
   "metadata": {
    "execution": {
     "iopub.execute_input": "2023-11-02T13:54:23.335463Z",
     "iopub.status.busy": "2023-11-02T13:54:23.335212Z",
     "iopub.status.idle": "2023-11-02T13:54:23.493753Z",
     "shell.execute_reply": "2023-11-02T13:54:23.491524Z",
     "shell.execute_reply.started": "2023-11-02T13:54:23.335438Z"
    },
    "tags": []
   },
   "outputs": [
    {
     "data": {
      "text/plain": [
       "(891, 12)"
      ]
     },
     "execution_count": 4,
     "metadata": {},
     "output_type": "execute_result"
    }
   ],
   "source": [
    "data.shape"
   ]
  },
  {
   "cell_type": "markdown",
   "id": "52d51e75-69a0-4439-841c-d962cfd834fe",
   "metadata": {},
   "source": [
    "Rows/Record/Sample: 891\n",
    "\n",
    "Column/Feature/Dimension: 12"
   ]
  },
  {
   "cell_type": "markdown",
   "id": "851d1048-28d0-4ed4-9758-10918673ad69",
   "metadata": {},
   "source": [
    "به دلیل بی‌معنا بودن برای مدل \"PassengerId\", \"Name\", \"Ticket\" حذف ستون‌های "
   ]
  },
  {
   "cell_type": "code",
   "execution_count": 5,
   "id": "d7fb8e36-96b7-4c06-98f8-667ce95e4e12",
   "metadata": {
    "execution": {
     "iopub.execute_input": "2023-11-02T13:54:23.497111Z",
     "iopub.status.busy": "2023-11-02T13:54:23.496408Z",
     "iopub.status.idle": "2023-11-02T13:54:23.616238Z",
     "shell.execute_reply": "2023-11-02T13:54:23.613848Z",
     "shell.execute_reply.started": "2023-11-02T13:54:23.497041Z"
    },
    "tags": []
   },
   "outputs": [],
   "source": [
    "# دو روش متفاوت برای حذف ستون اما خروجی یکسان\n",
    "\n",
    "data.drop([\"PassengerId\", \"Name\", \"Ticket\"], axis='columns', inplace=True)\n",
    "# data = data.drop([\"PassengerId\", \"Name\", \"Ticket\"], axis='columns')"
   ]
  },
  {
   "cell_type": "code",
   "execution_count": 6,
   "id": "c1ca5a92-80da-4d2e-9603-1547b45b336c",
   "metadata": {
    "execution": {
     "iopub.execute_input": "2023-11-02T13:54:23.619141Z",
     "iopub.status.busy": "2023-11-02T13:54:23.618842Z",
     "iopub.status.idle": "2023-11-02T13:54:23.768294Z",
     "shell.execute_reply": "2023-11-02T13:54:23.767642Z",
     "shell.execute_reply.started": "2023-11-02T13:54:23.619115Z"
    },
    "tags": []
   },
   "outputs": [
    {
     "data": {
      "text/plain": [
       "(891, 9)"
      ]
     },
     "execution_count": 6,
     "metadata": {},
     "output_type": "execute_result"
    }
   ],
   "source": [
    "data.shape # \"PassengerId\", \"Name\", \"Ticket\" Columns have beed deleted"
   ]
  },
  {
   "cell_type": "markdown",
   "id": "8803956c-5798-470a-9fdc-f374f6b557ec",
   "metadata": {},
   "source": [
    "Rows/Record/Sample: 891\n",
    "\n",
    "Column/Feature/Dimension: 9"
   ]
  },
  {
   "cell_type": "code",
   "execution_count": 7,
   "id": "703d6cb7-f48b-4dae-8761-549fa7ac02a0",
   "metadata": {
    "execution": {
     "iopub.execute_input": "2023-11-02T13:54:23.770604Z",
     "iopub.status.busy": "2023-11-02T13:54:23.770368Z",
     "iopub.status.idle": "2023-11-02T13:54:23.910311Z",
     "shell.execute_reply": "2023-11-02T13:54:23.909572Z",
     "shell.execute_reply.started": "2023-11-02T13:54:23.770585Z"
    },
    "tags": []
   },
   "outputs": [
    {
     "data": {
      "text/html": [
       "<div>\n",
       "<style scoped>\n",
       "    .dataframe tbody tr th:only-of-type {\n",
       "        vertical-align: middle;\n",
       "    }\n",
       "\n",
       "    .dataframe tbody tr th {\n",
       "        vertical-align: top;\n",
       "    }\n",
       "\n",
       "    .dataframe thead th {\n",
       "        text-align: right;\n",
       "    }\n",
       "</style>\n",
       "<table border=\"1\" class=\"dataframe\">\n",
       "  <thead>\n",
       "    <tr style=\"text-align: right;\">\n",
       "      <th></th>\n",
       "      <th>Survived</th>\n",
       "      <th>Pclass</th>\n",
       "      <th>Sex</th>\n",
       "      <th>Age</th>\n",
       "      <th>SibSp</th>\n",
       "      <th>Parch</th>\n",
       "      <th>Fare</th>\n",
       "      <th>Cabin</th>\n",
       "      <th>Embarked</th>\n",
       "    </tr>\n",
       "  </thead>\n",
       "  <tbody>\n",
       "    <tr>\n",
       "      <th>0</th>\n",
       "      <td>0</td>\n",
       "      <td>3</td>\n",
       "      <td>male</td>\n",
       "      <td>22.0</td>\n",
       "      <td>1</td>\n",
       "      <td>0</td>\n",
       "      <td>7.2500</td>\n",
       "      <td>NaN</td>\n",
       "      <td>S</td>\n",
       "    </tr>\n",
       "    <tr>\n",
       "      <th>1</th>\n",
       "      <td>1</td>\n",
       "      <td>1</td>\n",
       "      <td>female</td>\n",
       "      <td>38.0</td>\n",
       "      <td>1</td>\n",
       "      <td>0</td>\n",
       "      <td>71.2833</td>\n",
       "      <td>C85</td>\n",
       "      <td>C</td>\n",
       "    </tr>\n",
       "    <tr>\n",
       "      <th>2</th>\n",
       "      <td>1</td>\n",
       "      <td>3</td>\n",
       "      <td>female</td>\n",
       "      <td>26.0</td>\n",
       "      <td>0</td>\n",
       "      <td>0</td>\n",
       "      <td>7.9250</td>\n",
       "      <td>NaN</td>\n",
       "      <td>S</td>\n",
       "    </tr>\n",
       "    <tr>\n",
       "      <th>3</th>\n",
       "      <td>1</td>\n",
       "      <td>1</td>\n",
       "      <td>female</td>\n",
       "      <td>35.0</td>\n",
       "      <td>1</td>\n",
       "      <td>0</td>\n",
       "      <td>53.1000</td>\n",
       "      <td>C123</td>\n",
       "      <td>S</td>\n",
       "    </tr>\n",
       "    <tr>\n",
       "      <th>4</th>\n",
       "      <td>0</td>\n",
       "      <td>3</td>\n",
       "      <td>male</td>\n",
       "      <td>35.0</td>\n",
       "      <td>0</td>\n",
       "      <td>0</td>\n",
       "      <td>8.0500</td>\n",
       "      <td>NaN</td>\n",
       "      <td>S</td>\n",
       "    </tr>\n",
       "  </tbody>\n",
       "</table>\n",
       "</div>"
      ],
      "text/plain": [
       "   Survived  Pclass     Sex   Age  SibSp  Parch     Fare Cabin Embarked\n",
       "0         0       3    male  22.0      1      0   7.2500   NaN        S\n",
       "1         1       1  female  38.0      1      0  71.2833   C85        C\n",
       "2         1       3  female  26.0      0      0   7.9250   NaN        S\n",
       "3         1       1  female  35.0      1      0  53.1000  C123        S\n",
       "4         0       3    male  35.0      0      0   8.0500   NaN        S"
      ]
     },
     "execution_count": 7,
     "metadata": {},
     "output_type": "execute_result"
    }
   ],
   "source": [
    "data.head()"
   ]
  },
  {
   "cell_type": "markdown",
   "id": "5f649eea-83b6-4ad5-84b7-ce91bab551e4",
   "metadata": {},
   "source": [
    "تبدیل‌ داده‌های رشته‌ای جنسیت به باینری "
   ]
  },
  {
   "cell_type": "code",
   "execution_count": 8,
   "id": "2a064a0d-2468-44a6-a5dd-87298a23303e",
   "metadata": {
    "execution": {
     "iopub.execute_input": "2023-11-02T13:54:23.911669Z",
     "iopub.status.busy": "2023-11-02T13:54:23.911361Z",
     "iopub.status.idle": "2023-11-02T13:54:24.029175Z",
     "shell.execute_reply": "2023-11-02T13:54:24.027066Z",
     "shell.execute_reply.started": "2023-11-02T13:54:23.911637Z"
    },
    "tags": []
   },
   "outputs": [],
   "source": [
    "data['Sex'].replace(['female', 'male'], [0, 1], inplace=True)"
   ]
  },
  {
   "cell_type": "code",
   "execution_count": 9,
   "id": "ec5a9c8f-192c-4b01-916e-7d96257907f0",
   "metadata": {
    "execution": {
     "iopub.execute_input": "2023-11-02T13:54:24.032226Z",
     "iopub.status.busy": "2023-11-02T13:54:24.031506Z",
     "iopub.status.idle": "2023-11-02T13:54:24.211387Z",
     "shell.execute_reply": "2023-11-02T13:54:24.208863Z",
     "shell.execute_reply.started": "2023-11-02T13:54:24.032132Z"
    },
    "tags": []
   },
   "outputs": [
    {
     "data": {
      "text/html": [
       "<div>\n",
       "<style scoped>\n",
       "    .dataframe tbody tr th:only-of-type {\n",
       "        vertical-align: middle;\n",
       "    }\n",
       "\n",
       "    .dataframe tbody tr th {\n",
       "        vertical-align: top;\n",
       "    }\n",
       "\n",
       "    .dataframe thead th {\n",
       "        text-align: right;\n",
       "    }\n",
       "</style>\n",
       "<table border=\"1\" class=\"dataframe\">\n",
       "  <thead>\n",
       "    <tr style=\"text-align: right;\">\n",
       "      <th></th>\n",
       "      <th>Survived</th>\n",
       "      <th>Pclass</th>\n",
       "      <th>Sex</th>\n",
       "      <th>Age</th>\n",
       "      <th>SibSp</th>\n",
       "      <th>Parch</th>\n",
       "      <th>Fare</th>\n",
       "      <th>Cabin</th>\n",
       "      <th>Embarked</th>\n",
       "    </tr>\n",
       "  </thead>\n",
       "  <tbody>\n",
       "    <tr>\n",
       "      <th>0</th>\n",
       "      <td>0</td>\n",
       "      <td>3</td>\n",
       "      <td>1</td>\n",
       "      <td>22.0</td>\n",
       "      <td>1</td>\n",
       "      <td>0</td>\n",
       "      <td>7.2500</td>\n",
       "      <td>NaN</td>\n",
       "      <td>S</td>\n",
       "    </tr>\n",
       "    <tr>\n",
       "      <th>1</th>\n",
       "      <td>1</td>\n",
       "      <td>1</td>\n",
       "      <td>0</td>\n",
       "      <td>38.0</td>\n",
       "      <td>1</td>\n",
       "      <td>0</td>\n",
       "      <td>71.2833</td>\n",
       "      <td>C85</td>\n",
       "      <td>C</td>\n",
       "    </tr>\n",
       "    <tr>\n",
       "      <th>2</th>\n",
       "      <td>1</td>\n",
       "      <td>3</td>\n",
       "      <td>0</td>\n",
       "      <td>26.0</td>\n",
       "      <td>0</td>\n",
       "      <td>0</td>\n",
       "      <td>7.9250</td>\n",
       "      <td>NaN</td>\n",
       "      <td>S</td>\n",
       "    </tr>\n",
       "    <tr>\n",
       "      <th>3</th>\n",
       "      <td>1</td>\n",
       "      <td>1</td>\n",
       "      <td>0</td>\n",
       "      <td>35.0</td>\n",
       "      <td>1</td>\n",
       "      <td>0</td>\n",
       "      <td>53.1000</td>\n",
       "      <td>C123</td>\n",
       "      <td>S</td>\n",
       "    </tr>\n",
       "    <tr>\n",
       "      <th>4</th>\n",
       "      <td>0</td>\n",
       "      <td>3</td>\n",
       "      <td>1</td>\n",
       "      <td>35.0</td>\n",
       "      <td>0</td>\n",
       "      <td>0</td>\n",
       "      <td>8.0500</td>\n",
       "      <td>NaN</td>\n",
       "      <td>S</td>\n",
       "    </tr>\n",
       "  </tbody>\n",
       "</table>\n",
       "</div>"
      ],
      "text/plain": [
       "   Survived  Pclass  Sex   Age  SibSp  Parch     Fare Cabin Embarked\n",
       "0         0       3    1  22.0      1      0   7.2500   NaN        S\n",
       "1         1       1    0  38.0      1      0  71.2833   C85        C\n",
       "2         1       3    0  26.0      0      0   7.9250   NaN        S\n",
       "3         1       1    0  35.0      1      0  53.1000  C123        S\n",
       "4         0       3    1  35.0      0      0   8.0500   NaN        S"
      ]
     },
     "execution_count": 9,
     "metadata": {},
     "output_type": "execute_result"
    }
   ],
   "source": [
    "data.head()"
   ]
  },
  {
   "cell_type": "code",
   "execution_count": 10,
   "id": "51f5fe28-43e0-4558-acde-213270df93cc",
   "metadata": {
    "execution": {
     "iopub.execute_input": "2023-11-02T13:54:24.214597Z",
     "iopub.status.busy": "2023-11-02T13:54:24.213893Z",
     "iopub.status.idle": "2023-11-02T13:54:24.312351Z",
     "shell.execute_reply": "2023-11-02T13:54:24.311144Z",
     "shell.execute_reply.started": "2023-11-02T13:54:24.214531Z"
    },
    "tags": []
   },
   "outputs": [
    {
     "name": "stdout",
     "output_type": "stream",
     "text": [
      "<class 'pandas.core.frame.DataFrame'>\n",
      "RangeIndex: 891 entries, 0 to 890\n",
      "Data columns (total 9 columns):\n",
      " #   Column    Non-Null Count  Dtype  \n",
      "---  ------    --------------  -----  \n",
      " 0   Survived  891 non-null    int64  \n",
      " 1   Pclass    891 non-null    int64  \n",
      " 2   Sex       891 non-null    int64  \n",
      " 3   Age       714 non-null    float64\n",
      " 4   SibSp     891 non-null    int64  \n",
      " 5   Parch     891 non-null    int64  \n",
      " 6   Fare      891 non-null    float64\n",
      " 7   Cabin     204 non-null    object \n",
      " 8   Embarked  889 non-null    object \n",
      "dtypes: float64(2), int64(5), object(2)\n",
      "memory usage: 62.8+ KB\n"
     ]
    }
   ],
   "source": [
    "data.info()"
   ]
  },
  {
   "cell_type": "code",
   "execution_count": 11,
   "id": "ed64bc9b-1d62-4d34-bf0e-e87da3f9d348",
   "metadata": {
    "execution": {
     "iopub.execute_input": "2023-11-02T13:54:24.316120Z",
     "iopub.status.busy": "2023-11-02T13:54:24.315083Z",
     "iopub.status.idle": "2023-11-02T13:54:24.501998Z",
     "shell.execute_reply": "2023-11-02T13:54:24.500895Z",
     "shell.execute_reply.started": "2023-11-02T13:54:24.316019Z"
    },
    "tags": []
   },
   "outputs": [
    {
     "data": {
      "text/html": [
       "<div>\n",
       "<style scoped>\n",
       "    .dataframe tbody tr th:only-of-type {\n",
       "        vertical-align: middle;\n",
       "    }\n",
       "\n",
       "    .dataframe tbody tr th {\n",
       "        vertical-align: top;\n",
       "    }\n",
       "\n",
       "    .dataframe thead th {\n",
       "        text-align: right;\n",
       "    }\n",
       "</style>\n",
       "<table border=\"1\" class=\"dataframe\">\n",
       "  <thead>\n",
       "    <tr style=\"text-align: right;\">\n",
       "      <th></th>\n",
       "      <th>Survived</th>\n",
       "      <th>Pclass</th>\n",
       "      <th>Sex</th>\n",
       "      <th>Age</th>\n",
       "      <th>SibSp</th>\n",
       "      <th>Parch</th>\n",
       "      <th>Fare</th>\n",
       "    </tr>\n",
       "  </thead>\n",
       "  <tbody>\n",
       "    <tr>\n",
       "      <th>count</th>\n",
       "      <td>891.000000</td>\n",
       "      <td>891.000000</td>\n",
       "      <td>891.000000</td>\n",
       "      <td>714.000000</td>\n",
       "      <td>891.000000</td>\n",
       "      <td>891.000000</td>\n",
       "      <td>891.000000</td>\n",
       "    </tr>\n",
       "    <tr>\n",
       "      <th>mean</th>\n",
       "      <td>0.383838</td>\n",
       "      <td>2.308642</td>\n",
       "      <td>0.647587</td>\n",
       "      <td>29.699118</td>\n",
       "      <td>0.523008</td>\n",
       "      <td>0.381594</td>\n",
       "      <td>32.204208</td>\n",
       "    </tr>\n",
       "    <tr>\n",
       "      <th>std</th>\n",
       "      <td>0.486592</td>\n",
       "      <td>0.836071</td>\n",
       "      <td>0.477990</td>\n",
       "      <td>14.526497</td>\n",
       "      <td>1.102743</td>\n",
       "      <td>0.806057</td>\n",
       "      <td>49.693429</td>\n",
       "    </tr>\n",
       "    <tr>\n",
       "      <th>min</th>\n",
       "      <td>0.000000</td>\n",
       "      <td>1.000000</td>\n",
       "      <td>0.000000</td>\n",
       "      <td>0.420000</td>\n",
       "      <td>0.000000</td>\n",
       "      <td>0.000000</td>\n",
       "      <td>0.000000</td>\n",
       "    </tr>\n",
       "    <tr>\n",
       "      <th>25%</th>\n",
       "      <td>0.000000</td>\n",
       "      <td>2.000000</td>\n",
       "      <td>0.000000</td>\n",
       "      <td>20.125000</td>\n",
       "      <td>0.000000</td>\n",
       "      <td>0.000000</td>\n",
       "      <td>7.910400</td>\n",
       "    </tr>\n",
       "    <tr>\n",
       "      <th>50%</th>\n",
       "      <td>0.000000</td>\n",
       "      <td>3.000000</td>\n",
       "      <td>1.000000</td>\n",
       "      <td>28.000000</td>\n",
       "      <td>0.000000</td>\n",
       "      <td>0.000000</td>\n",
       "      <td>14.454200</td>\n",
       "    </tr>\n",
       "    <tr>\n",
       "      <th>75%</th>\n",
       "      <td>1.000000</td>\n",
       "      <td>3.000000</td>\n",
       "      <td>1.000000</td>\n",
       "      <td>38.000000</td>\n",
       "      <td>1.000000</td>\n",
       "      <td>0.000000</td>\n",
       "      <td>31.000000</td>\n",
       "    </tr>\n",
       "    <tr>\n",
       "      <th>max</th>\n",
       "      <td>1.000000</td>\n",
       "      <td>3.000000</td>\n",
       "      <td>1.000000</td>\n",
       "      <td>80.000000</td>\n",
       "      <td>8.000000</td>\n",
       "      <td>6.000000</td>\n",
       "      <td>512.329200</td>\n",
       "    </tr>\n",
       "  </tbody>\n",
       "</table>\n",
       "</div>"
      ],
      "text/plain": [
       "         Survived      Pclass         Sex         Age       SibSp       Parch  \\\n",
       "count  891.000000  891.000000  891.000000  714.000000  891.000000  891.000000   \n",
       "mean     0.383838    2.308642    0.647587   29.699118    0.523008    0.381594   \n",
       "std      0.486592    0.836071    0.477990   14.526497    1.102743    0.806057   \n",
       "min      0.000000    1.000000    0.000000    0.420000    0.000000    0.000000   \n",
       "25%      0.000000    2.000000    0.000000   20.125000    0.000000    0.000000   \n",
       "50%      0.000000    3.000000    1.000000   28.000000    0.000000    0.000000   \n",
       "75%      1.000000    3.000000    1.000000   38.000000    1.000000    0.000000   \n",
       "max      1.000000    3.000000    1.000000   80.000000    8.000000    6.000000   \n",
       "\n",
       "             Fare  \n",
       "count  891.000000  \n",
       "mean    32.204208  \n",
       "std     49.693429  \n",
       "min      0.000000  \n",
       "25%      7.910400  \n",
       "50%     14.454200  \n",
       "75%     31.000000  \n",
       "max    512.329200  "
      ]
     },
     "execution_count": 11,
     "metadata": {},
     "output_type": "execute_result"
    }
   ],
   "source": [
    "data.describe()"
   ]
  },
  {
   "cell_type": "markdown",
   "id": "566e46fb-f1ef-4dff-bd20-10806ce53e48",
   "metadata": {},
   "source": [
    "حساب کردن تعداد مقادیر خالی"
   ]
  },
  {
   "cell_type": "code",
   "execution_count": 12,
   "id": "eb01e404-e985-4548-ada8-d0f6bad51ff5",
   "metadata": {
    "execution": {
     "iopub.execute_input": "2023-11-02T13:54:24.503522Z",
     "iopub.status.busy": "2023-11-02T13:54:24.503191Z",
     "iopub.status.idle": "2023-11-02T13:54:24.584586Z",
     "shell.execute_reply": "2023-11-02T13:54:24.583866Z",
     "shell.execute_reply.started": "2023-11-02T13:54:24.503492Z"
    },
    "tags": []
   },
   "outputs": [
    {
     "data": {
      "text/plain": [
       "Survived      0\n",
       "Pclass        0\n",
       "Sex           0\n",
       "Age         177\n",
       "SibSp         0\n",
       "Parch         0\n",
       "Fare          0\n",
       "Cabin       687\n",
       "Embarked      2\n",
       "dtype: int64"
      ]
     },
     "execution_count": 12,
     "metadata": {},
     "output_type": "execute_result"
    }
   ],
   "source": [
    "data.isnull().sum()"
   ]
  },
  {
   "cell_type": "markdown",
   "id": "b7003bc0-1654-4be9-a1ac-691628121e9e",
   "metadata": {},
   "source": [
    "به دلیل زیاد بودن تعداد مقادیر خالی این ستون، بهتر است حذف شود"
   ]
  },
  {
   "cell_type": "code",
   "execution_count": 13,
   "id": "9a164469-9333-4bcf-b08f-a8677a04c91e",
   "metadata": {
    "execution": {
     "iopub.execute_input": "2023-11-02T13:54:24.585513Z",
     "iopub.status.busy": "2023-11-02T13:54:24.585311Z",
     "iopub.status.idle": "2023-11-02T13:54:24.715414Z",
     "shell.execute_reply": "2023-11-02T13:54:24.714634Z",
     "shell.execute_reply.started": "2023-11-02T13:54:24.585493Z"
    },
    "tags": []
   },
   "outputs": [],
   "source": [
    "data.drop(\"Cabin\", axis='columns', inplace=True)"
   ]
  },
  {
   "cell_type": "code",
   "execution_count": 14,
   "id": "3b6346a9-a969-4aa8-98c2-620c66bcf970",
   "metadata": {
    "execution": {
     "iopub.execute_input": "2023-11-02T13:54:24.718320Z",
     "iopub.status.busy": "2023-11-02T13:54:24.716944Z",
     "iopub.status.idle": "2023-11-02T13:54:24.854349Z",
     "shell.execute_reply": "2023-11-02T13:54:24.851350Z",
     "shell.execute_reply.started": "2023-11-02T13:54:24.718252Z"
    },
    "tags": []
   },
   "outputs": [
    {
     "data": {
      "text/plain": [
       "(891, 8)"
      ]
     },
     "execution_count": 14,
     "metadata": {},
     "output_type": "execute_result"
    }
   ],
   "source": [
    "data.shape"
   ]
  },
  {
   "cell_type": "markdown",
   "id": "0ad90039-1d76-4677-a0df-50bc8e4e24a6",
   "metadata": {},
   "source": [
    "Rows/Record/Sample: 891\n",
    "\n",
    "Column/Feature/Dimension: 8"
   ]
  },
  {
   "cell_type": "code",
   "execution_count": 15,
   "id": "9e57d34c-1a10-463f-ae5c-197b4a4dd6b2",
   "metadata": {
    "execution": {
     "iopub.execute_input": "2023-11-02T13:54:24.858717Z",
     "iopub.status.busy": "2023-11-02T13:54:24.857382Z",
     "iopub.status.idle": "2023-11-02T13:54:24.990158Z",
     "shell.execute_reply": "2023-11-02T13:54:24.989276Z",
     "shell.execute_reply.started": "2023-11-02T13:54:24.858681Z"
    },
    "tags": []
   },
   "outputs": [
    {
     "data": {
      "text/plain": [
       "Survived      0\n",
       "Pclass        0\n",
       "Sex           0\n",
       "Age         177\n",
       "SibSp         0\n",
       "Parch         0\n",
       "Fare          0\n",
       "Embarked      2\n",
       "dtype: int64"
      ]
     },
     "execution_count": 15,
     "metadata": {},
     "output_type": "execute_result"
    }
   ],
   "source": [
    "data.isnull().sum()"
   ]
  },
  {
   "cell_type": "code",
   "execution_count": 16,
   "id": "6f15a36c-e85f-4822-b200-85733c73bb7f",
   "metadata": {
    "execution": {
     "iopub.execute_input": "2023-11-02T13:54:24.993024Z",
     "iopub.status.busy": "2023-11-02T13:54:24.992039Z",
     "iopub.status.idle": "2023-11-02T13:54:25.154704Z",
     "shell.execute_reply": "2023-11-02T13:54:25.153979Z",
     "shell.execute_reply.started": "2023-11-02T13:54:24.992923Z"
    },
    "tags": []
   },
   "outputs": [
    {
     "data": {
      "text/plain": [
       "count    714.000000\n",
       "mean      29.699118\n",
       "std       14.526497\n",
       "min        0.420000\n",
       "25%       20.125000\n",
       "50%       28.000000\n",
       "75%       38.000000\n",
       "max       80.000000\n",
       "Name: Age, dtype: float64"
      ]
     },
     "execution_count": 16,
     "metadata": {},
     "output_type": "execute_result"
    }
   ],
   "source": [
    "data['Age'].describe()"
   ]
  },
  {
   "cell_type": "markdown",
   "id": "b271d46a-4564-4153-8d0f-b3825f0c9008",
   "metadata": {},
   "source": [
    "پر کردن مقادیر خالی ستون با استفاده از میانگین ستون"
   ]
  },
  {
   "cell_type": "code",
   "execution_count": 17,
   "id": "95144dda-9723-4329-8e43-e87c9d5322a7",
   "metadata": {
    "execution": {
     "iopub.execute_input": "2023-11-02T13:54:25.155874Z",
     "iopub.status.busy": "2023-11-02T13:54:25.155574Z",
     "iopub.status.idle": "2023-11-02T13:54:25.254125Z",
     "shell.execute_reply": "2023-11-02T13:54:25.253407Z",
     "shell.execute_reply.started": "2023-11-02T13:54:25.155846Z"
    },
    "tags": []
   },
   "outputs": [],
   "source": [
    "data['Age'].fillna((data['Age'].mean()), inplace=True)"
   ]
  },
  {
   "cell_type": "code",
   "execution_count": 18,
   "id": "46297ce7-4530-4f07-9a26-a8018563b4ce",
   "metadata": {
    "execution": {
     "iopub.execute_input": "2023-11-02T13:54:25.256658Z",
     "iopub.status.busy": "2023-11-02T13:54:25.255817Z",
     "iopub.status.idle": "2023-11-02T13:54:25.436451Z",
     "shell.execute_reply": "2023-11-02T13:54:25.433773Z",
     "shell.execute_reply.started": "2023-11-02T13:54:25.256575Z"
    },
    "tags": []
   },
   "outputs": [
    {
     "data": {
      "text/plain": [
       "Survived    0\n",
       "Pclass      0\n",
       "Sex         0\n",
       "Age         0\n",
       "SibSp       0\n",
       "Parch       0\n",
       "Fare        0\n",
       "Embarked    2\n",
       "dtype: int64"
      ]
     },
     "execution_count": 18,
     "metadata": {},
     "output_type": "execute_result"
    }
   ],
   "source": [
    "data.isnull().sum()"
   ]
  },
  {
   "cell_type": "code",
   "execution_count": 19,
   "id": "cbe2462e-f339-4511-981f-83f8eed88fa2",
   "metadata": {
    "execution": {
     "iopub.execute_input": "2023-11-02T13:54:25.439163Z",
     "iopub.status.busy": "2023-11-02T13:54:25.438787Z",
     "iopub.status.idle": "2023-11-02T13:54:25.532354Z",
     "shell.execute_reply": "2023-11-02T13:54:25.529988Z",
     "shell.execute_reply.started": "2023-11-02T13:54:25.439124Z"
    },
    "tags": []
   },
   "outputs": [
    {
     "data": {
      "text/plain": [
       "count     889\n",
       "unique      3\n",
       "top         S\n",
       "freq      644\n",
       "Name: Embarked, dtype: object"
      ]
     },
     "execution_count": 19,
     "metadata": {},
     "output_type": "execute_result"
    }
   ],
   "source": [
    "data['Embarked'].describe()"
   ]
  },
  {
   "cell_type": "markdown",
   "id": "e78dd725-2c1a-4bcb-b61f-939dbcdbef47",
   "metadata": {},
   "source": [
    "این ستون دارای ۳ مقدار یکتا می‌باشد"
   ]
  },
  {
   "cell_type": "code",
   "execution_count": 20,
   "id": "a179b317-59a5-4712-88fa-259e660c60b8",
   "metadata": {
    "execution": {
     "iopub.execute_input": "2023-11-02T13:54:25.535394Z",
     "iopub.status.busy": "2023-11-02T13:54:25.535116Z",
     "iopub.status.idle": "2023-11-02T13:54:25.638083Z",
     "shell.execute_reply": "2023-11-02T13:54:25.636608Z",
     "shell.execute_reply.started": "2023-11-02T13:54:25.535360Z"
    },
    "tags": []
   },
   "outputs": [
    {
     "data": {
      "text/plain": [
       "array(['S', 'C', 'Q', nan], dtype=object)"
      ]
     },
     "execution_count": 20,
     "metadata": {},
     "output_type": "execute_result"
    }
   ],
   "source": [
    "data['Embarked'].unique()"
   ]
  },
  {
   "cell_type": "markdown",
   "id": "8adf8c21-17ba-4184-9f25-9c41547979dc",
   "metadata": {},
   "source": [
    "پر کردن مقادیر خالی این ستون با بیشترین مقدار تکرار از این ستون"
   ]
  },
  {
   "cell_type": "code",
   "execution_count": 21,
   "id": "db9d9fd2-36c1-41e9-b110-cf5c404cace1",
   "metadata": {
    "execution": {
     "iopub.execute_input": "2023-11-02T13:54:25.640130Z",
     "iopub.status.busy": "2023-11-02T13:54:25.639618Z",
     "iopub.status.idle": "2023-11-02T13:54:25.759895Z",
     "shell.execute_reply": "2023-11-02T13:54:25.758068Z",
     "shell.execute_reply.started": "2023-11-02T13:54:25.640077Z"
    },
    "tags": []
   },
   "outputs": [],
   "source": [
    "data['Embarked'].fillna(\"S\", inplace=True)"
   ]
  },
  {
   "cell_type": "markdown",
   "id": "66db1457-a9d0-468a-be70-936167fa5be2",
   "metadata": {},
   "source": [
    "داده‌های خالی پر شدند"
   ]
  },
  {
   "cell_type": "code",
   "execution_count": 22,
   "id": "cfa943ba-ca6c-47d4-9f13-735341583a5d",
   "metadata": {
    "execution": {
     "iopub.execute_input": "2023-11-02T13:54:25.767845Z",
     "iopub.status.busy": "2023-11-02T13:54:25.767459Z",
     "iopub.status.idle": "2023-11-02T13:54:25.943182Z",
     "shell.execute_reply": "2023-11-02T13:54:25.942324Z",
     "shell.execute_reply.started": "2023-11-02T13:54:25.767826Z"
    },
    "tags": []
   },
   "outputs": [
    {
     "data": {
      "text/plain": [
       "Survived    0\n",
       "Pclass      0\n",
       "Sex         0\n",
       "Age         0\n",
       "SibSp       0\n",
       "Parch       0\n",
       "Fare        0\n",
       "Embarked    0\n",
       "dtype: int64"
      ]
     },
     "execution_count": 22,
     "metadata": {},
     "output_type": "execute_result"
    }
   ],
   "source": [
    "data.isnull().sum()"
   ]
  },
  {
   "cell_type": "code",
   "execution_count": 23,
   "id": "b8ccdf66-429c-47da-9403-ee78c4e50b46",
   "metadata": {
    "execution": {
     "iopub.execute_input": "2023-11-02T13:54:25.944398Z",
     "iopub.status.busy": "2023-11-02T13:54:25.944195Z",
     "iopub.status.idle": "2023-11-02T13:54:26.100605Z",
     "shell.execute_reply": "2023-11-02T13:54:26.098777Z",
     "shell.execute_reply.started": "2023-11-02T13:54:25.944379Z"
    },
    "tags": []
   },
   "outputs": [
    {
     "data": {
      "text/plain": [
       "(891, 8)"
      ]
     },
     "execution_count": 23,
     "metadata": {},
     "output_type": "execute_result"
    }
   ],
   "source": [
    "data.shape"
   ]
  },
  {
   "cell_type": "code",
   "execution_count": 24,
   "id": "4ffe3007-fbe2-40f0-b8fe-f8c7f92a5ef9",
   "metadata": {
    "execution": {
     "iopub.execute_input": "2023-11-02T13:54:26.103388Z",
     "iopub.status.busy": "2023-11-02T13:54:26.102789Z",
     "iopub.status.idle": "2023-11-02T13:54:26.225006Z",
     "shell.execute_reply": "2023-11-02T13:54:26.223220Z",
     "shell.execute_reply.started": "2023-11-02T13:54:26.103329Z"
    },
    "tags": []
   },
   "outputs": [],
   "source": [
    "le = LabelEncoder()"
   ]
  },
  {
   "cell_type": "markdown",
   "id": "35d3ec96-e31c-4773-af12-3c2f1c4ef6d9",
   "metadata": {},
   "source": [
    "تبدیل داده‌های دسته‌بندی به داده‌های عددی با استفاده از کتابخانه"
   ]
  },
  {
   "cell_type": "code",
   "execution_count": 25,
   "id": "e3f7be4b-b08b-4db3-bc8f-111b2d0886b6",
   "metadata": {
    "execution": {
     "iopub.execute_input": "2023-11-02T13:54:26.227497Z",
     "iopub.status.busy": "2023-11-02T13:54:26.226996Z",
     "iopub.status.idle": "2023-11-02T13:54:26.366186Z",
     "shell.execute_reply": "2023-11-02T13:54:26.363781Z",
     "shell.execute_reply.started": "2023-11-02T13:54:26.227449Z"
    },
    "tags": []
   },
   "outputs": [],
   "source": [
    "data['Embarked'] = le.fit_transform(data['Embarked'])"
   ]
  },
  {
   "cell_type": "code",
   "execution_count": 26,
   "id": "55cfabef-9394-4854-b185-bb301a6dbaf3",
   "metadata": {
    "execution": {
     "iopub.execute_input": "2023-11-02T13:54:26.369380Z",
     "iopub.status.busy": "2023-11-02T13:54:26.368753Z",
     "iopub.status.idle": "2023-11-02T13:54:26.458422Z",
     "shell.execute_reply": "2023-11-02T13:54:26.456604Z",
     "shell.execute_reply.started": "2023-11-02T13:54:26.369322Z"
    },
    "tags": []
   },
   "outputs": [
    {
     "data": {
      "text/plain": [
       "array(['C', 'Q', 'S'], dtype=object)"
      ]
     },
     "execution_count": 26,
     "metadata": {},
     "output_type": "execute_result"
    }
   ],
   "source": [
    "le.classes_"
   ]
  },
  {
   "cell_type": "code",
   "execution_count": 27,
   "id": "18e25f7e-b8b5-43ee-a232-f618fd462342",
   "metadata": {
    "execution": {
     "iopub.execute_input": "2023-11-02T13:54:26.459631Z",
     "iopub.status.busy": "2023-11-02T13:54:26.459390Z",
     "iopub.status.idle": "2023-11-02T13:54:26.603975Z",
     "shell.execute_reply": "2023-11-02T13:54:26.602220Z",
     "shell.execute_reply.started": "2023-11-02T13:54:26.459609Z"
    },
    "tags": []
   },
   "outputs": [
    {
     "data": {
      "text/html": [
       "<div>\n",
       "<style scoped>\n",
       "    .dataframe tbody tr th:only-of-type {\n",
       "        vertical-align: middle;\n",
       "    }\n",
       "\n",
       "    .dataframe tbody tr th {\n",
       "        vertical-align: top;\n",
       "    }\n",
       "\n",
       "    .dataframe thead th {\n",
       "        text-align: right;\n",
       "    }\n",
       "</style>\n",
       "<table border=\"1\" class=\"dataframe\">\n",
       "  <thead>\n",
       "    <tr style=\"text-align: right;\">\n",
       "      <th></th>\n",
       "      <th>Survived</th>\n",
       "      <th>Pclass</th>\n",
       "      <th>Sex</th>\n",
       "      <th>Age</th>\n",
       "      <th>SibSp</th>\n",
       "      <th>Parch</th>\n",
       "      <th>Fare</th>\n",
       "      <th>Embarked</th>\n",
       "    </tr>\n",
       "  </thead>\n",
       "  <tbody>\n",
       "    <tr>\n",
       "      <th>0</th>\n",
       "      <td>0</td>\n",
       "      <td>3</td>\n",
       "      <td>1</td>\n",
       "      <td>22.0</td>\n",
       "      <td>1</td>\n",
       "      <td>0</td>\n",
       "      <td>7.2500</td>\n",
       "      <td>2</td>\n",
       "    </tr>\n",
       "    <tr>\n",
       "      <th>1</th>\n",
       "      <td>1</td>\n",
       "      <td>1</td>\n",
       "      <td>0</td>\n",
       "      <td>38.0</td>\n",
       "      <td>1</td>\n",
       "      <td>0</td>\n",
       "      <td>71.2833</td>\n",
       "      <td>0</td>\n",
       "    </tr>\n",
       "    <tr>\n",
       "      <th>2</th>\n",
       "      <td>1</td>\n",
       "      <td>3</td>\n",
       "      <td>0</td>\n",
       "      <td>26.0</td>\n",
       "      <td>0</td>\n",
       "      <td>0</td>\n",
       "      <td>7.9250</td>\n",
       "      <td>2</td>\n",
       "    </tr>\n",
       "    <tr>\n",
       "      <th>3</th>\n",
       "      <td>1</td>\n",
       "      <td>1</td>\n",
       "      <td>0</td>\n",
       "      <td>35.0</td>\n",
       "      <td>1</td>\n",
       "      <td>0</td>\n",
       "      <td>53.1000</td>\n",
       "      <td>2</td>\n",
       "    </tr>\n",
       "    <tr>\n",
       "      <th>4</th>\n",
       "      <td>0</td>\n",
       "      <td>3</td>\n",
       "      <td>1</td>\n",
       "      <td>35.0</td>\n",
       "      <td>0</td>\n",
       "      <td>0</td>\n",
       "      <td>8.0500</td>\n",
       "      <td>2</td>\n",
       "    </tr>\n",
       "  </tbody>\n",
       "</table>\n",
       "</div>"
      ],
      "text/plain": [
       "   Survived  Pclass  Sex   Age  SibSp  Parch     Fare  Embarked\n",
       "0         0       3    1  22.0      1      0   7.2500         2\n",
       "1         1       1    0  38.0      1      0  71.2833         0\n",
       "2         1       3    0  26.0      0      0   7.9250         2\n",
       "3         1       1    0  35.0      1      0  53.1000         2\n",
       "4         0       3    1  35.0      0      0   8.0500         2"
      ]
     },
     "execution_count": 27,
     "metadata": {},
     "output_type": "execute_result"
    }
   ],
   "source": [
    "data.head()"
   ]
  },
  {
   "cell_type": "markdown",
   "id": "fe442465-881f-40f6-943e-83e2e4c2c519",
   "metadata": {
    "tags": []
   },
   "source": [
    "## گام 2 - آموزش مدل با درخت تصمیم "
   ]
  },
  {
   "cell_type": "code",
   "execution_count": 28,
   "id": "fefc3093-83f7-43db-9070-8203f2cde006",
   "metadata": {
    "execution": {
     "iopub.execute_input": "2023-11-02T13:54:26.605703Z",
     "iopub.status.busy": "2023-11-02T13:54:26.605445Z",
     "iopub.status.idle": "2023-11-02T13:54:26.780381Z",
     "shell.execute_reply": "2023-11-02T13:54:26.778475Z",
     "shell.execute_reply.started": "2023-11-02T13:54:26.605679Z"
    },
    "tags": []
   },
   "outputs": [
    {
     "data": {
      "text/html": [
       "<div>\n",
       "<style scoped>\n",
       "    .dataframe tbody tr th:only-of-type {\n",
       "        vertical-align: middle;\n",
       "    }\n",
       "\n",
       "    .dataframe tbody tr th {\n",
       "        vertical-align: top;\n",
       "    }\n",
       "\n",
       "    .dataframe thead th {\n",
       "        text-align: right;\n",
       "    }\n",
       "</style>\n",
       "<table border=\"1\" class=\"dataframe\">\n",
       "  <thead>\n",
       "    <tr style=\"text-align: right;\">\n",
       "      <th></th>\n",
       "      <th>Survived</th>\n",
       "      <th>Pclass</th>\n",
       "      <th>Sex</th>\n",
       "      <th>Age</th>\n",
       "      <th>SibSp</th>\n",
       "      <th>Parch</th>\n",
       "      <th>Fare</th>\n",
       "      <th>Embarked</th>\n",
       "    </tr>\n",
       "  </thead>\n",
       "  <tbody>\n",
       "    <tr>\n",
       "      <th>0</th>\n",
       "      <td>0</td>\n",
       "      <td>3</td>\n",
       "      <td>1</td>\n",
       "      <td>22.0</td>\n",
       "      <td>1</td>\n",
       "      <td>0</td>\n",
       "      <td>7.2500</td>\n",
       "      <td>2</td>\n",
       "    </tr>\n",
       "    <tr>\n",
       "      <th>1</th>\n",
       "      <td>1</td>\n",
       "      <td>1</td>\n",
       "      <td>0</td>\n",
       "      <td>38.0</td>\n",
       "      <td>1</td>\n",
       "      <td>0</td>\n",
       "      <td>71.2833</td>\n",
       "      <td>0</td>\n",
       "    </tr>\n",
       "    <tr>\n",
       "      <th>2</th>\n",
       "      <td>1</td>\n",
       "      <td>3</td>\n",
       "      <td>0</td>\n",
       "      <td>26.0</td>\n",
       "      <td>0</td>\n",
       "      <td>0</td>\n",
       "      <td>7.9250</td>\n",
       "      <td>2</td>\n",
       "    </tr>\n",
       "    <tr>\n",
       "      <th>3</th>\n",
       "      <td>1</td>\n",
       "      <td>1</td>\n",
       "      <td>0</td>\n",
       "      <td>35.0</td>\n",
       "      <td>1</td>\n",
       "      <td>0</td>\n",
       "      <td>53.1000</td>\n",
       "      <td>2</td>\n",
       "    </tr>\n",
       "    <tr>\n",
       "      <th>4</th>\n",
       "      <td>0</td>\n",
       "      <td>3</td>\n",
       "      <td>1</td>\n",
       "      <td>35.0</td>\n",
       "      <td>0</td>\n",
       "      <td>0</td>\n",
       "      <td>8.0500</td>\n",
       "      <td>2</td>\n",
       "    </tr>\n",
       "  </tbody>\n",
       "</table>\n",
       "</div>"
      ],
      "text/plain": [
       "   Survived  Pclass  Sex   Age  SibSp  Parch     Fare  Embarked\n",
       "0         0       3    1  22.0      1      0   7.2500         2\n",
       "1         1       1    0  38.0      1      0  71.2833         0\n",
       "2         1       3    0  26.0      0      0   7.9250         2\n",
       "3         1       1    0  35.0      1      0  53.1000         2\n",
       "4         0       3    1  35.0      0      0   8.0500         2"
      ]
     },
     "execution_count": 28,
     "metadata": {},
     "output_type": "execute_result"
    }
   ],
   "source": [
    "data.head()"
   ]
  },
  {
   "cell_type": "markdown",
   "id": "438aeb45-0e41-4903-92bc-28d9f78027bb",
   "metadata": {},
   "source": [
    "ستون‌های ۱ تا آخر: بردار ویژگی ما هستند\n",
    "\n",
    "ستون صفرم: بردار هدف ما هست"
   ]
  },
  {
   "cell_type": "code",
   "execution_count": 29,
   "id": "98e6692f-91e0-4a51-9f4a-251627b62193",
   "metadata": {
    "execution": {
     "iopub.execute_input": "2023-11-02T13:54:26.784277Z",
     "iopub.status.busy": "2023-11-02T13:54:26.783359Z",
     "iopub.status.idle": "2023-11-02T13:54:26.919884Z",
     "shell.execute_reply": "2023-11-02T13:54:26.918063Z",
     "shell.execute_reply.started": "2023-11-02T13:54:26.784199Z"
    },
    "tags": []
   },
   "outputs": [],
   "source": [
    "X = data.iloc[:, 1:].values # Convert to numpy with values method\n",
    "y = data.iloc[:, 0].values"
   ]
  },
  {
   "cell_type": "code",
   "execution_count": 30,
   "id": "3eab6801-ca80-4f72-a72b-a0e2e77fc2e3",
   "metadata": {
    "execution": {
     "iopub.execute_input": "2023-11-02T13:54:26.922314Z",
     "iopub.status.busy": "2023-11-02T13:54:26.921747Z",
     "iopub.status.idle": "2023-11-02T13:54:27.007876Z",
     "shell.execute_reply": "2023-11-02T13:54:27.007291Z",
     "shell.execute_reply.started": "2023-11-02T13:54:26.922260Z"
    },
    "tags": []
   },
   "outputs": [
    {
     "data": {
      "text/plain": [
       "((891, 7), (891,))"
      ]
     },
     "execution_count": 30,
     "metadata": {},
     "output_type": "execute_result"
    }
   ],
   "source": [
    "X.shape, y.shape"
   ]
  },
  {
   "cell_type": "code",
   "execution_count": 31,
   "id": "516ccb12-984e-42b6-84b8-78d97de27e1d",
   "metadata": {
    "execution": {
     "iopub.execute_input": "2023-11-02T13:54:27.008943Z",
     "iopub.status.busy": "2023-11-02T13:54:27.008717Z",
     "iopub.status.idle": "2023-11-02T13:54:27.118755Z",
     "shell.execute_reply": "2023-11-02T13:54:27.118027Z",
     "shell.execute_reply.started": "2023-11-02T13:54:27.008921Z"
    },
    "tags": []
   },
   "outputs": [
    {
     "data": {
      "text/plain": [
       "(numpy.ndarray, numpy.ndarray)"
      ]
     },
     "execution_count": 31,
     "metadata": {},
     "output_type": "execute_result"
    }
   ],
   "source": [
    "type(X), type(y) # numpy array type"
   ]
  },
  {
   "cell_type": "markdown",
   "id": "ec87d594-38d1-49b7-a8d9-a5835934004e",
   "metadata": {},
   "source": [
    "با استفاده از کتابخانه، داده‌های خود را به دو قسمت داده‌های آموزشی و داده‌های تست تقسیم بندی می‌کنیم\n",
    "\n",
    "هشتاد درصد داده‌های: آموزشی\n",
    "بیست درصد داده‌ها: تست\n",
    "\n",
    "random_state\n",
    "\n",
    "در اینجا برای شبیه‌سازی یکسان تصادفی است"
   ]
  },
  {
   "cell_type": "code",
   "execution_count": 32,
   "id": "4181d4d3-4645-4a65-bd78-9b7fea471f3a",
   "metadata": {
    "execution": {
     "iopub.execute_input": "2023-11-02T13:54:27.119770Z",
     "iopub.status.busy": "2023-11-02T13:54:27.119542Z",
     "iopub.status.idle": "2023-11-02T13:54:27.298598Z",
     "shell.execute_reply": "2023-11-02T13:54:27.296604Z",
     "shell.execute_reply.started": "2023-11-02T13:54:27.119739Z"
    },
    "tags": []
   },
   "outputs": [],
   "source": [
    "X_train, X_test, y_train, y_test = train_test_split(X, y, train_size=0.8, random_state=1234)"
   ]
  },
  {
   "cell_type": "code",
   "execution_count": 33,
   "id": "d5874c9e-6dba-4b85-878e-b414177b64da",
   "metadata": {
    "execution": {
     "iopub.execute_input": "2023-11-02T13:54:27.301272Z",
     "iopub.status.busy": "2023-11-02T13:54:27.300668Z",
     "iopub.status.idle": "2023-11-02T13:54:27.423171Z",
     "shell.execute_reply": "2023-11-02T13:54:27.420749Z",
     "shell.execute_reply.started": "2023-11-02T13:54:27.301201Z"
    },
    "tags": []
   },
   "outputs": [
    {
     "data": {
      "text/plain": [
       "((712, 7), (712,))"
      ]
     },
     "execution_count": 33,
     "metadata": {},
     "output_type": "execute_result"
    }
   ],
   "source": [
    "X_train.shape, y_train.shape"
   ]
  },
  {
   "cell_type": "code",
   "execution_count": 34,
   "id": "192f9cca-9b67-4ce2-83dc-8a9b36a3ffef",
   "metadata": {
    "execution": {
     "iopub.execute_input": "2023-11-02T13:54:27.425875Z",
     "iopub.status.busy": "2023-11-02T13:54:27.425528Z",
     "iopub.status.idle": "2023-11-02T13:54:27.518759Z",
     "shell.execute_reply": "2023-11-02T13:54:27.517773Z",
     "shell.execute_reply.started": "2023-11-02T13:54:27.425849Z"
    },
    "tags": []
   },
   "outputs": [
    {
     "data": {
      "text/plain": [
       "((179, 7), (179,))"
      ]
     },
     "execution_count": 34,
     "metadata": {},
     "output_type": "execute_result"
    }
   ],
   "source": [
    "X_test.shape, y_test.shape"
   ]
  },
  {
   "cell_type": "markdown",
   "id": "7fd9b5b5-aa30-497c-8bcd-17f220ce4da4",
   "metadata": {
    "tags": []
   },
   "source": [
    "ساخت یک نمونه از جنگل تصادفی با تعداد معین از درخت تصمیم"
   ]
  },
  {
   "cell_type": "code",
   "execution_count": 35,
   "id": "16769bdb-3c61-47f8-b456-0f913c6b2f83",
   "metadata": {
    "execution": {
     "iopub.execute_input": "2023-11-02T13:54:27.519900Z",
     "iopub.status.busy": "2023-11-02T13:54:27.519652Z",
     "iopub.status.idle": "2023-11-02T13:54:27.616793Z",
     "shell.execute_reply": "2023-11-02T13:54:27.615972Z",
     "shell.execute_reply.started": "2023-11-02T13:54:27.519882Z"
    },
    "tags": []
   },
   "outputs": [],
   "source": [
    "rfc = RandomForestClassifier(n_estimators=100)"
   ]
  },
  {
   "cell_type": "markdown",
   "id": "1b8f0ca6-048a-4765-bc90-9bfe8e7fa997",
   "metadata": {},
   "source": [
    "آموزش مدل با استفاده از داد‌های آموزشی"
   ]
  },
  {
   "cell_type": "code",
   "execution_count": 36,
   "id": "2885b81f-2314-4ae1-99b1-e45450c0d9b4",
   "metadata": {
    "execution": {
     "iopub.execute_input": "2023-11-02T13:54:27.618254Z",
     "iopub.status.busy": "2023-11-02T13:54:27.618013Z",
     "iopub.status.idle": "2023-11-02T13:54:27.962078Z",
     "shell.execute_reply": "2023-11-02T13:54:27.961282Z",
     "shell.execute_reply.started": "2023-11-02T13:54:27.618233Z"
    },
    "tags": []
   },
   "outputs": [
    {
     "data": {
      "text/html": [
       "<style>#sk-container-id-1 {color: black;}#sk-container-id-1 pre{padding: 0;}#sk-container-id-1 div.sk-toggleable {background-color: white;}#sk-container-id-1 label.sk-toggleable__label {cursor: pointer;display: block;width: 100%;margin-bottom: 0;padding: 0.3em;box-sizing: border-box;text-align: center;}#sk-container-id-1 label.sk-toggleable__label-arrow:before {content: \"▸\";float: left;margin-right: 0.25em;color: #696969;}#sk-container-id-1 label.sk-toggleable__label-arrow:hover:before {color: black;}#sk-container-id-1 div.sk-estimator:hover label.sk-toggleable__label-arrow:before {color: black;}#sk-container-id-1 div.sk-toggleable__content {max-height: 0;max-width: 0;overflow: hidden;text-align: left;background-color: #f0f8ff;}#sk-container-id-1 div.sk-toggleable__content pre {margin: 0.2em;color: black;border-radius: 0.25em;background-color: #f0f8ff;}#sk-container-id-1 input.sk-toggleable__control:checked~div.sk-toggleable__content {max-height: 200px;max-width: 100%;overflow: auto;}#sk-container-id-1 input.sk-toggleable__control:checked~label.sk-toggleable__label-arrow:before {content: \"▾\";}#sk-container-id-1 div.sk-estimator input.sk-toggleable__control:checked~label.sk-toggleable__label {background-color: #d4ebff;}#sk-container-id-1 div.sk-label input.sk-toggleable__control:checked~label.sk-toggleable__label {background-color: #d4ebff;}#sk-container-id-1 input.sk-hidden--visually {border: 0;clip: rect(1px 1px 1px 1px);clip: rect(1px, 1px, 1px, 1px);height: 1px;margin: -1px;overflow: hidden;padding: 0;position: absolute;width: 1px;}#sk-container-id-1 div.sk-estimator {font-family: monospace;background-color: #f0f8ff;border: 1px dotted black;border-radius: 0.25em;box-sizing: border-box;margin-bottom: 0.5em;}#sk-container-id-1 div.sk-estimator:hover {background-color: #d4ebff;}#sk-container-id-1 div.sk-parallel-item::after {content: \"\";width: 100%;border-bottom: 1px solid gray;flex-grow: 1;}#sk-container-id-1 div.sk-label:hover label.sk-toggleable__label {background-color: #d4ebff;}#sk-container-id-1 div.sk-serial::before {content: \"\";position: absolute;border-left: 1px solid gray;box-sizing: border-box;top: 0;bottom: 0;left: 50%;z-index: 0;}#sk-container-id-1 div.sk-serial {display: flex;flex-direction: column;align-items: center;background-color: white;padding-right: 0.2em;padding-left: 0.2em;position: relative;}#sk-container-id-1 div.sk-item {position: relative;z-index: 1;}#sk-container-id-1 div.sk-parallel {display: flex;align-items: stretch;justify-content: center;background-color: white;position: relative;}#sk-container-id-1 div.sk-item::before, #sk-container-id-1 div.sk-parallel-item::before {content: \"\";position: absolute;border-left: 1px solid gray;box-sizing: border-box;top: 0;bottom: 0;left: 50%;z-index: -1;}#sk-container-id-1 div.sk-parallel-item {display: flex;flex-direction: column;z-index: 1;position: relative;background-color: white;}#sk-container-id-1 div.sk-parallel-item:first-child::after {align-self: flex-end;width: 50%;}#sk-container-id-1 div.sk-parallel-item:last-child::after {align-self: flex-start;width: 50%;}#sk-container-id-1 div.sk-parallel-item:only-child::after {width: 0;}#sk-container-id-1 div.sk-dashed-wrapped {border: 1px dashed gray;margin: 0 0.4em 0.5em 0.4em;box-sizing: border-box;padding-bottom: 0.4em;background-color: white;}#sk-container-id-1 div.sk-label label {font-family: monospace;font-weight: bold;display: inline-block;line-height: 1.2em;}#sk-container-id-1 div.sk-label-container {text-align: center;}#sk-container-id-1 div.sk-container {/* jupyter's `normalize.less` sets `[hidden] { display: none; }` but bootstrap.min.css set `[hidden] { display: none !important; }` so we also need the `!important` here to be able to override the default hidden behavior on the sphinx rendered scikit-learn.org. See: https://github.com/scikit-learn/scikit-learn/issues/21755 */display: inline-block !important;position: relative;}#sk-container-id-1 div.sk-text-repr-fallback {display: none;}</style><div id=\"sk-container-id-1\" class=\"sk-top-container\"><div class=\"sk-text-repr-fallback\"><pre>RandomForestClassifier()</pre><b>In a Jupyter environment, please rerun this cell to show the HTML representation or trust the notebook. <br />On GitHub, the HTML representation is unable to render, please try loading this page with nbviewer.org.</b></div><div class=\"sk-container\" hidden><div class=\"sk-item\"><div class=\"sk-estimator sk-toggleable\"><input class=\"sk-toggleable__control sk-hidden--visually\" id=\"sk-estimator-id-1\" type=\"checkbox\" checked><label for=\"sk-estimator-id-1\" class=\"sk-toggleable__label sk-toggleable__label-arrow\">RandomForestClassifier</label><div class=\"sk-toggleable__content\"><pre>RandomForestClassifier()</pre></div></div></div></div></div>"
      ],
      "text/plain": [
       "RandomForestClassifier()"
      ]
     },
     "execution_count": 36,
     "metadata": {},
     "output_type": "execute_result"
    }
   ],
   "source": [
    "rfc.fit(X_train, y_train)"
   ]
  },
  {
   "cell_type": "markdown",
   "id": "01faa001-9e5c-48ac-bce8-7a16cbfed3a4",
   "metadata": {},
   "source": [
    "تست کردن مدل با داد‌های آزمایشی"
   ]
  },
  {
   "cell_type": "code",
   "execution_count": 37,
   "id": "62a95bb5-13c7-4c3d-9e49-ad46854aaf03",
   "metadata": {
    "execution": {
     "iopub.execute_input": "2023-11-02T13:54:27.963250Z",
     "iopub.status.busy": "2023-11-02T13:54:27.963017Z",
     "iopub.status.idle": "2023-11-02T13:54:27.977835Z",
     "shell.execute_reply": "2023-11-02T13:54:27.977003Z",
     "shell.execute_reply.started": "2023-11-02T13:54:27.963229Z"
    },
    "tags": []
   },
   "outputs": [],
   "source": [
    "y_pred_test = rfc.predict(X_test)"
   ]
  },
  {
   "cell_type": "code",
   "execution_count": 38,
   "id": "0323061f-10d9-42b6-a7f6-08176741bb63",
   "metadata": {
    "execution": {
     "iopub.execute_input": "2023-11-02T13:54:27.979009Z",
     "iopub.status.busy": "2023-11-02T13:54:27.978760Z",
     "iopub.status.idle": "2023-11-02T13:54:28.075916Z",
     "shell.execute_reply": "2023-11-02T13:54:28.075143Z",
     "shell.execute_reply.started": "2023-11-02T13:54:27.978986Z"
    },
    "tags": []
   },
   "outputs": [],
   "source": [
    "y_pred_train = rfc.predict(X_train)"
   ]
  },
  {
   "cell_type": "markdown",
   "id": "f7856d46-37d7-464c-b625-60d359e30fa6",
   "metadata": {
    "tags": []
   },
   "source": [
    "## گام 3 - گزارش عملکرد و نتایج مدل"
   ]
  },
  {
   "cell_type": "markdown",
   "id": "45eaad5f-5c28-4280-bee6-687881fccb62",
   "metadata": {},
   "source": [
    "محاسبه انواع گوناگون معیار‌های ارزیابی در مدل سازی طبقه‌بندی"
   ]
  },
  {
   "cell_type": "markdown",
   "id": "9ce47fe9-4223-4cb3-adf6-ceaddf4aa4eb",
   "metadata": {},
   "source": [
    "ارزیابی مدل در نمونه‌های آموزشی"
   ]
  },
  {
   "cell_type": "code",
   "execution_count": 39,
   "id": "0ab10f90-b487-43d6-a913-79615c6cc2f2",
   "metadata": {
    "execution": {
     "iopub.execute_input": "2023-11-02T13:54:28.077079Z",
     "iopub.status.busy": "2023-11-02T13:54:28.076727Z",
     "iopub.status.idle": "2023-11-02T13:54:28.226799Z",
     "shell.execute_reply": "2023-11-02T13:54:28.225845Z",
     "shell.execute_reply.started": "2023-11-02T13:54:28.077056Z"
    },
    "tags": []
   },
   "outputs": [
    {
     "name": "stdout",
     "output_type": "stream",
     "text": [
      "              precision    recall  f1-score   support\n",
      "\n",
      "           0       0.99      0.99      0.99       440\n",
      "           1       0.98      0.98      0.98       272\n",
      "\n",
      "    accuracy                           0.98       712\n",
      "   macro avg       0.98      0.98      0.98       712\n",
      "weighted avg       0.98      0.98      0.98       712\n",
      "\n"
     ]
    }
   ],
   "source": [
    "print(classification_report(y_train, y_pred_train))"
   ]
  },
  {
   "cell_type": "markdown",
   "id": "0506457c-3002-4795-9135-373814617dac",
   "metadata": {},
   "source": [
    "ارزیابی مدل با نمونه‌های تست"
   ]
  },
  {
   "cell_type": "code",
   "execution_count": 40,
   "id": "87355378-bb58-40b4-a71d-0f96d3ee2ab4",
   "metadata": {
    "execution": {
     "iopub.execute_input": "2023-11-02T13:54:28.228111Z",
     "iopub.status.busy": "2023-11-02T13:54:28.227830Z",
     "iopub.status.idle": "2023-11-02T13:54:28.375343Z",
     "shell.execute_reply": "2023-11-02T13:54:28.373976Z",
     "shell.execute_reply.started": "2023-11-02T13:54:28.228083Z"
    },
    "tags": []
   },
   "outputs": [
    {
     "name": "stdout",
     "output_type": "stream",
     "text": [
      "              precision    recall  f1-score   support\n",
      "\n",
      "           0       0.84      0.88      0.86       109\n",
      "           1       0.80      0.74      0.77        70\n",
      "\n",
      "    accuracy                           0.83       179\n",
      "   macro avg       0.82      0.81      0.82       179\n",
      "weighted avg       0.83      0.83      0.83       179\n",
      "\n"
     ]
    }
   ],
   "source": [
    "print(classification_report(y_test, y_pred_test))"
   ]
  },
  {
   "cell_type": "code",
   "execution_count": 41,
   "id": "dc82a2d7-f090-41d6-bbc7-43373e07d359",
   "metadata": {
    "execution": {
     "iopub.execute_input": "2023-11-02T13:54:28.376828Z",
     "iopub.status.busy": "2023-11-02T13:54:28.376379Z",
     "iopub.status.idle": "2023-11-02T13:54:28.472745Z",
     "shell.execute_reply": "2023-11-02T13:54:28.472015Z",
     "shell.execute_reply.started": "2023-11-02T13:54:28.376765Z"
    },
    "tags": []
   },
   "outputs": [
    {
     "data": {
      "text/plain": [
       "array([[96, 13],\n",
       "       [18, 52]])"
      ]
     },
     "execution_count": 41,
     "metadata": {},
     "output_type": "execute_result"
    }
   ],
   "source": [
    "confusion_matrix(y_test, y_pred_test)"
   ]
  }
 ],
 "metadata": {
  "kernelspec": {
   "display_name": "Python 3 (ipykernel)",
   "language": "python",
   "name": "python3"
  },
  "language_info": {
   "codemirror_mode": {
    "name": "ipython",
    "version": 3
   },
   "file_extension": ".py",
   "mimetype": "text/x-python",
   "name": "python",
   "nbconvert_exporter": "python",
   "pygments_lexer": "ipython3",
   "version": "3.11.4"
  },
  "widgets": {
   "application/vnd.jupyter.widget-state+json": {
    "state": {},
    "version_major": 2,
    "version_minor": 0
   }
  }
 },
 "nbformat": 4,
 "nbformat_minor": 5
}
