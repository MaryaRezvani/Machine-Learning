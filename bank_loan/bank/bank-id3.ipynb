{
 "cells": [
  {
   "cell_type": "code",
   "execution_count": 43,
   "id": "27679248-8b62-4db2-9a95-109033e59934",
   "metadata": {
    "execution": {
     "iopub.execute_input": "2023-11-10T18:08:49.960397Z",
     "iopub.status.busy": "2023-11-10T18:08:49.960112Z",
     "iopub.status.idle": "2023-11-10T18:08:49.963924Z",
     "shell.execute_reply": "2023-11-10T18:08:49.963405Z",
     "shell.execute_reply.started": "2023-11-10T18:08:49.960373Z"
    },
    "tags": []
   },
   "outputs": [],
   "source": [
    "import pandas as pd\n",
    "import numpy as np\n",
    "from sklearn.model_selection import train_test_split\n",
    "from sklearn.tree import DecisionTreeClassifier, plot_tree\n",
    "from sklearn.preprocessing import LabelEncoder\n",
    "from sklearn.metrics import confusion_matrix, classification_report"
   ]
  },
  {
   "cell_type": "code",
   "execution_count": 2,
   "id": "c46b698d-0b4a-4098-a39d-f5677c23c8c1",
   "metadata": {
    "execution": {
     "iopub.execute_input": "2023-11-10T18:07:49.060697Z",
     "iopub.status.busy": "2023-11-10T18:07:49.060356Z",
     "iopub.status.idle": "2023-11-10T18:07:49.077399Z",
     "shell.execute_reply": "2023-11-10T18:07:49.076706Z",
     "shell.execute_reply.started": "2023-11-10T18:07:49.060667Z"
    },
    "tags": []
   },
   "outputs": [],
   "source": [
    "df = pd.read_csv(\"./bank.csv\", delimiter=\";\")"
   ]
  },
  {
   "cell_type": "code",
   "execution_count": 3,
   "id": "e3f7415f-9374-4ce0-aa82-98428ce9eaf7",
   "metadata": {
    "execution": {
     "iopub.execute_input": "2023-11-10T18:07:49.078711Z",
     "iopub.status.busy": "2023-11-10T18:07:49.078362Z",
     "iopub.status.idle": "2023-11-10T18:07:49.198697Z",
     "shell.execute_reply": "2023-11-10T18:07:49.198003Z",
     "shell.execute_reply.started": "2023-11-10T18:07:49.078675Z"
    },
    "tags": []
   },
   "outputs": [
    {
     "data": {
      "text/html": [
       "<div>\n",
       "<style scoped>\n",
       "    .dataframe tbody tr th:only-of-type {\n",
       "        vertical-align: middle;\n",
       "    }\n",
       "\n",
       "    .dataframe tbody tr th {\n",
       "        vertical-align: top;\n",
       "    }\n",
       "\n",
       "    .dataframe thead th {\n",
       "        text-align: right;\n",
       "    }\n",
       "</style>\n",
       "<table border=\"1\" class=\"dataframe\">\n",
       "  <thead>\n",
       "    <tr style=\"text-align: right;\">\n",
       "      <th></th>\n",
       "      <th>age</th>\n",
       "      <th>job</th>\n",
       "      <th>marital</th>\n",
       "      <th>education</th>\n",
       "      <th>default</th>\n",
       "      <th>balance</th>\n",
       "      <th>housing</th>\n",
       "      <th>loan</th>\n",
       "      <th>contact</th>\n",
       "      <th>day</th>\n",
       "      <th>month</th>\n",
       "      <th>duration</th>\n",
       "      <th>campaign</th>\n",
       "      <th>pdays</th>\n",
       "      <th>previous</th>\n",
       "      <th>poutcome</th>\n",
       "      <th>y</th>\n",
       "    </tr>\n",
       "  </thead>\n",
       "  <tbody>\n",
       "    <tr>\n",
       "      <th>0</th>\n",
       "      <td>30</td>\n",
       "      <td>unemployed</td>\n",
       "      <td>married</td>\n",
       "      <td>primary</td>\n",
       "      <td>no</td>\n",
       "      <td>1787</td>\n",
       "      <td>no</td>\n",
       "      <td>no</td>\n",
       "      <td>cellular</td>\n",
       "      <td>19</td>\n",
       "      <td>oct</td>\n",
       "      <td>79</td>\n",
       "      <td>1</td>\n",
       "      <td>-1</td>\n",
       "      <td>0</td>\n",
       "      <td>unknown</td>\n",
       "      <td>no</td>\n",
       "    </tr>\n",
       "    <tr>\n",
       "      <th>1</th>\n",
       "      <td>33</td>\n",
       "      <td>services</td>\n",
       "      <td>married</td>\n",
       "      <td>secondary</td>\n",
       "      <td>no</td>\n",
       "      <td>4789</td>\n",
       "      <td>yes</td>\n",
       "      <td>yes</td>\n",
       "      <td>cellular</td>\n",
       "      <td>11</td>\n",
       "      <td>may</td>\n",
       "      <td>220</td>\n",
       "      <td>1</td>\n",
       "      <td>339</td>\n",
       "      <td>4</td>\n",
       "      <td>failure</td>\n",
       "      <td>no</td>\n",
       "    </tr>\n",
       "    <tr>\n",
       "      <th>2</th>\n",
       "      <td>35</td>\n",
       "      <td>management</td>\n",
       "      <td>single</td>\n",
       "      <td>tertiary</td>\n",
       "      <td>no</td>\n",
       "      <td>1350</td>\n",
       "      <td>yes</td>\n",
       "      <td>no</td>\n",
       "      <td>cellular</td>\n",
       "      <td>16</td>\n",
       "      <td>apr</td>\n",
       "      <td>185</td>\n",
       "      <td>1</td>\n",
       "      <td>330</td>\n",
       "      <td>1</td>\n",
       "      <td>failure</td>\n",
       "      <td>no</td>\n",
       "    </tr>\n",
       "    <tr>\n",
       "      <th>3</th>\n",
       "      <td>30</td>\n",
       "      <td>management</td>\n",
       "      <td>married</td>\n",
       "      <td>tertiary</td>\n",
       "      <td>no</td>\n",
       "      <td>1476</td>\n",
       "      <td>yes</td>\n",
       "      <td>yes</td>\n",
       "      <td>unknown</td>\n",
       "      <td>3</td>\n",
       "      <td>jun</td>\n",
       "      <td>199</td>\n",
       "      <td>4</td>\n",
       "      <td>-1</td>\n",
       "      <td>0</td>\n",
       "      <td>unknown</td>\n",
       "      <td>no</td>\n",
       "    </tr>\n",
       "    <tr>\n",
       "      <th>4</th>\n",
       "      <td>59</td>\n",
       "      <td>blue-collar</td>\n",
       "      <td>married</td>\n",
       "      <td>secondary</td>\n",
       "      <td>no</td>\n",
       "      <td>0</td>\n",
       "      <td>yes</td>\n",
       "      <td>no</td>\n",
       "      <td>unknown</td>\n",
       "      <td>5</td>\n",
       "      <td>may</td>\n",
       "      <td>226</td>\n",
       "      <td>1</td>\n",
       "      <td>-1</td>\n",
       "      <td>0</td>\n",
       "      <td>unknown</td>\n",
       "      <td>no</td>\n",
       "    </tr>\n",
       "  </tbody>\n",
       "</table>\n",
       "</div>"
      ],
      "text/plain": [
       "   age          job  marital  education default  balance housing loan  \\\n",
       "0   30   unemployed  married    primary      no     1787      no   no   \n",
       "1   33     services  married  secondary      no     4789     yes  yes   \n",
       "2   35   management   single   tertiary      no     1350     yes   no   \n",
       "3   30   management  married   tertiary      no     1476     yes  yes   \n",
       "4   59  blue-collar  married  secondary      no        0     yes   no   \n",
       "\n",
       "    contact  day month  duration  campaign  pdays  previous poutcome   y  \n",
       "0  cellular   19   oct        79         1     -1         0  unknown  no  \n",
       "1  cellular   11   may       220         1    339         4  failure  no  \n",
       "2  cellular   16   apr       185         1    330         1  failure  no  \n",
       "3   unknown    3   jun       199         4     -1         0  unknown  no  \n",
       "4   unknown    5   may       226         1     -1         0  unknown  no  "
      ]
     },
     "execution_count": 3,
     "metadata": {},
     "output_type": "execute_result"
    }
   ],
   "source": [
    "df.head()"
   ]
  },
  {
   "cell_type": "code",
   "execution_count": 4,
   "id": "72b1a688-1c6a-4e63-a8fe-f7e2cdc27678",
   "metadata": {
    "execution": {
     "iopub.execute_input": "2023-11-10T18:07:49.199760Z",
     "iopub.status.busy": "2023-11-10T18:07:49.199475Z",
     "iopub.status.idle": "2023-11-10T18:07:49.337287Z",
     "shell.execute_reply": "2023-11-10T18:07:49.336444Z",
     "shell.execute_reply.started": "2023-11-10T18:07:49.199731Z"
    },
    "tags": []
   },
   "outputs": [
    {
     "data": {
      "text/html": [
       "<div>\n",
       "<style scoped>\n",
       "    .dataframe tbody tr th:only-of-type {\n",
       "        vertical-align: middle;\n",
       "    }\n",
       "\n",
       "    .dataframe tbody tr th {\n",
       "        vertical-align: top;\n",
       "    }\n",
       "\n",
       "    .dataframe thead th {\n",
       "        text-align: right;\n",
       "    }\n",
       "</style>\n",
       "<table border=\"1\" class=\"dataframe\">\n",
       "  <thead>\n",
       "    <tr style=\"text-align: right;\">\n",
       "      <th></th>\n",
       "      <th>age</th>\n",
       "      <th>balance</th>\n",
       "      <th>day</th>\n",
       "      <th>duration</th>\n",
       "      <th>campaign</th>\n",
       "      <th>pdays</th>\n",
       "      <th>previous</th>\n",
       "    </tr>\n",
       "  </thead>\n",
       "  <tbody>\n",
       "    <tr>\n",
       "      <th>count</th>\n",
       "      <td>4521.000000</td>\n",
       "      <td>4521.000000</td>\n",
       "      <td>4521.000000</td>\n",
       "      <td>4521.000000</td>\n",
       "      <td>4521.000000</td>\n",
       "      <td>4521.000000</td>\n",
       "      <td>4521.000000</td>\n",
       "    </tr>\n",
       "    <tr>\n",
       "      <th>mean</th>\n",
       "      <td>41.170095</td>\n",
       "      <td>1422.657819</td>\n",
       "      <td>15.915284</td>\n",
       "      <td>263.961292</td>\n",
       "      <td>2.793630</td>\n",
       "      <td>39.766645</td>\n",
       "      <td>0.542579</td>\n",
       "    </tr>\n",
       "    <tr>\n",
       "      <th>std</th>\n",
       "      <td>10.576211</td>\n",
       "      <td>3009.638142</td>\n",
       "      <td>8.247667</td>\n",
       "      <td>259.856633</td>\n",
       "      <td>3.109807</td>\n",
       "      <td>100.121124</td>\n",
       "      <td>1.693562</td>\n",
       "    </tr>\n",
       "    <tr>\n",
       "      <th>min</th>\n",
       "      <td>19.000000</td>\n",
       "      <td>-3313.000000</td>\n",
       "      <td>1.000000</td>\n",
       "      <td>4.000000</td>\n",
       "      <td>1.000000</td>\n",
       "      <td>-1.000000</td>\n",
       "      <td>0.000000</td>\n",
       "    </tr>\n",
       "    <tr>\n",
       "      <th>25%</th>\n",
       "      <td>33.000000</td>\n",
       "      <td>69.000000</td>\n",
       "      <td>9.000000</td>\n",
       "      <td>104.000000</td>\n",
       "      <td>1.000000</td>\n",
       "      <td>-1.000000</td>\n",
       "      <td>0.000000</td>\n",
       "    </tr>\n",
       "    <tr>\n",
       "      <th>50%</th>\n",
       "      <td>39.000000</td>\n",
       "      <td>444.000000</td>\n",
       "      <td>16.000000</td>\n",
       "      <td>185.000000</td>\n",
       "      <td>2.000000</td>\n",
       "      <td>-1.000000</td>\n",
       "      <td>0.000000</td>\n",
       "    </tr>\n",
       "    <tr>\n",
       "      <th>75%</th>\n",
       "      <td>49.000000</td>\n",
       "      <td>1480.000000</td>\n",
       "      <td>21.000000</td>\n",
       "      <td>329.000000</td>\n",
       "      <td>3.000000</td>\n",
       "      <td>-1.000000</td>\n",
       "      <td>0.000000</td>\n",
       "    </tr>\n",
       "    <tr>\n",
       "      <th>max</th>\n",
       "      <td>87.000000</td>\n",
       "      <td>71188.000000</td>\n",
       "      <td>31.000000</td>\n",
       "      <td>3025.000000</td>\n",
       "      <td>50.000000</td>\n",
       "      <td>871.000000</td>\n",
       "      <td>25.000000</td>\n",
       "    </tr>\n",
       "  </tbody>\n",
       "</table>\n",
       "</div>"
      ],
      "text/plain": [
       "               age       balance          day     duration     campaign  \\\n",
       "count  4521.000000   4521.000000  4521.000000  4521.000000  4521.000000   \n",
       "mean     41.170095   1422.657819    15.915284   263.961292     2.793630   \n",
       "std      10.576211   3009.638142     8.247667   259.856633     3.109807   \n",
       "min      19.000000  -3313.000000     1.000000     4.000000     1.000000   \n",
       "25%      33.000000     69.000000     9.000000   104.000000     1.000000   \n",
       "50%      39.000000    444.000000    16.000000   185.000000     2.000000   \n",
       "75%      49.000000   1480.000000    21.000000   329.000000     3.000000   \n",
       "max      87.000000  71188.000000    31.000000  3025.000000    50.000000   \n",
       "\n",
       "             pdays     previous  \n",
       "count  4521.000000  4521.000000  \n",
       "mean     39.766645     0.542579  \n",
       "std     100.121124     1.693562  \n",
       "min      -1.000000     0.000000  \n",
       "25%      -1.000000     0.000000  \n",
       "50%      -1.000000     0.000000  \n",
       "75%      -1.000000     0.000000  \n",
       "max     871.000000    25.000000  "
      ]
     },
     "execution_count": 4,
     "metadata": {},
     "output_type": "execute_result"
    }
   ],
   "source": [
    "df.describe()"
   ]
  },
  {
   "cell_type": "code",
   "execution_count": 5,
   "id": "59b461c3-c1a7-4934-a8f7-4237be7b1cf7",
   "metadata": {
    "execution": {
     "iopub.execute_input": "2023-11-10T18:07:49.338459Z",
     "iopub.status.busy": "2023-11-10T18:07:49.338149Z",
     "iopub.status.idle": "2023-11-10T18:07:49.490782Z",
     "shell.execute_reply": "2023-11-10T18:07:49.488953Z",
     "shell.execute_reply.started": "2023-11-10T18:07:49.338427Z"
    },
    "tags": []
   },
   "outputs": [
    {
     "name": "stdout",
     "output_type": "stream",
     "text": [
      "<class 'pandas.core.frame.DataFrame'>\n",
      "RangeIndex: 4521 entries, 0 to 4520\n",
      "Data columns (total 17 columns):\n",
      " #   Column     Non-Null Count  Dtype \n",
      "---  ------     --------------  ----- \n",
      " 0   age        4521 non-null   int64 \n",
      " 1   job        4521 non-null   object\n",
      " 2   marital    4521 non-null   object\n",
      " 3   education  4521 non-null   object\n",
      " 4   default    4521 non-null   object\n",
      " 5   balance    4521 non-null   int64 \n",
      " 6   housing    4521 non-null   object\n",
      " 7   loan       4521 non-null   object\n",
      " 8   contact    4521 non-null   object\n",
      " 9   day        4521 non-null   int64 \n",
      " 10  month      4521 non-null   object\n",
      " 11  duration   4521 non-null   int64 \n",
      " 12  campaign   4521 non-null   int64 \n",
      " 13  pdays      4521 non-null   int64 \n",
      " 14  previous   4521 non-null   int64 \n",
      " 15  poutcome   4521 non-null   object\n",
      " 16  y          4521 non-null   object\n",
      "dtypes: int64(7), object(10)\n",
      "memory usage: 600.6+ KB\n"
     ]
    }
   ],
   "source": [
    "df.info()"
   ]
  },
  {
   "cell_type": "code",
   "execution_count": 6,
   "id": "f951a1e0-f842-4519-b966-f0514aff416d",
   "metadata": {
    "execution": {
     "iopub.execute_input": "2023-11-10T18:07:49.492496Z",
     "iopub.status.busy": "2023-11-10T18:07:49.492137Z",
     "iopub.status.idle": "2023-11-10T18:07:49.610837Z",
     "shell.execute_reply": "2023-11-10T18:07:49.609740Z",
     "shell.execute_reply.started": "2023-11-10T18:07:49.492468Z"
    },
    "tags": []
   },
   "outputs": [
    {
     "data": {
      "text/plain": [
       "age          0\n",
       "job          0\n",
       "marital      0\n",
       "education    0\n",
       "default      0\n",
       "balance      0\n",
       "housing      0\n",
       "loan         0\n",
       "contact      0\n",
       "day          0\n",
       "month        0\n",
       "duration     0\n",
       "campaign     0\n",
       "pdays        0\n",
       "previous     0\n",
       "poutcome     0\n",
       "y            0\n",
       "dtype: int64"
      ]
     },
     "execution_count": 6,
     "metadata": {},
     "output_type": "execute_result"
    }
   ],
   "source": [
    "df.isnull().sum()"
   ]
  },
  {
   "cell_type": "code",
   "execution_count": 7,
   "id": "67bdd79c-dffd-44ef-ba19-c3fdd25dc586",
   "metadata": {
    "execution": {
     "iopub.execute_input": "2023-11-10T18:07:49.613978Z",
     "iopub.status.busy": "2023-11-10T18:07:49.613732Z",
     "iopub.status.idle": "2023-11-10T18:07:49.731143Z",
     "shell.execute_reply": "2023-11-10T18:07:49.730437Z",
     "shell.execute_reply.started": "2023-11-10T18:07:49.613961Z"
    },
    "tags": []
   },
   "outputs": [
    {
     "data": {
      "text/plain": [
       "count        4521\n",
       "unique          3\n",
       "top       married\n",
       "freq         2797\n",
       "Name: marital, dtype: object"
      ]
     },
     "execution_count": 7,
     "metadata": {},
     "output_type": "execute_result"
    }
   ],
   "source": [
    "df['marital'].describe()"
   ]
  },
  {
   "cell_type": "code",
   "execution_count": 8,
   "id": "ba564fab-3429-41a9-af8d-d226e37a482c",
   "metadata": {
    "execution": {
     "iopub.execute_input": "2023-11-10T18:07:49.732073Z",
     "iopub.status.busy": "2023-11-10T18:07:49.731870Z",
     "iopub.status.idle": "2023-11-10T18:07:49.840864Z",
     "shell.execute_reply": "2023-11-10T18:07:49.840088Z",
     "shell.execute_reply.started": "2023-11-10T18:07:49.732052Z"
    },
    "tags": []
   },
   "outputs": [
    {
     "data": {
      "text/plain": [
       "array(['married', 'single', 'divorced'], dtype=object)"
      ]
     },
     "execution_count": 8,
     "metadata": {},
     "output_type": "execute_result"
    }
   ],
   "source": [
    "df['marital'].unique()"
   ]
  },
  {
   "cell_type": "code",
   "execution_count": 9,
   "id": "dbb3df8e-0d55-4a9b-86ef-7eef6f823f3b",
   "metadata": {
    "execution": {
     "iopub.execute_input": "2023-11-10T18:07:49.841945Z",
     "iopub.status.busy": "2023-11-10T18:07:49.841731Z",
     "iopub.status.idle": "2023-11-10T18:07:49.944266Z",
     "shell.execute_reply": "2023-11-10T18:07:49.943396Z",
     "shell.execute_reply.started": "2023-11-10T18:07:49.841927Z"
    },
    "tags": []
   },
   "outputs": [
    {
     "name": "stdout",
     "output_type": "stream",
     "text": [
      "['divorced' 'married' 'single']\n"
     ]
    },
    {
     "data": {
      "text/plain": [
       "0       1\n",
       "1       1\n",
       "2       2\n",
       "3       1\n",
       "4       1\n",
       "       ..\n",
       "4516    1\n",
       "4517    1\n",
       "4518    1\n",
       "4519    1\n",
       "4520    2\n",
       "Name: marital, Length: 4521, dtype: int64"
      ]
     },
     "execution_count": 9,
     "metadata": {},
     "output_type": "execute_result"
    }
   ],
   "source": [
    "le_marital = LabelEncoder()\n",
    "df['marital'] = le_marital.fit_transform(df['marital'])\n",
    "print(le_marital.classes_)\n",
    "df['marital']"
   ]
  },
  {
   "cell_type": "code",
   "execution_count": 10,
   "id": "5445d0fd-fcee-405e-82c8-0a139402ff2b",
   "metadata": {
    "execution": {
     "iopub.execute_input": "2023-11-10T18:07:49.946008Z",
     "iopub.status.busy": "2023-11-10T18:07:49.945615Z",
     "iopub.status.idle": "2023-11-10T18:07:50.055755Z",
     "shell.execute_reply": "2023-11-10T18:07:50.053485Z",
     "shell.execute_reply.started": "2023-11-10T18:07:49.945971Z"
    },
    "tags": []
   },
   "outputs": [
    {
     "data": {
      "text/plain": [
       "array(['unemployed', 'services', 'management', 'blue-collar',\n",
       "       'self-employed', 'technician', 'entrepreneur', 'admin.', 'student',\n",
       "       'housemaid', 'retired', 'unknown'], dtype=object)"
      ]
     },
     "execution_count": 10,
     "metadata": {},
     "output_type": "execute_result"
    }
   ],
   "source": [
    "df['job'].unique()"
   ]
  },
  {
   "cell_type": "code",
   "execution_count": 11,
   "id": "bc3a28ea-48e8-40a7-ae96-e933eaf6e581",
   "metadata": {
    "execution": {
     "iopub.execute_input": "2023-11-10T18:07:50.058792Z",
     "iopub.status.busy": "2023-11-10T18:07:50.058131Z",
     "iopub.status.idle": "2023-11-10T18:07:50.217441Z",
     "shell.execute_reply": "2023-11-10T18:07:50.216760Z",
     "shell.execute_reply.started": "2023-11-10T18:07:50.058730Z"
    },
    "tags": []
   },
   "outputs": [
    {
     "name": "stdout",
     "output_type": "stream",
     "text": [
      "['admin.' 'blue-collar' 'entrepreneur' 'housemaid' 'management' 'retired'\n",
      " 'self-employed' 'services' 'student' 'technician' 'unemployed' 'unknown']\n"
     ]
    },
    {
     "data": {
      "text/plain": [
       "0       10\n",
       "1        7\n",
       "2        4\n",
       "3        4\n",
       "4        1\n",
       "        ..\n",
       "4516     7\n",
       "4517     6\n",
       "4518     9\n",
       "4519     1\n",
       "4520     2\n",
       "Name: job, Length: 4521, dtype: int64"
      ]
     },
     "execution_count": 11,
     "metadata": {},
     "output_type": "execute_result"
    }
   ],
   "source": [
    "le_job = LabelEncoder()\n",
    "df['job'] = le_job.fit_transform(df['job'])\n",
    "print(le_job.classes_)\n",
    "df['job']"
   ]
  },
  {
   "cell_type": "code",
   "execution_count": 12,
   "id": "f3708758-c359-4f02-91b9-f66e4c8abc22",
   "metadata": {
    "execution": {
     "iopub.execute_input": "2023-11-10T18:07:50.218388Z",
     "iopub.status.busy": "2023-11-10T18:07:50.218190Z",
     "iopub.status.idle": "2023-11-10T18:07:50.390577Z",
     "shell.execute_reply": "2023-11-10T18:07:50.388511Z",
     "shell.execute_reply.started": "2023-11-10T18:07:50.218370Z"
    },
    "tags": []
   },
   "outputs": [
    {
     "data": {
      "text/plain": [
       "array(['primary', 'secondary', 'tertiary', 'unknown'], dtype=object)"
      ]
     },
     "execution_count": 12,
     "metadata": {},
     "output_type": "execute_result"
    }
   ],
   "source": [
    "df['education'].unique()"
   ]
  },
  {
   "cell_type": "code",
   "execution_count": 13,
   "id": "9dab6fe3-aa52-45b6-9a63-a6f16259c4a2",
   "metadata": {
    "execution": {
     "iopub.execute_input": "2023-11-10T18:07:50.393214Z",
     "iopub.status.busy": "2023-11-10T18:07:50.392761Z",
     "iopub.status.idle": "2023-11-10T18:07:50.527662Z",
     "shell.execute_reply": "2023-11-10T18:07:50.526890Z",
     "shell.execute_reply.started": "2023-11-10T18:07:50.393117Z"
    },
    "tags": []
   },
   "outputs": [
    {
     "name": "stdout",
     "output_type": "stream",
     "text": [
      "['primary' 'secondary' 'tertiary' 'unknown']\n"
     ]
    },
    {
     "data": {
      "text/plain": [
       "0       0\n",
       "1       1\n",
       "2       2\n",
       "3       2\n",
       "4       1\n",
       "       ..\n",
       "4516    1\n",
       "4517    2\n",
       "4518    1\n",
       "4519    1\n",
       "4520    2\n",
       "Name: education, Length: 4521, dtype: int64"
      ]
     },
     "execution_count": 13,
     "metadata": {},
     "output_type": "execute_result"
    }
   ],
   "source": [
    "le_education = LabelEncoder()\n",
    "df['education'] = le_education.fit_transform(df['education'])\n",
    "print(le_education.classes_)\n",
    "df['education']"
   ]
  },
  {
   "cell_type": "code",
   "execution_count": 14,
   "id": "d23c7a6d-0e37-4c4e-a92d-427469588ec3",
   "metadata": {
    "execution": {
     "iopub.execute_input": "2023-11-10T18:07:50.529873Z",
     "iopub.status.busy": "2023-11-10T18:07:50.529511Z",
     "iopub.status.idle": "2023-11-10T18:07:50.639972Z",
     "shell.execute_reply": "2023-11-10T18:07:50.639185Z",
     "shell.execute_reply.started": "2023-11-10T18:07:50.529838Z"
    },
    "tags": []
   },
   "outputs": [
    {
     "data": {
      "text/plain": [
       "array(['no', 'yes'], dtype=object)"
      ]
     },
     "execution_count": 14,
     "metadata": {},
     "output_type": "execute_result"
    }
   ],
   "source": [
    "df['default'].unique()"
   ]
  },
  {
   "cell_type": "code",
   "execution_count": 15,
   "id": "fec7cc49-95a1-4130-94bd-7c2ae526454b",
   "metadata": {
    "execution": {
     "iopub.execute_input": "2023-11-10T18:07:50.641358Z",
     "iopub.status.busy": "2023-11-10T18:07:50.641071Z",
     "iopub.status.idle": "2023-11-10T18:07:50.747403Z",
     "shell.execute_reply": "2023-11-10T18:07:50.746742Z",
     "shell.execute_reply.started": "2023-11-10T18:07:50.641330Z"
    },
    "tags": []
   },
   "outputs": [
    {
     "name": "stdout",
     "output_type": "stream",
     "text": [
      "0       0\n",
      "1       0\n",
      "2       0\n",
      "3       0\n",
      "4       0\n",
      "       ..\n",
      "4516    0\n",
      "4517    1\n",
      "4518    0\n",
      "4519    0\n",
      "4520    0\n",
      "Name: default, Length: 4521, dtype: int64\n"
     ]
    }
   ],
   "source": [
    "df['default'].replace(['no', 'yes'], [0, 1], inplace=True)\n",
    "print(df['default'])"
   ]
  },
  {
   "cell_type": "code",
   "execution_count": 16,
   "id": "a9b44e1b-e9b4-41b3-8714-16e6ebdd2326",
   "metadata": {
    "execution": {
     "iopub.execute_input": "2023-11-10T18:07:50.748425Z",
     "iopub.status.busy": "2023-11-10T18:07:50.748204Z",
     "iopub.status.idle": "2023-11-10T18:07:50.861977Z",
     "shell.execute_reply": "2023-11-10T18:07:50.861113Z",
     "shell.execute_reply.started": "2023-11-10T18:07:50.748407Z"
    },
    "tags": []
   },
   "outputs": [
    {
     "data": {
      "text/plain": [
       "array(['no', 'yes'], dtype=object)"
      ]
     },
     "execution_count": 16,
     "metadata": {},
     "output_type": "execute_result"
    }
   ],
   "source": [
    "df['housing'].unique()"
   ]
  },
  {
   "cell_type": "code",
   "execution_count": 17,
   "id": "938a466f-6ab0-4398-ad9e-469b5c6a81ea",
   "metadata": {
    "execution": {
     "iopub.execute_input": "2023-11-10T18:07:50.863377Z",
     "iopub.status.busy": "2023-11-10T18:07:50.863096Z",
     "iopub.status.idle": "2023-11-10T18:07:50.963531Z",
     "shell.execute_reply": "2023-11-10T18:07:50.962659Z",
     "shell.execute_reply.started": "2023-11-10T18:07:50.863349Z"
    },
    "tags": []
   },
   "outputs": [
    {
     "name": "stdout",
     "output_type": "stream",
     "text": [
      "0       0\n",
      "1       1\n",
      "2       1\n",
      "3       1\n",
      "4       1\n",
      "       ..\n",
      "4516    1\n",
      "4517    1\n",
      "4518    0\n",
      "4519    0\n",
      "4520    1\n",
      "Name: housing, Length: 4521, dtype: int64\n"
     ]
    }
   ],
   "source": [
    "df['housing'].replace(['no', 'yes'], [0, 1], inplace=True)\n",
    "print(df['housing'])"
   ]
  },
  {
   "cell_type": "code",
   "execution_count": 18,
   "id": "4b8ca1c1-d17b-45c5-8893-3e12d448c429",
   "metadata": {
    "execution": {
     "iopub.execute_input": "2023-11-10T18:07:50.964832Z",
     "iopub.status.busy": "2023-11-10T18:07:50.964559Z",
     "iopub.status.idle": "2023-11-10T18:07:51.160704Z",
     "shell.execute_reply": "2023-11-10T18:07:51.159645Z",
     "shell.execute_reply.started": "2023-11-10T18:07:50.964808Z"
    },
    "tags": []
   },
   "outputs": [
    {
     "data": {
      "text/plain": [
       "array(['no', 'yes'], dtype=object)"
      ]
     },
     "execution_count": 18,
     "metadata": {},
     "output_type": "execute_result"
    }
   ],
   "source": [
    "df['loan'].unique()"
   ]
  },
  {
   "cell_type": "code",
   "execution_count": 19,
   "id": "02c332d6-e5c3-4a1e-923d-1d5ea5f2ad9b",
   "metadata": {
    "execution": {
     "iopub.execute_input": "2023-11-10T18:07:51.162208Z",
     "iopub.status.busy": "2023-11-10T18:07:51.161872Z",
     "iopub.status.idle": "2023-11-10T18:07:51.269075Z",
     "shell.execute_reply": "2023-11-10T18:07:51.267786Z",
     "shell.execute_reply.started": "2023-11-10T18:07:51.162177Z"
    },
    "tags": []
   },
   "outputs": [
    {
     "name": "stdout",
     "output_type": "stream",
     "text": [
      "0       0\n",
      "1       1\n",
      "2       0\n",
      "3       1\n",
      "4       0\n",
      "       ..\n",
      "4516    0\n",
      "4517    1\n",
      "4518    0\n",
      "4519    0\n",
      "4520    1\n",
      "Name: loan, Length: 4521, dtype: int64\n"
     ]
    }
   ],
   "source": [
    "df['loan'].replace(['no', 'yes'], [0, 1], inplace=True)\n",
    "print(df['loan'])"
   ]
  },
  {
   "cell_type": "code",
   "execution_count": 20,
   "id": "ce86fd1e-67d8-4a68-9ef7-cf1e4dc5702c",
   "metadata": {
    "execution": {
     "iopub.execute_input": "2023-11-10T18:07:51.270201Z",
     "iopub.status.busy": "2023-11-10T18:07:51.269967Z",
     "iopub.status.idle": "2023-11-10T18:07:51.411666Z",
     "shell.execute_reply": "2023-11-10T18:07:51.409486Z",
     "shell.execute_reply.started": "2023-11-10T18:07:51.270179Z"
    },
    "tags": []
   },
   "outputs": [
    {
     "data": {
      "text/plain": [
       "array(['cellular', 'unknown', 'telephone'], dtype=object)"
      ]
     },
     "execution_count": 20,
     "metadata": {},
     "output_type": "execute_result"
    }
   ],
   "source": [
    "df['contact'].unique()"
   ]
  },
  {
   "cell_type": "code",
   "execution_count": 21,
   "id": "5a6a9226-65bd-4572-b561-db2de74ed81b",
   "metadata": {
    "execution": {
     "iopub.execute_input": "2023-11-10T18:07:51.415373Z",
     "iopub.status.busy": "2023-11-10T18:07:51.414480Z",
     "iopub.status.idle": "2023-11-10T18:07:51.508734Z",
     "shell.execute_reply": "2023-11-10T18:07:51.506477Z",
     "shell.execute_reply.started": "2023-11-10T18:07:51.415291Z"
    },
    "tags": []
   },
   "outputs": [
    {
     "name": "stdout",
     "output_type": "stream",
     "text": [
      "['cellular' 'telephone' 'unknown']\n"
     ]
    },
    {
     "data": {
      "text/plain": [
       "0       0\n",
       "1       0\n",
       "2       0\n",
       "3       2\n",
       "4       2\n",
       "       ..\n",
       "4516    0\n",
       "4517    2\n",
       "4518    0\n",
       "4519    0\n",
       "4520    0\n",
       "Name: contact, Length: 4521, dtype: int64"
      ]
     },
     "execution_count": 21,
     "metadata": {},
     "output_type": "execute_result"
    }
   ],
   "source": [
    "le_contact = LabelEncoder()\n",
    "df['contact'] = le_contact.fit_transform(df['contact'])\n",
    "print(le_contact.classes_)\n",
    "df['contact']"
   ]
  },
  {
   "cell_type": "code",
   "execution_count": 22,
   "id": "58025188-e374-42bc-942d-98f7c3c4053e",
   "metadata": {
    "execution": {
     "iopub.execute_input": "2023-11-10T18:07:51.513586Z",
     "iopub.status.busy": "2023-11-10T18:07:51.513361Z",
     "iopub.status.idle": "2023-11-10T18:07:51.662600Z",
     "shell.execute_reply": "2023-11-10T18:07:51.661658Z",
     "shell.execute_reply.started": "2023-11-10T18:07:51.513568Z"
    },
    "tags": []
   },
   "outputs": [
    {
     "data": {
      "text/plain": [
       "array(['oct', 'may', 'apr', 'jun', 'feb', 'aug', 'jan', 'jul', 'nov',\n",
       "       'sep', 'mar', 'dec'], dtype=object)"
      ]
     },
     "execution_count": 22,
     "metadata": {},
     "output_type": "execute_result"
    }
   ],
   "source": [
    "df['month'].unique()"
   ]
  },
  {
   "cell_type": "code",
   "execution_count": 23,
   "id": "e6c15cdc-01be-44af-a070-9f7f2aa3158b",
   "metadata": {
    "execution": {
     "iopub.execute_input": "2023-11-10T18:07:51.663707Z",
     "iopub.status.busy": "2023-11-10T18:07:51.663480Z",
     "iopub.status.idle": "2023-11-10T18:07:51.771825Z",
     "shell.execute_reply": "2023-11-10T18:07:51.769767Z",
     "shell.execute_reply.started": "2023-11-10T18:07:51.663688Z"
    },
    "tags": []
   },
   "outputs": [
    {
     "name": "stdout",
     "output_type": "stream",
     "text": [
      "['apr' 'aug' 'dec' 'feb' 'jan' 'jul' 'jun' 'mar' 'may' 'nov' 'oct' 'sep']\n"
     ]
    },
    {
     "data": {
      "text/plain": [
       "0       10\n",
       "1        8\n",
       "2        0\n",
       "3        6\n",
       "4        8\n",
       "        ..\n",
       "4516     5\n",
       "4517     8\n",
       "4518     1\n",
       "4519     3\n",
       "4520     0\n",
       "Name: month, Length: 4521, dtype: int64"
      ]
     },
     "execution_count": 23,
     "metadata": {},
     "output_type": "execute_result"
    }
   ],
   "source": [
    "le_month = LabelEncoder()\n",
    "df['month'] = le_month.fit_transform(df['month'])\n",
    "print(le_month.classes_)\n",
    "df['month']"
   ]
  },
  {
   "cell_type": "code",
   "execution_count": 24,
   "id": "dec0f20a-e549-458d-b5a6-d2dab979e7f9",
   "metadata": {
    "execution": {
     "iopub.execute_input": "2023-11-10T18:07:51.775530Z",
     "iopub.status.busy": "2023-11-10T18:07:51.774544Z",
     "iopub.status.idle": "2023-11-10T18:07:51.933081Z",
     "shell.execute_reply": "2023-11-10T18:07:51.931096Z",
     "shell.execute_reply.started": "2023-11-10T18:07:51.775435Z"
    },
    "tags": []
   },
   "outputs": [
    {
     "data": {
      "text/plain": [
       "array(['unknown', 'failure', 'other', 'success'], dtype=object)"
      ]
     },
     "execution_count": 24,
     "metadata": {},
     "output_type": "execute_result"
    }
   ],
   "source": [
    "df['poutcome'].unique()"
   ]
  },
  {
   "cell_type": "code",
   "execution_count": 25,
   "id": "8d0dfbca-3d9a-4e47-bd20-0f53e511ac63",
   "metadata": {
    "execution": {
     "iopub.execute_input": "2023-11-10T18:07:51.935873Z",
     "iopub.status.busy": "2023-11-10T18:07:51.935383Z",
     "iopub.status.idle": "2023-11-10T18:07:52.036198Z",
     "shell.execute_reply": "2023-11-10T18:07:52.034076Z",
     "shell.execute_reply.started": "2023-11-10T18:07:51.935850Z"
    },
    "tags": []
   },
   "outputs": [
    {
     "name": "stdout",
     "output_type": "stream",
     "text": [
      "['failure' 'other' 'success' 'unknown']\n"
     ]
    },
    {
     "data": {
      "text/plain": [
       "0       3\n",
       "1       0\n",
       "2       0\n",
       "3       3\n",
       "4       3\n",
       "       ..\n",
       "4516    3\n",
       "4517    3\n",
       "4518    3\n",
       "4519    1\n",
       "4520    1\n",
       "Name: poutcome, Length: 4521, dtype: int64"
      ]
     },
     "execution_count": 25,
     "metadata": {},
     "output_type": "execute_result"
    }
   ],
   "source": [
    "le_poutcome = LabelEncoder()\n",
    "df['poutcome'] = le_poutcome.fit_transform(df['poutcome'])\n",
    "print(le_poutcome.classes_)\n",
    "df['poutcome']"
   ]
  },
  {
   "cell_type": "code",
   "execution_count": 26,
   "id": "616ce195-0814-4cb8-b03a-5fa7e31e4ce9",
   "metadata": {
    "execution": {
     "iopub.execute_input": "2023-11-10T18:07:52.039177Z",
     "iopub.status.busy": "2023-11-10T18:07:52.038649Z",
     "iopub.status.idle": "2023-11-10T18:07:52.133228Z",
     "shell.execute_reply": "2023-11-10T18:07:52.132459Z",
     "shell.execute_reply.started": "2023-11-10T18:07:52.039152Z"
    },
    "tags": []
   },
   "outputs": [
    {
     "data": {
      "text/html": [
       "<div>\n",
       "<style scoped>\n",
       "    .dataframe tbody tr th:only-of-type {\n",
       "        vertical-align: middle;\n",
       "    }\n",
       "\n",
       "    .dataframe tbody tr th {\n",
       "        vertical-align: top;\n",
       "    }\n",
       "\n",
       "    .dataframe thead th {\n",
       "        text-align: right;\n",
       "    }\n",
       "</style>\n",
       "<table border=\"1\" class=\"dataframe\">\n",
       "  <thead>\n",
       "    <tr style=\"text-align: right;\">\n",
       "      <th></th>\n",
       "      <th>age</th>\n",
       "      <th>job</th>\n",
       "      <th>marital</th>\n",
       "      <th>education</th>\n",
       "      <th>default</th>\n",
       "      <th>balance</th>\n",
       "      <th>housing</th>\n",
       "      <th>loan</th>\n",
       "      <th>contact</th>\n",
       "      <th>day</th>\n",
       "      <th>month</th>\n",
       "      <th>duration</th>\n",
       "      <th>campaign</th>\n",
       "      <th>pdays</th>\n",
       "      <th>previous</th>\n",
       "      <th>poutcome</th>\n",
       "      <th>y</th>\n",
       "    </tr>\n",
       "  </thead>\n",
       "  <tbody>\n",
       "    <tr>\n",
       "      <th>0</th>\n",
       "      <td>30</td>\n",
       "      <td>10</td>\n",
       "      <td>1</td>\n",
       "      <td>0</td>\n",
       "      <td>0</td>\n",
       "      <td>1787</td>\n",
       "      <td>0</td>\n",
       "      <td>0</td>\n",
       "      <td>0</td>\n",
       "      <td>19</td>\n",
       "      <td>10</td>\n",
       "      <td>79</td>\n",
       "      <td>1</td>\n",
       "      <td>-1</td>\n",
       "      <td>0</td>\n",
       "      <td>3</td>\n",
       "      <td>no</td>\n",
       "    </tr>\n",
       "    <tr>\n",
       "      <th>1</th>\n",
       "      <td>33</td>\n",
       "      <td>7</td>\n",
       "      <td>1</td>\n",
       "      <td>1</td>\n",
       "      <td>0</td>\n",
       "      <td>4789</td>\n",
       "      <td>1</td>\n",
       "      <td>1</td>\n",
       "      <td>0</td>\n",
       "      <td>11</td>\n",
       "      <td>8</td>\n",
       "      <td>220</td>\n",
       "      <td>1</td>\n",
       "      <td>339</td>\n",
       "      <td>4</td>\n",
       "      <td>0</td>\n",
       "      <td>no</td>\n",
       "    </tr>\n",
       "    <tr>\n",
       "      <th>2</th>\n",
       "      <td>35</td>\n",
       "      <td>4</td>\n",
       "      <td>2</td>\n",
       "      <td>2</td>\n",
       "      <td>0</td>\n",
       "      <td>1350</td>\n",
       "      <td>1</td>\n",
       "      <td>0</td>\n",
       "      <td>0</td>\n",
       "      <td>16</td>\n",
       "      <td>0</td>\n",
       "      <td>185</td>\n",
       "      <td>1</td>\n",
       "      <td>330</td>\n",
       "      <td>1</td>\n",
       "      <td>0</td>\n",
       "      <td>no</td>\n",
       "    </tr>\n",
       "    <tr>\n",
       "      <th>3</th>\n",
       "      <td>30</td>\n",
       "      <td>4</td>\n",
       "      <td>1</td>\n",
       "      <td>2</td>\n",
       "      <td>0</td>\n",
       "      <td>1476</td>\n",
       "      <td>1</td>\n",
       "      <td>1</td>\n",
       "      <td>2</td>\n",
       "      <td>3</td>\n",
       "      <td>6</td>\n",
       "      <td>199</td>\n",
       "      <td>4</td>\n",
       "      <td>-1</td>\n",
       "      <td>0</td>\n",
       "      <td>3</td>\n",
       "      <td>no</td>\n",
       "    </tr>\n",
       "    <tr>\n",
       "      <th>4</th>\n",
       "      <td>59</td>\n",
       "      <td>1</td>\n",
       "      <td>1</td>\n",
       "      <td>1</td>\n",
       "      <td>0</td>\n",
       "      <td>0</td>\n",
       "      <td>1</td>\n",
       "      <td>0</td>\n",
       "      <td>2</td>\n",
       "      <td>5</td>\n",
       "      <td>8</td>\n",
       "      <td>226</td>\n",
       "      <td>1</td>\n",
       "      <td>-1</td>\n",
       "      <td>0</td>\n",
       "      <td>3</td>\n",
       "      <td>no</td>\n",
       "    </tr>\n",
       "  </tbody>\n",
       "</table>\n",
       "</div>"
      ],
      "text/plain": [
       "   age  job  marital  education  default  balance  housing  loan  contact  \\\n",
       "0   30   10        1          0        0     1787        0     0        0   \n",
       "1   33    7        1          1        0     4789        1     1        0   \n",
       "2   35    4        2          2        0     1350        1     0        0   \n",
       "3   30    4        1          2        0     1476        1     1        2   \n",
       "4   59    1        1          1        0        0        1     0        2   \n",
       "\n",
       "   day  month  duration  campaign  pdays  previous  poutcome   y  \n",
       "0   19     10        79         1     -1         0         3  no  \n",
       "1   11      8       220         1    339         4         0  no  \n",
       "2   16      0       185         1    330         1         0  no  \n",
       "3    3      6       199         4     -1         0         3  no  \n",
       "4    5      8       226         1     -1         0         3  no  "
      ]
     },
     "execution_count": 26,
     "metadata": {},
     "output_type": "execute_result"
    }
   ],
   "source": [
    "df.head()"
   ]
  },
  {
   "cell_type": "code",
   "execution_count": 27,
   "id": "b1785218-05b9-4024-816e-72cb34e26bfc",
   "metadata": {
    "execution": {
     "iopub.execute_input": "2023-11-10T18:07:52.134224Z",
     "iopub.status.busy": "2023-11-10T18:07:52.134029Z",
     "iopub.status.idle": "2023-11-10T18:07:52.332155Z",
     "shell.execute_reply": "2023-11-10T18:07:52.330233Z",
     "shell.execute_reply.started": "2023-11-10T18:07:52.134206Z"
    },
    "tags": []
   },
   "outputs": [
    {
     "name": "stdout",
     "output_type": "stream",
     "text": [
      "<class 'pandas.core.frame.DataFrame'>\n",
      "RangeIndex: 4521 entries, 0 to 4520\n",
      "Data columns (total 17 columns):\n",
      " #   Column     Non-Null Count  Dtype \n",
      "---  ------     --------------  ----- \n",
      " 0   age        4521 non-null   int64 \n",
      " 1   job        4521 non-null   int64 \n",
      " 2   marital    4521 non-null   int64 \n",
      " 3   education  4521 non-null   int64 \n",
      " 4   default    4521 non-null   int64 \n",
      " 5   balance    4521 non-null   int64 \n",
      " 6   housing    4521 non-null   int64 \n",
      " 7   loan       4521 non-null   int64 \n",
      " 8   contact    4521 non-null   int64 \n",
      " 9   day        4521 non-null   int64 \n",
      " 10  month      4521 non-null   int64 \n",
      " 11  duration   4521 non-null   int64 \n",
      " 12  campaign   4521 non-null   int64 \n",
      " 13  pdays      4521 non-null   int64 \n",
      " 14  previous   4521 non-null   int64 \n",
      " 15  poutcome   4521 non-null   int64 \n",
      " 16  y          4521 non-null   object\n",
      "dtypes: int64(16), object(1)\n",
      "memory usage: 600.6+ KB\n"
     ]
    }
   ],
   "source": [
    "df.info()"
   ]
  },
  {
   "cell_type": "code",
   "execution_count": 28,
   "id": "a82f32e5-5610-4ed1-a7f6-2a7018abb7db",
   "metadata": {
    "execution": {
     "iopub.execute_input": "2023-11-10T18:07:52.333834Z",
     "iopub.status.busy": "2023-11-10T18:07:52.333341Z",
     "iopub.status.idle": "2023-11-10T18:07:52.472956Z",
     "shell.execute_reply": "2023-11-10T18:07:52.471843Z",
     "shell.execute_reply.started": "2023-11-10T18:07:52.333772Z"
    },
    "tags": []
   },
   "outputs": [
    {
     "data": {
      "text/plain": [
       "(4521, 17)"
      ]
     },
     "execution_count": 28,
     "metadata": {},
     "output_type": "execute_result"
    }
   ],
   "source": [
    "df.shape"
   ]
  },
  {
   "cell_type": "code",
   "execution_count": 29,
   "id": "6d39b384-ea97-4268-a764-e87ec67e2833",
   "metadata": {
    "execution": {
     "iopub.execute_input": "2023-11-10T18:07:52.474257Z",
     "iopub.status.busy": "2023-11-10T18:07:52.473817Z",
     "iopub.status.idle": "2023-11-10T18:07:52.594310Z",
     "shell.execute_reply": "2023-11-10T18:07:52.592479Z",
     "shell.execute_reply.started": "2023-11-10T18:07:52.474196Z"
    },
    "tags": []
   },
   "outputs": [],
   "source": [
    "X = df.iloc[:, :-1].values\n",
    "y = df.iloc[:, -1].values"
   ]
  },
  {
   "cell_type": "code",
   "execution_count": 37,
   "id": "d280951b-204c-4d29-8b5b-33703f9ef575",
   "metadata": {
    "execution": {
     "iopub.execute_input": "2023-11-10T18:08:35.887305Z",
     "iopub.status.busy": "2023-11-10T18:08:35.887067Z",
     "iopub.status.idle": "2023-11-10T18:08:35.890410Z",
     "shell.execute_reply": "2023-11-10T18:08:35.889834Z",
     "shell.execute_reply.started": "2023-11-10T18:08:35.887287Z"
    },
    "tags": []
   },
   "outputs": [],
   "source": [
    "data = df"
   ]
  },
  {
   "cell_type": "code",
   "execution_count": 31,
   "id": "c30f16c2-cc58-4276-a7f9-9601807eb8bf",
   "metadata": {
    "execution": {
     "iopub.execute_input": "2023-11-10T18:07:52.728233Z",
     "iopub.status.busy": "2023-11-10T18:07:52.727588Z",
     "iopub.status.idle": "2023-11-10T18:07:52.885119Z",
     "shell.execute_reply": "2023-11-10T18:07:52.883168Z",
     "shell.execute_reply.started": "2023-11-10T18:07:52.728171Z"
    },
    "tags": []
   },
   "outputs": [
    {
     "data": {
      "text/plain": [
       "((4521, 16), (4521,))"
      ]
     },
     "execution_count": 31,
     "metadata": {},
     "output_type": "execute_result"
    }
   ],
   "source": [
    "X.shape, y.shape"
   ]
  },
  {
   "cell_type": "code",
   "execution_count": 44,
   "id": "21191d6d-eb21-47e8-b097-e5d4dbba3bfa",
   "metadata": {
    "execution": {
     "iopub.execute_input": "2023-11-10T18:08:56.862540Z",
     "iopub.status.busy": "2023-11-10T18:08:56.862266Z",
     "iopub.status.idle": "2023-11-10T18:08:56.866882Z",
     "shell.execute_reply": "2023-11-10T18:08:56.866316Z",
     "shell.execute_reply.started": "2023-11-10T18:08:56.862522Z"
    },
    "tags": []
   },
   "outputs": [],
   "source": [
    "class Node:\n",
    "    def __init__(self,value,nxt_node=None,prev_node=None):\n",
    "        self.nxtnode=nxt_node\n",
    "        self.value=value\n",
    "        self.prevnode=prev_node\n",
    "        self.leaf_node=False\n",
    "    \n",
    "    def get_value(self):\n",
    "        return self.value\n",
    "\n",
    "    def set_prevnode(self,prevnode):\n",
    "        self.prevnode=prevnode\n",
    "\n",
    "    def get_prevnode(self):\n",
    "        return self.prevnode\n",
    "\n",
    "    def set_nxtnode(self,n_node):\n",
    "        self.nxtnode=n_node\n",
    "\n",
    "    def get_nxtnode(self):\n",
    "        return self.nxtnode"
   ]
  },
  {
   "cell_type": "code",
   "execution_count": 45,
   "id": "76cf3f44-22bd-412d-be96-cec3c53fc4cc",
   "metadata": {
    "execution": {
     "iopub.execute_input": "2023-11-10T18:08:57.054962Z",
     "iopub.status.busy": "2023-11-10T18:08:57.054726Z",
     "iopub.status.idle": "2023-11-10T18:08:57.063433Z",
     "shell.execute_reply": "2023-11-10T18:08:57.062489Z",
     "shell.execute_reply.started": "2023-11-10T18:08:57.054944Z"
    },
    "tags": []
   },
   "outputs": [],
   "source": [
    "#implementing the ID3 algorithm.\n",
    "class ID3:\n",
    "    def __init__(self,dataset):\n",
    "        self.data=dataset\n",
    "        self.total=dataset.shape[0]\n",
    "        #assuming target variable would be at the end of the list.\n",
    "        self.target_var=list(data.columns)[-1]\n",
    "        \n",
    "    def entropy(self,feature_data=None):\n",
    "        #entropy is a measure of the distortion or the amount of diversity\n",
    "        #in terms of labels or target variable present in the dataset.\n",
    "        #an entropy value of 0 means only single category is present whereas an\n",
    "        #entropy value of 1 means the dataset is perfectly balanced and all categories \n",
    "        #have equal number of rows.\n",
    "        if feature_data is not None:\n",
    "            data=feature_data\n",
    "            total=data.shape[0]\n",
    "        else:\n",
    "            data=self.data\n",
    "            total=self.total\n",
    "        self.n=data[self.target_var].nunique()\n",
    "        self.labels=list(data[self.target_var].unique())\n",
    "        self.prob=[]\n",
    "        self.ent=0\n",
    "        \n",
    "        for i in range(1,self.n+1):\n",
    "            prob=(data[data[self.target_var]==self.labels[i-1]].shape[0])/total\n",
    "            self.prob.append(prob)\n",
    "            ent=-prob*np.log2(prob)\n",
    "            #print(ent)\n",
    "            self.ent=self.ent+ent\n",
    "        return self.ent\n",
    "    def entropy_per_feature(self,fname,feature_data=None):\n",
    "        if feature_data is not None:\n",
    "            data=feature_data\n",
    "        else:\n",
    "            data=self.data\n",
    "        unique_values=list(data[fname].unique())\n",
    "        #print(unique_values)\n",
    "        unique_val_count=data[fname].nunique()\n",
    "        ent_ftr=0\n",
    "        for i in range(0,unique_val_count):\n",
    "            category_data=data[data[fname]==unique_values[i]]\n",
    "            #print(type(category_data))\n",
    "            ent_cat=(category_data.shape[0]/self.total)*self.entropy(category_data)\n",
    "            #print(ent_cat)\n",
    "            ent_ftr=ent_ftr+ent_cat\n",
    "        return ent_ftr\n",
    "    \n",
    "    def information_gain(self,fname,feature_data=None): \n",
    "        #print(fname) \n",
    "        if feature_data is None:\n",
    "            information_gain=self.entropy()-self.entropy_per_feature(fname)\n",
    "        else:\n",
    "            et=self.entropy(feature_data)\n",
    "            if et==0:\n",
    "                return 0\n",
    "            information_gain=et-self.entropy_per_feature(fname,feature_data)\n",
    "        return information_gain"
   ]
  },
  {
   "cell_type": "code",
   "execution_count": 51,
   "id": "b63b2476-c24b-429b-ae29-7a85432441b7",
   "metadata": {
    "execution": {
     "iopub.execute_input": "2023-11-10T18:11:16.819943Z",
     "iopub.status.busy": "2023-11-10T18:11:16.819299Z",
     "iopub.status.idle": "2023-11-10T18:11:16.824169Z",
     "shell.execute_reply": "2023-11-10T18:11:16.823623Z",
     "shell.execute_reply.started": "2023-11-10T18:11:16.819913Z"
    },
    "tags": []
   },
   "outputs": [],
   "source": [
    "#maximum value function.\n",
    "def max_val(dct):\n",
    "    max_val=0\n",
    "    key_max=''\n",
    "    for key in dct.keys():\n",
    "        if dct[key]>max_val:\n",
    "            max_val=dct[key]\n",
    "            key_max=key\n",
    "    return key_max"
   ]
  },
  {
   "cell_type": "code",
   "execution_count": 52,
   "id": "ae02fdb4-facb-4d67-8bce-e4cbf96a3ca0",
   "metadata": {
    "execution": {
     "iopub.execute_input": "2023-11-10T18:11:17.219462Z",
     "iopub.status.busy": "2023-11-10T18:11:17.219179Z",
     "iopub.status.idle": "2023-11-10T18:11:17.234142Z",
     "shell.execute_reply": "2023-11-10T18:11:17.233207Z",
     "shell.execute_reply.started": "2023-11-10T18:11:17.219438Z"
    },
    "tags": []
   },
   "outputs": [],
   "source": [
    "def oop_building_tree():\n",
    "    algo=ID3(data)\n",
    "    feature_list=list(data.columns)[:-1]\n",
    "    ig={}\n",
    "    root_node=''\n",
    "    #finding the root node.\n",
    "    for feature in feature_list:\n",
    "        i_gain=algo.information_gain(feature)\n",
    "        ig[feature]=i_gain\n",
    "    root_node=max_val(ig)\n",
    "    del ig[root_node]\n",
    "    n=Node(root_node)\n",
    "    print(\"root_node:{}\".format(n.get_value()))\n",
    "    #finding child nodes of the root node.\n",
    "    category_list=list(data[n.get_value()].unique())\n",
    "    print(\"{}=>{}\".format(n.get_value(),category_list))\n",
    "    n_list=[Node(category) for category in category_list]\n",
    "    #establishing links between the child nodes and the root node(parent node).\n",
    "    n.set_nxtnode(n_list)\n",
    "    for node in n_list:\n",
    "        node.set_prevnode(n)\n",
    "    #finding remaining intermediate nodes or decision nodes.\n",
    "    while (len(ig.keys())!=0 and len(feature_list)!=1):\n",
    "        for node in n_list:\n",
    "            cat_data=data[data[n.get_value()]==node.get_value()]\n",
    "            ig_1={}\n",
    "            count=0\n",
    "            for key in ig.keys():\n",
    "                i_gain=algo.information_gain(key,cat_data)\n",
    "                if i_gain==0:\n",
    "                    #print(node.get_value())\n",
    "                    values=list(cat_data.y.unique())\n",
    "                    #values=['Yes']\n",
    "                    val_node=[Node(val) for val in values]\n",
    "                    node.set_nxtnode(val_node)\n",
    "                    for vnode in val_node:\n",
    "                        vnode.set_prevnode(node)\n",
    "                        #print(vnode.get_nxtnode())\n",
    "                        vnode.leaf_node=True\n",
    "                    count=1\n",
    "                    #node.leaf_node=True\n",
    "                    print(\"{}=>{}\".format(node.get_value(),list(data.y[data[n.get_value()]==node.get_value()].unique())[0]))\n",
    "                    del ig[key]\n",
    "                    break  \n",
    "                ig_1[key]=i_gain\n",
    "            if count==1:\n",
    "                #print(\"star\")\n",
    "                continue\n",
    "            root1_node=max_val(ig_1)\n",
    "            #establishing links between the newly found intermediate node.\n",
    "            #and the respectie parent node.\n",
    "            intr_node=Node(root1_node)\n",
    "            node.set_nxtnode(intr_node)\n",
    "            intr_node.set_prevnode(node)\n",
    "            print(\"{}=>{}\".format(node.get_value(),intr_node.get_value()))\n",
    "            intr_values=[Node(val) for val in list(data[intr_node.get_value()].unique())]\n",
    "            intr_node.set_nxtnode(intr_values)\n",
    "            print(\"{}=>{}\".format(intr_node.get_value(),[node.get_value() for node in intr_node.get_nxtnode()]))\n",
    "            for vnode in intr_values:\n",
    "                vnode.set_prevnode(intr_node)\n",
    "                #print(vnode.get_nxtnode())\n",
    "                vnode.leaf_node=True\n",
    "            #print(root1_node)\n",
    "            del ig[str(root1_node)]"
   ]
  },
  {
   "cell_type": "code",
   "execution_count": 53,
   "id": "31529dbf-87cf-43e6-b0b1-a0511a039b29",
   "metadata": {
    "execution": {
     "iopub.execute_input": "2023-11-10T18:11:17.685595Z",
     "iopub.status.busy": "2023-11-10T18:11:17.684905Z",
     "iopub.status.idle": "2023-11-10T18:11:23.320075Z",
     "shell.execute_reply": "2023-11-10T18:11:23.318995Z",
     "shell.execute_reply.started": "2023-11-10T18:11:17.685533Z"
    },
    "tags": []
   },
   "outputs": [
    {
     "name": "stdout",
     "output_type": "stream",
     "text": [
      "root_node:balance\n",
      "balance=>[1787, 4789, 1350, 1476, 0, 747, 307, 147, 221, -88, 9374, 264, 1109, 502, 360, 194, 4073, 2317, -221, 132, 16, 106, 93, 543, 5883, 627, 696, 784, 105, 4189, 171, 42, 2536, 1235, 1811, 229, 2089, 3935, 363, 11971, 553, 1117, 396, 2204, 872, 145, -849, 4629, 844, 228, 50, 1539, 2231, 3064, 82, 2155, 101, -516, 415, 5887, 1355, 16873, 203, 338, 444, 2, 6248, 412, 344, 3222, 174, 591, 388, 219, 451, 5, 177, 657, 1315, 1466, 879, 293, 424, 1831, 111, 455, -195, 3616, 14093, 1567, 5426, 261, 2843, 406, 493, 5996, 3777, 524, 574, 427, 483, 3391, 2488, 1517, 217, 22, 331, 505, 1808, 4111, 52, 25, 1890, 419, 2693, -231, -55, 462, 119, 586, 4659, 168, -715, 769, 428, -970, 6313, 948, 1877, 874, 323, 1906, 1152, 179, 391, 89, 442, -249, 8104, 501, 308, 602, 273, 1641, 20, 4590, -256, 978, 80, 2104, 499, 1269, 310, 1143, 2980, 37, 1031, 9009, -465, 5181, 176, 1699, 172, 6979, 6, -62, 1972, 899, 21, 23, -1206, 215, 1372, 1981, 9216, 39, 5563, 1, 782, 3771, 992, 1526, 2658, 2030, 1599, -196, 1333, 9149, -350, 432, 11494, -253, 372, 1410, 975, 305, 400, -22, 4030, 365, 204, 1691, -204, 359, 123, 142, 3571, 33, 3096, 3576, 206, 7082, 1634, 4012, 3762, -247, 606, -189, 484, 395, 2349, 410, 3401, 222, 989, 7190, 482, 209, 5803, 624, 883, 1516, -988, 902, 1007, 12186, 4, 11219, 5776, 593, 1148, 3561, 63, 260, 2269, 1060, -220, 49, 69, 4108, 480, 4994, 3681, -701, -311, 759, 4531, 1840, 345, 1287, 353, 205, 687, 1147, 4286, 605, 8545, 559, 760, 1317, 182, 276, 2971, 1064, 1783, -67, 1199, 214, 6699, 1760, 1150, 121, 828, 244, 447, 1084, 10924, 832, 478, 3950, 504, 1602, 2587, 2303, 1660, 32, 278, 318, 271, 3196, 4099, 2572, 339, 2039, 5450, 780, 8436, 11262, 946, 497, 55, -140, -379, -396, 733, 393, 7290, 468, 3705, 9676, 1328, 8, 61, 6613, 302, 1005, 109, 1240, 2923, 43, 288, 613, 6101, 7685, 4515, 517, 148, -285, 887, 3098, 744, 130, 438, 322, 186, 3810, 4380, 755, 2070, 999, 167, 1322, 1076, 1216, 876, 342, 950, 973, 3825, 2366, 542, 995, 259, 619, 644, 4303, 239, 275, 1221, 816, 1222, 2363, 2262, 4508, -402, 1577, 34, 795, 117, 5462, 402, 641, 36, 383, 283, 3102, 889, -370, -606, 10378, 1313, 8969, 15, 4608, 666, 452, 149, 7802, 1453, 1480, 715, 237, 694, 136, -404, 779, 1187, 826, 991, 1796, 7317, 4943, 258, 515, 12607, 13, 103, 3872, 296, 315, 820, 195, 108, -381, 757, 691, 1925, 5207, 665, 738, 233, -839, 5799, 1033, 66, 2567, 1584, 76, 663, 3455, 1054, 1529, 920, 3696, 59, 157, 2465, 12437, 378, 211, -228, 2747, 1932, 11269, 1314, 2275, 1304, 720, 2914, 1464, 11555, -302, 2497, -339, 56, 3611, 459, 242, 1138, 1319, 67, 937, -558, 361, 227, 236, -53, 192, 38, 518, 334, 1048, 660, 1034, 201, 189, -49, 1413, 54, 12519, 2881, 88, 1020, 1594, 72, 14, 81, 231, 1161, -45, 1570, 7050, 3704, 6619, -84, 1509, 1134, 146, 9449, 374, 2764, 8023, 289, 1382, 280, 2195, 703, 1178, 2763, 890, 548, 272, 6269, 178, 252, 23663, 1343, 225, 2538, 57, -117, 324, 621, 138, 4063, 11084, 73, 1281, 64, 60, 133, 3706, 251, 4153, 985, 1550, 7708, -12, 6483, 3339, 599, 28, 1430, 35, 6000, 340, 3, 445, 705, 1354, 8894, 429, 14752, 102, 1790, 15311, -635, 115, 10786, 498, 1045, 810, -162, 1010, 509, 2929, 3071, 153, 1146, 1092, 3463, 1158, 26, 566, 1855, 3250, 1633, 3334, 4020, -41, 2643, 352, 65, 1949, 739, 1167, 1136, 817, 1128, 450, 414, 1052, 1022, 343, 1944, -32, 1781, 350, 159, 865, -230, 3924, 764, 511, 4348, 3016, 279, 1405, 908, 162, 792, 1012, 643, 254, -1212, 2125, 629, -202, -216, 466, -75, 456, 77, -244, 1209, 58, 421, 112, 13669, 1429, 794, 1957, 454, 882, 714, 1996, 163, 3190, 1772, -151, 7066, 4798, -298, 439, 1927, 671, -932, 4366, 4900, 976, -148, 113, -105, -1680, -461, 144, 309, 866, 489, 8167, -255, 3671, 636, 141, 150, 839, 26965, 716, 2485, 15030, 11303, 595, 19358, 183, 255, 94, 9269, 1206, 5291, 1407, 793, 10287, 5235, 409, -459, 198, 99, 3485, -139, 952, 1427, 1017, -29, 9, 4040, 1259, 18, -76, 16353, -63, 7353, 3913, 1097, 6102, -119, 2993, 3575, 1072, 2904, 86, 8312, 1451, 1066, 3163, 888, 979, 2662, 84, 5920, 3276, -51, 3315, 196, 552, 2347, 3723, 3143, 6411, 1909, 3873, 1013, 262, 3217, 5436, 2067, 134, 3021, 3412, 1291, 79, 2013, 1016, 604, 525, 964, 314, 1370, 673, -342, 291, 1242, 355, 10758, 8494, 841, 470, 520, -454, 994, 5346, 1243, 2357, 1044, 1069, 266, -70, 25824, 538, 534, 2323, 1852, 2647, 2767, 9720, 1613, 2903, 299, 285, 1337, -388, 11, -535, 787, 3343, 3904, 736, 1390, 808, 1122, -568, 1165, -905, 740, 8262, 7108, 1049, 726, 594, 2206, 1988, 202, 667, 768, 74, 661, 3025, 751, 416, -502, -218, 300, 2096, 5278, 7289, 1665, 851, 2885, 137, 1239, -10, 2789, 3897, 487, 5110, -411, 4820, 4937, 725, 5403, 4089, 188, 2998, 610, 243, 877, 2817, 4567, 127, 1482, 3052, 3875, -337, 366, 998, 246, -182, 446, 1173, 5957, 369, 1934, 284, 1373, 62, 977, 2893, 1897, 5514, 1193, 2729, 230, 317, -470, 4579, 5106, 126, -33, 430, -6, 2569, 475, 706, 1825, 185, 4415, 679, 320, 2988, 1270, 654, 5173, 6016, 3694, 1640, 10177, 490, 2576, 598, 15459, 2508, 640, 2370, 160, 75, 4902, -79, 1341, 1521, 131, -632, 116, 4229, 549, 298, 579, 1467, -11, 90, 2403, 868, 653, 218, 5050, 741, 1050, -56, -98, 4667, 541, 7744, 895, -129, 158, 122, 411, -97, -217, 5037, 2232, 913, 2581, 639, 849, 386, 1218, 2603, -921, 607, 1091, 743, 41, 1116, 5845, 329, 494, 1519, 2685, -14, 5673, 1459, 625, 867, 8304, 151, -583, 1784, 3134, -346, 1623, 17, 2008, 91, 1027, 5801, 852, -584, 97, 628, 311, 1564, 856, -888, 226, 413, 710, 1233, 1499, 425, 1021, 781, 1448, -194, 1014, 2597, 2627, -319, -296, 169, 556, -386, 379, 9121, 951, 368, 4170, -335, 3165, 85, 603, 4424, 2610, 3234, 631, 341, 316, 507, 912, 2524, 9019, 265, 1520, 578, 2253, 1171, 4738, 467, 495, 358, 292, 7343, -563, 351, 13494, 846, 1574, -28, 2927, 1238, 301, 1388, 4665, 638, 1224, 1103, 3748, 955, 1893, -423, 2987, 433, 756, 2727, 1766, 124, 4103, 70, 1172, 7546, 620, 8647, 27733, 1008, 6421, 443, 5060, -124, 3945, 197, 837, -94, 1743, 635, -113, -7, 375, 936, 1415, 3638, -99, 19, 286, 1663, 238, 2178, 871, 1025, 417, 3992, 2749, 1721, 2171, 4760, 2979, 690, 1210, 634, 47, 1100, 1544, 6145, 245, 1998, 3990, 1562, 3432, 1339, 7727, 728, 2418, 2934, 181, 2023, 7702, 464, 104, 1041, 539, 2558, 3516, 5639, 100, 1306, 815, 191, 2815, 3672, 1572, 385, 29, 6217, 14533, -2, 4684, 1149, 8004, 1019, 1297, 2378, 71, 1188, 8139, 249, 689, -183, 3451, 1746, 897, 821, 699, 4968, 1211, 426, 376, 12, 330, 2273, 608, 356, -306, 306, -312, 669, 1164, -191, 2237, 4761, 655, 569, 1666, 263, -405, 1062, 809, -278, 3238, 2442, 1798, 7, 3283, 2960, 486, 5958, 304, 118, 960, 2185, 2190, 3732, 704, 1191, -47, 2398, 630, 235, 1910, 3172, 407, 2058, 51, 282, 2139, -469, 825, 3232, 1598, 83, 1445, -336, 44, 2887, 1992, 297, 1094, -1, 347, 1253, 4565, 7124, 17555, 5172, 15520, 13711, 1533, -219, 1175, 1477, 399, -435, 2830, 125, 45, 1987, 857, 15834, 3370, 6290, 4075, 373, -101, 1375, 180, 175, 381, 10, 4958, 21244, 156, 473, 1819, 4374, 253, 774, -59, -81, -3, 1680, 7179, 247, 8295, 95, 2240, 1295, 4143, 2646, 618, 434, 622, 290, 1230, 923, 1503, -679, 773, 10788, -406, -887, 4157, 1386, 2211, -495, 27359, 440, 135, -735, 18347, -72, 1205, 656, 87, 3228, 1361, 7813, -27, 1139, 7195, -477, 1026, 3921, 980, -179, 2552, 1729, -300, 4785, -329, 4657, 3472, 4365, 474, 695, -770, 213, 2169, 212, 333, 4404, 257, 3188, 3083, 1260, 6046, -37, -154, 680, 799, -1164, 2523, 98, 3419, -259, -1310, 139, 7138, 1111, -612, -186, 2038, 833, 551, 1063, 2926, -449, 4758, -23, 1573, 1378, -73, 1583, -121, 1065, -13, 1869, 4787, 702, 1494, 46, 609, 4079, 7876, 925, 7010, 3170, 216, 2975, 894, 1727, 664, -192, 1942, 5137, 13044, 1053, 154, 529, 1903, 1937, 3859, 4198, -46, 568, 1469, 1412, -93, -331, 2806, 2959, -1313, 697, 1086, 4335, -77, 1046, 1566, 592, 319, 9339, 6922, 633, 4265, 1970, 1513, 668, 649, -145, -498, 2304, 4897, 1832, 3726, 508, 348, 3554, 267, 1327, 864, 1265, 3727, -478, -363, 8883, 1859, 1059, 712, 523, 422, 3387, 1490, 1707, 907, 1836, 404, 819, 371, 3107, 1438, 1367, 1693, 778, -50, 26306, 575, 431, 777, 199, 3552, 3823, 1325, 4343, 3301, 822, -280, 1534, 1671, 2007, 2776, 573, 2154, 96, 6766, 3973, -552, 48, 7696, 4500, -18, 479, 1130, 389, 401, 207, 2433, 1924, -471, 1531, 3782, 326, -15, 1929, -424, -1148, -206, 1931, 943, 327, 983, 3060, 5780, 790, 1449, 681, 2087, 1905, 2644, 16430, 2515, 5195, 2098, 3431, 370, 13342, 6570, -665, 8238, 1661, 3132, 2682, 596, 2059, 223, 512, 1169, 940, -80, 1286, 804, 1678, 532, 659, 838, 68, -242, 321, 3403, 152, 1439, 1491, 6402, 3333, 16992, 6072, 2105, 2319, 30, -2082, 1750, 772, 1649, 287, 1731, 5498, 5063, 7041, 2400, 519, 1190, 1818, 1289, 796, 1548, 957, 724, 2519, 3927, 581, 3242, 155, 11386, 1380, 2443, 1129, 4232, 5564, 1323, 1042, -1053, 1667, 2571, 732, -136, 3636, 931, 565, 1153, 558, 700, -966, 4007, 567, 40, 917, 2542, 5355, 807, 9976, 540, -517, 2613, -200, 2301, 1882, 4425, 3533, 3573, 476, 1257, 398, 745, 8106, 1266, 2416, 7513, 5116, -1746, 4148, 767, 184, -17, -19, 377, -375, 1071, 7378, 1387, 2917, 4541, 4287, 827, 469, 2226, 477, 775, 2557, 2395, 4895, 1273, 2892, 295, -587, 367, -1224, 959, -589, -8, 5543, 642, -226, 5191, -320, 2289, 776, 812, 823, 1009, 22370, 2111, 5366, -452, 1770, 2358, 1200, 616, 4906, 313, 143, 3074, 1734, 397, 2984, 1011, 1133, 4945, -427, 2146, 92, 981, 3733, -540, 560, 325, 437, 935, 11417, 1673, -1202, 4213, 1310, 405, 9756, 2506, 403, 2705, 2457, 677, 2629, 2325, -20, -852, 9851, 5095, 1368, 1159, -322, 1114, 2072, 1157, 8309, 1043, 461, 1203, 1067, 1657, 1219, 8627, 1592, 2157, 6095, 1121, -328, 685, 22856, -352, -588, 5314, 632, 5731, 6307, 435, 7864, 1174, 2886, 2715, 516, 5715, 1088, 1532, 748, 1990, 648, -90, 170, 3665, 2380, 763, 1960, 818, 2678, 1980, 1582, 3931, 557, 3230, 120, 1058, 881, 6728, 1625, 562, 9305, 2486, 1558, 2590, 900, 9228, 771, 2431, 555, 848, 481, 12223, -254, 7007, 220, 1694, 4446, 13658, -276, 10218, 1646, 7635, 1029, 2855, 1465, 930, -35, 1351, 1601, 717, 1553, -131, 544, 688, 1603, 1511, 836, 1123, 12531, 14220, 12569, 3587, 1712, 4855, 2408, 346, -710, -551, 1514, 1580, 1278, 982, 128, 2543, 42045, 3940, 140, 746, 589, 2343, 294, -26, 3354, 3735, 2094, 26394, -74, 1830, 1904, 16957, 332, -399, -54, -102, 4809, 2201, 8044, 2374, 1397, 3177, 232, 1433, 187, 4610, 500, 210, 1696, -31, 800, 701, 3285, 1587, 1868, 4646, 27, 224, 2544, 3948, 1810, 2657, 658, 1679, 1160, 585, 2145, 966, 8515, 3068, 678, -630, 357, -9, 9146, 328, -703, 6053, 1142, 802, 6164, 1156, 806, 2381, -314, 4745, 11797, 786, 4015, 1554, 5086, 4824, 2281, 6968, 6904, 1922, 3298, 8556, 3514, 2819, -518, 2707, 13229, 990, 1916, 5739, 1518, -401, 5310, 2285, 22171, 3797, 53, 390, 2600, -241, 1545, 1801, 2278, 1588, 24, 788, 4438, 5045, 3014, 21664, 5878, 2723, 576, 2197, 1279, 2128, 2921, 16264, 1672, 9207, 1217, 590, 4256, 693, 362, 3043, 1309, 1792, 537, 1472, 3953, 13204, 22546, 8131, -378, 10787, 384, 1471, 6839, 1876, 1847, 4664, 382, 2033, 789, 645, 847, 1308, 1416, 465, 550, 1285, 4908, 336, 453, 1102, 926, 8669, 9324, 173, 1983, 1283, 2179, 1047, -308, 1177, 2077, 7735, 2770, 5320, 4885, 6767, 2974, 8876, 766, -305, 670, 2850, 110, 5039, 5092, 750, 1844, 4280, 5706, 7780, -559, 16874, 526, 2306, 954, 4209, 491, 14363, 335, 270, 914, 31, 860, -149, 2411, 2731, 3620, -110, 6495, -650, 5774, 19317, -674, 1180, 6610, -762, -120, 78, 2469, 1384, 719, 6704, 4543, -1400, -118, 2160, 3452, 842, 1628, 3215, 2814, 16178, 13893, 2718, -422, 248, 949, 614, 114, -229, 4194, 1057, 929, 268, 2223, 312, 1070, 5969, 3337, 1347, 5533, 4022, 3057, 349, 2322, 4094, 4539, 770, -673, 858, 5244, 1331, 71188, 5108, 1738, 6649, 1032, 2967, 1585, 4384, 588, 3180, 1040, -384, 674, 4130, 250, 2793, 2628, 878, 2944, 3975, 2288, 472, 7495, 3450, 492, 997, 1298, 3355, 1409, 2769, 2320, 2034, 3018, 921, 22196, 3274, 1664, 7020, 1670, 161, 3658, 3342, 1732, 623, 3540, 765, -824, 5549, 420, 2706, 423, -892, -365, 27069, 8038, -938, 3663, -614, 5122, 1495, 1274, -315, 1843, -107, 4503, 961, 3470, -147, -407, 3304, 4848, 13683, 1420, 1198, 506, 1249, 4402, 4722, 1555, 3357, 3809, 1318, 2187, 14440, 2294, 2537, 460, 7944, -464, 1989, 1698, 5306, 3676, 471, 8902, 1704, 3050, 3371, 1757, 934, -287, 2734, 2594, 1611, 7337, 835, 10655, 1758, 2061, 208, 801, 1948, 1871, 6836, -967, 5527, 17361, 1956, -294, -123, 2700, 21515, 5902, 547, 3800, -34, 9328, 3529, 2330, 1334, 3601, 2227, 14412, 3288, 2246, 4441, 448, 1185, 3972, 26452, 2420, 2788, 485, 6900, 4086, 2805, 1612, 2137, 944, 2394, 2144, 969, 436, 1170, 647, 2142, 1959, 1621, -282, -393, 1268, -163, 4831, 2880, 4382, 3939, 753, 1141, 2478, 6844, 1881, 10907, -566, 1275, 6637, 584, 3186, 1883, -872, 1689, 626, 3792, 14058, -522, 1978, 2812, 5057, -759, -416, 2106, 4717, 4039, 582, 8218, 1424, 2085, 2305, -547, 6563, 1145, 563, 3161, 5980, 3382, 2308, 1073, 1700, 896, 2225, -251, 722, 1504, 752, -246, 901, 834, 5597, 1547, 8652, 1626, 749, 6850, 932, -626, 3608, 8366, 2186, 20453, 19447, 2548, 2284, 364, 10888, 2131, 2642, 1214, -292, 2540, 13156, 4210, 16063, 5431, 3854, -617, 3653, 4795, 10910, 1568, 7929, 463, 2116, 107, 2679, 256, -133, 811, 7845, 2048, 1557, 1536, 190, 4888, 4460, 13117, 12877, 1506, 3316, 6880, 2189, 5304, 6969, 572, 164, 4554, 967, 1166, 3534, 200, 4790, -237, 1335, 577, 3436, 6945, 3496, 1183, 942, 4196, -91, 1080, -166, -333, -3313, 1137]\n",
      "1787=>no\n",
      "4789=>no\n",
      "1350=>no\n",
      "1476=>no\n",
      "0=>duration\n",
      "duration=>[79, 220, 185, 199, 226, 141, 341, 151, 57, 313, 273, 113, 328, 261, 89, 189, 239, 114, 250, 148, 96, 140, 109, 125, 169, 182, 247, 119, 149, 74, 897, 81, 40, 958, 354, 150, 97, 132, 765, 16, 609, 106, 365, 205, 11, 105, 59, 425, 204, 181, 1018, 1740, 98, 441, 272, 159, 295, 314, 579, 554, 323, 227, 134, 223, 155, 130, 630, 164, 268, 380, 154, 221, 67, 367, 87, 701, 652, 63, 398, 224, 406, 60, 521, 279, 203, 201, 372, 391, 165, 231, 291, 233, 473, 736, 337, 553, 345, 65, 9, 259, 371, 280, 243, 435, 258, 7, 317, 76, 170, 386, 83, 69, 564, 588, 779, 281, 1877, 51, 32, 176, 161, 187, 24, 85, 236, 54, 71, 489, 39, 455, 86, 190, 45, 168, 194, 103, 333, 102, 92, 213, 289, 77, 324, 84, 10, 35, 82, 676, 80, 549, 135, 412, 101, 253, 166, 18, 147, 14, 61, 377, 152, 382, 543, 240, 48, 471, 285, 301, 768, 1337, 403, 139, 196, 115, 17, 95, 198, 654, 256, 834, 20, 178, 111, 186, 297, 210, 112, 222, 195, 123, 145, 124, 216, 483, 690, 344, 673, 144, 246, 361, 375, 1097, 180, 373, 230, 58, 88, 487, 29, 484, 262, 644, 699, 49, 64, 121, 197, 331, 138, 312, 120, 526, 211, 62, 988, 451, 1030, 1484, 445, 383, 605, 330, 171, 442, 772, 249, 357, 271, 783, 472, 395, 56, 641, 429, 157, 162, 799, 1370, 22, 215, 1017, 298, 126, 8, 555, 270, 339, 342, 1434, 30, 397, 620, 6, 209, 419, 283, 188, 267, 245, 1065, 207, 456, 131, 94, 567, 153, 53, 234, 108, 208, 597, 505, 332, 212, 493, 681, 287, 202, 37, 72, 325, 1212, 319, 514, 551, 142, 293, 107, 127, 1816, 200, 418, 387, 156, 47, 265, 31, 28, 369, 854, 46, 266, 321, 99, 430, 264, 118, 343, 5, 722, 748, 523, 421, 15, 502, 193, 347, 468, 388, 1735, 172, 117, 587, 501, 282, 110, 104, 378, 1407, 738, 70, 904, 336, 238, 585, 68, 1713, 218, 661, 566, 136, 160, 44, 792, 73, 90, 346, 192, 682, 651, 405, 350, 36, 389, 3025, 219, 427, 533, 19, 819, 278, 617, 34, 668, 75, 146, 356, 251, 352, 184, 568, 260, 447, 426, 174, 284, 428, 237, 1031, 700, 590, 43, 27, 1181, 122, 307, 770, 767, 232, 986, 66, 158, 306, 559, 183, 631, 1282, 1199, 244, 55, 290, 385, 133, 91, 25, 275, 632, 100, 41, 446, 304, 335, 276, 42, 614, 557, 1663, 510, 1259, 225, 404, 1015, 761, 464, 206, 667, 143, 717, 38, 254, 882, 957, 299, 167, 500, 177, 457, 460, 1028, 315, 381, 643, 508, 128, 492, 257, 241, 536, 601, 1168, 277, 364, 229, 402, 175, 255, 820, 116, 463, 603, 191, 2087, 754, 303, 288, 891, 558, 228, 353, 296, 432, 1130, 305, 274, 860, 420, 756, 968, 408, 13, 763, 316, 50, 4, 78, 286, 766, 648, 688, 21, 593, 407, 563, 52, 803, 396, 637, 945, 1178, 506, 409, 327, 618, 936, 329, 179, 731, 670, 318, 415, 137, 349, 263, 671, 452, 163, 586, 650, 610, 747, 252, 883, 684, 686, 1060, 724, 424, 712, 753, 1081, 376, 433, 411, 1083, 757, 524, 653, 93, 503, 217, 475, 340, 242, 530, 23, 935, 773, 423, 626, 578, 248, 528, 785, 952, 1174, 915, 937, 129, 1063, 758, 574, 847, 1558, 789, 1441, 322, 1504, 537, 611, 26, 12, 235, 796, 1126, 697, 931, 1034, 362, 410, 570, 633, 659, 302, 727, 214, 173, 635, 540, 1210, 486, 646, 326, 414, 716, 449, 580, 399, 1029, 755, 619, 606, 971, 348, 594, 1275, 379, 1032, 393, 808, 923, 413, 541, 602, 762, 360, 310, 311, 638, 355, 300, 417, 308, 657, 434, 488, 1309, 1056, 908, 401, 827, 735, 691, 461, 669, 1473, 1386, 294, 910, 550, 1366, 1532, 955, 513, 1236, 809, 482, 1164, 674, 709, 436, 374, 309, 363, 422, 358, 640, 439, 476, 480, 517, 993, 33, 730, 636, 750, 334, 868, 351, 1689, 607, 485, 1021, 732, 577, 733, 788, 863, 1073, 525, 696, 535, 370, 465, 338, 956, 546, 470, 836, 544, 443, 1149, 707, 1451, 1143, 477, 450, 467, 292, 806, 560, 759, 1183, 598, 466, 431, 269, 542, 562, 515, 1165, 547, 780, 916, 474, 509, 679, 1472, 965, 1139, 504, 672, 749, 454, 531, 479, 384, 973, 728, 656, 998, 320, 615, 612, 664, 394, 877, 1971, 1258, 599, 655, 1994, 743, 924, 929, 491, 719, 565, 1529, 390, 1467, 1007, 665, 990, 582, 458, 775, 497, 698, 702, 520, 1156, 884, 1521, 359, 527, 994, 1579, 437, 1225, 865, 569, 1011, 814, 984, 392, 595, 1448, 529, 1006, 622, 494, 1022, 1044, 781, 1124, 400, 516, 1516, 978, 720, 495, 798, 876, 875, 481, 793, 1117, 1223, 1101, 744, 2769, 561, 715, 639, 538, 1721, 1608, 725, 519, 490, 907, 680, 977, 959, 693, 2029, 1009, 718, 805, 623, 976, 600, 469, 1010, 634, 1531, 764, 532, 825, 539, 816, 821, 1231, 742, 2456, 721, 777, 548, 830, 645, 723, 746, 869, 1173, 624, 518, 815, 857, 921, 627, 800, 366, 1088, 812, 866, 1151, 873, 592, 663, 576, 1476, 951, 1234, 1263, 660]\n",
      "747=>housing\n",
      "housing=>[0, 1]\n",
      "307=>no\n",
      "147=>no\n",
      "221=>no\n",
      "-88=>no\n",
      "9374=>no\n",
      "264=>no\n",
      "1109=>no\n",
      "502=>previous\n",
      "previous=>[0, 4, 1, 3, 2, 5, 20, 7, 6, 10, 9, 8, 18, 19, 12, 13, 11, 14, 15, 24, 17, 22, 23, 25]\n",
      "360=>no\n",
      "194=>\n"
     ]
    },
    {
     "ename": "KeyError",
     "evalue": "''",
     "output_type": "error",
     "traceback": [
      "\u001b[0;31m---------------------------------------------------------------------------\u001b[0m",
      "\u001b[0;31mKeyError\u001b[0m                                  Traceback (most recent call last)",
      "File \u001b[0;32m~/miniconda3/lib/python3.11/site-packages/pandas/core/indexes/base.py:3653\u001b[0m, in \u001b[0;36mIndex.get_loc\u001b[0;34m(self, key)\u001b[0m\n\u001b[1;32m   3652\u001b[0m \u001b[38;5;28;01mtry\u001b[39;00m:\n\u001b[0;32m-> 3653\u001b[0m     \u001b[38;5;28;01mreturn\u001b[39;00m \u001b[38;5;28mself\u001b[39m\u001b[38;5;241m.\u001b[39m_engine\u001b[38;5;241m.\u001b[39mget_loc(casted_key)\n\u001b[1;32m   3654\u001b[0m \u001b[38;5;28;01mexcept\u001b[39;00m \u001b[38;5;167;01mKeyError\u001b[39;00m \u001b[38;5;28;01mas\u001b[39;00m err:\n",
      "File \u001b[0;32m~/miniconda3/lib/python3.11/site-packages/pandas/_libs/index.pyx:147\u001b[0m, in \u001b[0;36mpandas._libs.index.IndexEngine.get_loc\u001b[0;34m()\u001b[0m\n",
      "File \u001b[0;32m~/miniconda3/lib/python3.11/site-packages/pandas/_libs/index.pyx:176\u001b[0m, in \u001b[0;36mpandas._libs.index.IndexEngine.get_loc\u001b[0;34m()\u001b[0m\n",
      "File \u001b[0;32mpandas/_libs/hashtable_class_helper.pxi:7080\u001b[0m, in \u001b[0;36mpandas._libs.hashtable.PyObjectHashTable.get_item\u001b[0;34m()\u001b[0m\n",
      "File \u001b[0;32mpandas/_libs/hashtable_class_helper.pxi:7088\u001b[0m, in \u001b[0;36mpandas._libs.hashtable.PyObjectHashTable.get_item\u001b[0;34m()\u001b[0m\n",
      "\u001b[0;31mKeyError\u001b[0m: ''",
      "\nThe above exception was the direct cause of the following exception:\n",
      "\u001b[0;31mKeyError\u001b[0m                                  Traceback (most recent call last)",
      "Cell \u001b[0;32mIn[53], line 1\u001b[0m\n\u001b[0;32m----> 1\u001b[0m oop_building_tree()\n",
      "Cell \u001b[0;32mIn[52], line 56\u001b[0m, in \u001b[0;36moop_building_tree\u001b[0;34m()\u001b[0m\n\u001b[1;32m     54\u001b[0m intr_node\u001b[38;5;241m.\u001b[39mset_prevnode(node)\n\u001b[1;32m     55\u001b[0m \u001b[38;5;28mprint\u001b[39m(\u001b[38;5;124m\"\u001b[39m\u001b[38;5;132;01m{}\u001b[39;00m\u001b[38;5;124m=>\u001b[39m\u001b[38;5;132;01m{}\u001b[39;00m\u001b[38;5;124m\"\u001b[39m\u001b[38;5;241m.\u001b[39mformat(node\u001b[38;5;241m.\u001b[39mget_value(),intr_node\u001b[38;5;241m.\u001b[39mget_value()))\n\u001b[0;32m---> 56\u001b[0m intr_values\u001b[38;5;241m=\u001b[39m[Node(val) \u001b[38;5;28;01mfor\u001b[39;00m val \u001b[38;5;129;01min\u001b[39;00m \u001b[38;5;28mlist\u001b[39m(data[intr_node\u001b[38;5;241m.\u001b[39mget_value()]\u001b[38;5;241m.\u001b[39munique())]\n\u001b[1;32m     57\u001b[0m intr_node\u001b[38;5;241m.\u001b[39mset_nxtnode(intr_values)\n\u001b[1;32m     58\u001b[0m \u001b[38;5;28mprint\u001b[39m(\u001b[38;5;124m\"\u001b[39m\u001b[38;5;132;01m{}\u001b[39;00m\u001b[38;5;124m=>\u001b[39m\u001b[38;5;132;01m{}\u001b[39;00m\u001b[38;5;124m\"\u001b[39m\u001b[38;5;241m.\u001b[39mformat(intr_node\u001b[38;5;241m.\u001b[39mget_value(),[node\u001b[38;5;241m.\u001b[39mget_value() \u001b[38;5;28;01mfor\u001b[39;00m node \u001b[38;5;129;01min\u001b[39;00m intr_node\u001b[38;5;241m.\u001b[39mget_nxtnode()]))\n",
      "File \u001b[0;32m~/miniconda3/lib/python3.11/site-packages/pandas/core/frame.py:3761\u001b[0m, in \u001b[0;36mDataFrame.__getitem__\u001b[0;34m(self, key)\u001b[0m\n\u001b[1;32m   3759\u001b[0m \u001b[38;5;28;01mif\u001b[39;00m \u001b[38;5;28mself\u001b[39m\u001b[38;5;241m.\u001b[39mcolumns\u001b[38;5;241m.\u001b[39mnlevels \u001b[38;5;241m>\u001b[39m \u001b[38;5;241m1\u001b[39m:\n\u001b[1;32m   3760\u001b[0m     \u001b[38;5;28;01mreturn\u001b[39;00m \u001b[38;5;28mself\u001b[39m\u001b[38;5;241m.\u001b[39m_getitem_multilevel(key)\n\u001b[0;32m-> 3761\u001b[0m indexer \u001b[38;5;241m=\u001b[39m \u001b[38;5;28mself\u001b[39m\u001b[38;5;241m.\u001b[39mcolumns\u001b[38;5;241m.\u001b[39mget_loc(key)\n\u001b[1;32m   3762\u001b[0m \u001b[38;5;28;01mif\u001b[39;00m is_integer(indexer):\n\u001b[1;32m   3763\u001b[0m     indexer \u001b[38;5;241m=\u001b[39m [indexer]\n",
      "File \u001b[0;32m~/miniconda3/lib/python3.11/site-packages/pandas/core/indexes/base.py:3655\u001b[0m, in \u001b[0;36mIndex.get_loc\u001b[0;34m(self, key)\u001b[0m\n\u001b[1;32m   3653\u001b[0m     \u001b[38;5;28;01mreturn\u001b[39;00m \u001b[38;5;28mself\u001b[39m\u001b[38;5;241m.\u001b[39m_engine\u001b[38;5;241m.\u001b[39mget_loc(casted_key)\n\u001b[1;32m   3654\u001b[0m \u001b[38;5;28;01mexcept\u001b[39;00m \u001b[38;5;167;01mKeyError\u001b[39;00m \u001b[38;5;28;01mas\u001b[39;00m err:\n\u001b[0;32m-> 3655\u001b[0m     \u001b[38;5;28;01mraise\u001b[39;00m \u001b[38;5;167;01mKeyError\u001b[39;00m(key) \u001b[38;5;28;01mfrom\u001b[39;00m \u001b[38;5;21;01merr\u001b[39;00m\n\u001b[1;32m   3656\u001b[0m \u001b[38;5;28;01mexcept\u001b[39;00m \u001b[38;5;167;01mTypeError\u001b[39;00m:\n\u001b[1;32m   3657\u001b[0m     \u001b[38;5;66;03m# If we have a listlike key, _check_indexing_error will raise\u001b[39;00m\n\u001b[1;32m   3658\u001b[0m     \u001b[38;5;66;03m#  InvalidIndexError. Otherwise we fall through and re-raise\u001b[39;00m\n\u001b[1;32m   3659\u001b[0m     \u001b[38;5;66;03m#  the TypeError.\u001b[39;00m\n\u001b[1;32m   3660\u001b[0m     \u001b[38;5;28mself\u001b[39m\u001b[38;5;241m.\u001b[39m_check_indexing_error(key)\n",
      "\u001b[0;31mKeyError\u001b[0m: ''"
     ]
    }
   ],
   "source": [
    "oop_building_tree()"
   ]
  },
  {
   "cell_type": "code",
   "execution_count": null,
   "id": "ed1305af-fa88-43e9-900a-a1077caafe4a",
   "metadata": {},
   "outputs": [],
   "source": []
  },
  {
   "cell_type": "code",
   "execution_count": null,
   "id": "cedcaedd-3a82-47fe-8d16-9825787df5a0",
   "metadata": {},
   "outputs": [],
   "source": []
  },
  {
   "cell_type": "code",
   "execution_count": 54,
   "id": "2ca22081-caa3-4013-ac94-8073d39dc46b",
   "metadata": {
    "execution": {
     "iopub.execute_input": "2023-11-10T18:15:26.676485Z",
     "iopub.status.busy": "2023-11-10T18:15:26.676252Z",
     "iopub.status.idle": "2023-11-10T18:15:43.538158Z",
     "shell.execute_reply": "2023-11-10T18:15:43.535718Z",
     "shell.execute_reply.started": "2023-11-10T18:15:26.676467Z"
    },
    "tags": []
   },
   "outputs": [
    {
     "name": "stdout",
     "output_type": "stream",
     "text": [
      "\u001b[33mWARNING: Skipping /home/aminkhani/miniconda3/lib/python3.11/site-packages/webencodings-0.5.1.dist-info due to invalid metadata entry 'name'\u001b[0m\u001b[33m\n",
      "\u001b[0m\u001b[33mWARNING: Skipping /home/aminkhani/miniconda3/lib/python3.11/site-packages/webencodings-0.5.1.dist-info due to invalid metadata entry 'name'\u001b[0m\u001b[33m\n",
      "\u001b[0mCollecting decision-tree-id3\n",
      "  Downloading decision-tree-id3-0.1.2.tar.gz (12 kB)\n",
      "  Preparing metadata (setup.py) ... \u001b[?25ldone\n",
      "\u001b[?25hCollecting nose>=1.1.2 (from decision-tree-id3)\n",
      "  Downloading nose-1.3.7-py3-none-any.whl (154 kB)\n",
      "\u001b[2K     \u001b[38;2;114;156;31m━━━━━━━━━━━━━━━━━━━━━━━━━━━━━━━━━━━━━\u001b[0m \u001b[32m154.7/154.7 kB\u001b[0m \u001b[31m174.3 kB/s\u001b[0m eta \u001b[36m0:00:00\u001b[0mm eta \u001b[36m0:00:01\u001b[0m[36m0:00:01\u001b[0m\n",
      "\u001b[?25hRequirement already satisfied: scikit-learn>=0.17 in /home/aminkhani/miniconda3/lib/python3.11/site-packages (from decision-tree-id3) (1.3.1)\n",
      "Requirement already satisfied: numpy>=1.6.1 in /home/aminkhani/miniconda3/lib/python3.11/site-packages (from decision-tree-id3) (1.24.3)\n",
      "Requirement already satisfied: scipy>=1.5.0 in /home/aminkhani/miniconda3/lib/python3.11/site-packages (from scikit-learn>=0.17->decision-tree-id3) (1.11.3)\n",
      "Requirement already satisfied: joblib>=1.1.1 in /home/aminkhani/miniconda3/lib/python3.11/site-packages (from scikit-learn>=0.17->decision-tree-id3) (1.3.2)\n",
      "Requirement already satisfied: threadpoolctl>=2.0.0 in /home/aminkhani/miniconda3/lib/python3.11/site-packages (from scikit-learn>=0.17->decision-tree-id3) (3.2.0)\n",
      "Building wheels for collected packages: decision-tree-id3\n",
      "  Building wheel for decision-tree-id3 (setup.py) ... \u001b[?25ldone\n",
      "\u001b[?25h  Created wheel for decision-tree-id3: filename=decision_tree_id3-0.1.2-py3-none-any.whl size=15944 sha256=905c98dd2b32f7b8b08b2543ad15ccf28f7f75cbd057ba86d0d6af9962b780fd\n",
      "  Stored in directory: /home/aminkhani/.cache/pip/wheels/54/e9/72/00b38b5d4f4464d8ee5ed73092f2167c88bac31e01fcc17d38\n",
      "Successfully built decision-tree-id3\n",
      "\u001b[33mWARNING: Skipping /home/aminkhani/miniconda3/lib/python3.11/site-packages/webencodings-0.5.1.dist-info due to invalid metadata entry 'name'\u001b[0m\u001b[33m\n",
      "\u001b[0mInstalling collected packages: nose, decision-tree-id3\n",
      "\u001b[33mWARNING: Skipping /home/aminkhani/miniconda3/lib/python3.11/site-packages/webencodings-0.5.1.dist-info due to invalid metadata entry 'name'\u001b[0m\u001b[33m\n",
      "\u001b[0m\u001b[33mWARNING: Skipping /home/aminkhani/miniconda3/lib/python3.11/site-packages/webencodings-0.5.1.dist-info due to invalid metadata entry 'name'\u001b[0m\u001b[33m\n",
      "\u001b[0mSuccessfully installed decision-tree-id3-0.1.2 nose-1.3.7\n",
      "\u001b[33mWARNING: Skipping /home/aminkhani/miniconda3/lib/python3.11/site-packages/webencodings-0.5.1.dist-info due to invalid metadata entry 'name'\u001b[0m\u001b[33m\n",
      "\u001b[0m\u001b[33mWARNING: Skipping /home/aminkhani/miniconda3/lib/python3.11/site-packages/webencodings-0.5.1.dist-info due to invalid metadata entry 'name'\u001b[0m\u001b[33m\n",
      "\u001b[0m\u001b[33mWARNING: Skipping /home/aminkhani/miniconda3/lib/python3.11/site-packages/webencodings-0.5.1.dist-info due to invalid metadata entry 'name'\u001b[0m\u001b[33m\n",
      "\u001b[0m"
     ]
    }
   ],
   "source": [
    "!pip install decision-tree-id3"
   ]
  },
  {
   "cell_type": "code",
   "execution_count": null,
   "id": "14317b0e-ee77-4478-bd45-b45959815569",
   "metadata": {},
   "outputs": [],
   "source": []
  }
 ],
 "metadata": {
  "kernelspec": {
   "display_name": "Python 3 (ipykernel)",
   "language": "python",
   "name": "python3"
  },
  "language_info": {
   "codemirror_mode": {
    "name": "ipython",
    "version": 3
   },
   "file_extension": ".py",
   "mimetype": "text/x-python",
   "name": "python",
   "nbconvert_exporter": "python",
   "pygments_lexer": "ipython3",
   "version": "3.11.4"
  },
  "widgets": {
   "application/vnd.jupyter.widget-state+json": {
    "state": {},
    "version_major": 2,
    "version_minor": 0
   }
  }
 },
 "nbformat": 4,
 "nbformat_minor": 5
}
