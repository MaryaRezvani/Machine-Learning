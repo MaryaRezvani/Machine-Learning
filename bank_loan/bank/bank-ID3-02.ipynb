{
 "cells": [
  {
   "cell_type": "code",
   "execution_count": 94,
   "id": "27679248-8b62-4db2-9a95-109033e59934",
   "metadata": {
    "execution": {
     "iopub.execute_input": "2023-11-10T18:28:31.054341Z",
     "iopub.status.busy": "2023-11-10T18:28:31.054091Z",
     "iopub.status.idle": "2023-11-10T18:28:31.059291Z",
     "shell.execute_reply": "2023-11-10T18:28:31.058438Z",
     "shell.execute_reply.started": "2023-11-10T18:28:31.054320Z"
    },
    "tags": []
   },
   "outputs": [],
   "source": [
    "import pandas as pd\n",
    "from sklearn.model_selection import train_test_split\n",
    "from sklearn.tree import DecisionTreeClassifier, plot_tree\n",
    "from sklearn.preprocessing import LabelEncoder\n",
    "from sklearn.metrics import confusion_matrix, classification_report\n",
    "import six\n",
    "import numpy as np\n",
    "from os import sys\n",
    "sys.modules['sklearn.externals.six'] = six\n",
    "from id3 import Id3Estimator\n",
    "from id3 import export_graphviz"
   ]
  },
  {
   "cell_type": "code",
   "execution_count": 57,
   "id": "c46b698d-0b4a-4098-a39d-f5677c23c8c1",
   "metadata": {
    "execution": {
     "iopub.execute_input": "2023-11-10T18:26:26.039687Z",
     "iopub.status.busy": "2023-11-10T18:26:26.039427Z",
     "iopub.status.idle": "2023-11-10T18:26:26.175474Z",
     "shell.execute_reply": "2023-11-10T18:26:26.174808Z",
     "shell.execute_reply.started": "2023-11-10T18:26:26.039668Z"
    },
    "tags": []
   },
   "outputs": [],
   "source": [
    "df = pd.read_csv(\"./bank.csv\", delimiter=\";\")"
   ]
  },
  {
   "cell_type": "code",
   "execution_count": 58,
   "id": "e3f7415f-9374-4ce0-aa82-98428ce9eaf7",
   "metadata": {
    "execution": {
     "iopub.execute_input": "2023-11-10T18:26:26.199730Z",
     "iopub.status.busy": "2023-11-10T18:26:26.199501Z",
     "iopub.status.idle": "2023-11-10T18:26:26.303559Z",
     "shell.execute_reply": "2023-11-10T18:26:26.302892Z",
     "shell.execute_reply.started": "2023-11-10T18:26:26.199710Z"
    },
    "tags": []
   },
   "outputs": [
    {
     "data": {
      "text/html": [
       "<div>\n",
       "<style scoped>\n",
       "    .dataframe tbody tr th:only-of-type {\n",
       "        vertical-align: middle;\n",
       "    }\n",
       "\n",
       "    .dataframe tbody tr th {\n",
       "        vertical-align: top;\n",
       "    }\n",
       "\n",
       "    .dataframe thead th {\n",
       "        text-align: right;\n",
       "    }\n",
       "</style>\n",
       "<table border=\"1\" class=\"dataframe\">\n",
       "  <thead>\n",
       "    <tr style=\"text-align: right;\">\n",
       "      <th></th>\n",
       "      <th>age</th>\n",
       "      <th>job</th>\n",
       "      <th>marital</th>\n",
       "      <th>education</th>\n",
       "      <th>default</th>\n",
       "      <th>balance</th>\n",
       "      <th>housing</th>\n",
       "      <th>loan</th>\n",
       "      <th>contact</th>\n",
       "      <th>day</th>\n",
       "      <th>month</th>\n",
       "      <th>duration</th>\n",
       "      <th>campaign</th>\n",
       "      <th>pdays</th>\n",
       "      <th>previous</th>\n",
       "      <th>poutcome</th>\n",
       "      <th>y</th>\n",
       "    </tr>\n",
       "  </thead>\n",
       "  <tbody>\n",
       "    <tr>\n",
       "      <th>0</th>\n",
       "      <td>30</td>\n",
       "      <td>unemployed</td>\n",
       "      <td>married</td>\n",
       "      <td>primary</td>\n",
       "      <td>no</td>\n",
       "      <td>1787</td>\n",
       "      <td>no</td>\n",
       "      <td>no</td>\n",
       "      <td>cellular</td>\n",
       "      <td>19</td>\n",
       "      <td>oct</td>\n",
       "      <td>79</td>\n",
       "      <td>1</td>\n",
       "      <td>-1</td>\n",
       "      <td>0</td>\n",
       "      <td>unknown</td>\n",
       "      <td>no</td>\n",
       "    </tr>\n",
       "    <tr>\n",
       "      <th>1</th>\n",
       "      <td>33</td>\n",
       "      <td>services</td>\n",
       "      <td>married</td>\n",
       "      <td>secondary</td>\n",
       "      <td>no</td>\n",
       "      <td>4789</td>\n",
       "      <td>yes</td>\n",
       "      <td>yes</td>\n",
       "      <td>cellular</td>\n",
       "      <td>11</td>\n",
       "      <td>may</td>\n",
       "      <td>220</td>\n",
       "      <td>1</td>\n",
       "      <td>339</td>\n",
       "      <td>4</td>\n",
       "      <td>failure</td>\n",
       "      <td>no</td>\n",
       "    </tr>\n",
       "    <tr>\n",
       "      <th>2</th>\n",
       "      <td>35</td>\n",
       "      <td>management</td>\n",
       "      <td>single</td>\n",
       "      <td>tertiary</td>\n",
       "      <td>no</td>\n",
       "      <td>1350</td>\n",
       "      <td>yes</td>\n",
       "      <td>no</td>\n",
       "      <td>cellular</td>\n",
       "      <td>16</td>\n",
       "      <td>apr</td>\n",
       "      <td>185</td>\n",
       "      <td>1</td>\n",
       "      <td>330</td>\n",
       "      <td>1</td>\n",
       "      <td>failure</td>\n",
       "      <td>no</td>\n",
       "    </tr>\n",
       "    <tr>\n",
       "      <th>3</th>\n",
       "      <td>30</td>\n",
       "      <td>management</td>\n",
       "      <td>married</td>\n",
       "      <td>tertiary</td>\n",
       "      <td>no</td>\n",
       "      <td>1476</td>\n",
       "      <td>yes</td>\n",
       "      <td>yes</td>\n",
       "      <td>unknown</td>\n",
       "      <td>3</td>\n",
       "      <td>jun</td>\n",
       "      <td>199</td>\n",
       "      <td>4</td>\n",
       "      <td>-1</td>\n",
       "      <td>0</td>\n",
       "      <td>unknown</td>\n",
       "      <td>no</td>\n",
       "    </tr>\n",
       "    <tr>\n",
       "      <th>4</th>\n",
       "      <td>59</td>\n",
       "      <td>blue-collar</td>\n",
       "      <td>married</td>\n",
       "      <td>secondary</td>\n",
       "      <td>no</td>\n",
       "      <td>0</td>\n",
       "      <td>yes</td>\n",
       "      <td>no</td>\n",
       "      <td>unknown</td>\n",
       "      <td>5</td>\n",
       "      <td>may</td>\n",
       "      <td>226</td>\n",
       "      <td>1</td>\n",
       "      <td>-1</td>\n",
       "      <td>0</td>\n",
       "      <td>unknown</td>\n",
       "      <td>no</td>\n",
       "    </tr>\n",
       "  </tbody>\n",
       "</table>\n",
       "</div>"
      ],
      "text/plain": [
       "   age          job  marital  education default  balance housing loan  \\\n",
       "0   30   unemployed  married    primary      no     1787      no   no   \n",
       "1   33     services  married  secondary      no     4789     yes  yes   \n",
       "2   35   management   single   tertiary      no     1350     yes   no   \n",
       "3   30   management  married   tertiary      no     1476     yes  yes   \n",
       "4   59  blue-collar  married  secondary      no        0     yes   no   \n",
       "\n",
       "    contact  day month  duration  campaign  pdays  previous poutcome   y  \n",
       "0  cellular   19   oct        79         1     -1         0  unknown  no  \n",
       "1  cellular   11   may       220         1    339         4  failure  no  \n",
       "2  cellular   16   apr       185         1    330         1  failure  no  \n",
       "3   unknown    3   jun       199         4     -1         0  unknown  no  \n",
       "4   unknown    5   may       226         1     -1         0  unknown  no  "
      ]
     },
     "execution_count": 58,
     "metadata": {},
     "output_type": "execute_result"
    }
   ],
   "source": [
    "df.head()"
   ]
  },
  {
   "cell_type": "code",
   "execution_count": 59,
   "id": "72b1a688-1c6a-4e63-a8fe-f7e2cdc27678",
   "metadata": {
    "execution": {
     "iopub.execute_input": "2023-11-10T18:26:26.361423Z",
     "iopub.status.busy": "2023-11-10T18:26:26.361025Z",
     "iopub.status.idle": "2023-11-10T18:26:26.425793Z",
     "shell.execute_reply": "2023-11-10T18:26:26.424694Z",
     "shell.execute_reply.started": "2023-11-10T18:26:26.361389Z"
    },
    "tags": []
   },
   "outputs": [
    {
     "data": {
      "text/html": [
       "<div>\n",
       "<style scoped>\n",
       "    .dataframe tbody tr th:only-of-type {\n",
       "        vertical-align: middle;\n",
       "    }\n",
       "\n",
       "    .dataframe tbody tr th {\n",
       "        vertical-align: top;\n",
       "    }\n",
       "\n",
       "    .dataframe thead th {\n",
       "        text-align: right;\n",
       "    }\n",
       "</style>\n",
       "<table border=\"1\" class=\"dataframe\">\n",
       "  <thead>\n",
       "    <tr style=\"text-align: right;\">\n",
       "      <th></th>\n",
       "      <th>age</th>\n",
       "      <th>balance</th>\n",
       "      <th>day</th>\n",
       "      <th>duration</th>\n",
       "      <th>campaign</th>\n",
       "      <th>pdays</th>\n",
       "      <th>previous</th>\n",
       "    </tr>\n",
       "  </thead>\n",
       "  <tbody>\n",
       "    <tr>\n",
       "      <th>count</th>\n",
       "      <td>4521.000000</td>\n",
       "      <td>4521.000000</td>\n",
       "      <td>4521.000000</td>\n",
       "      <td>4521.000000</td>\n",
       "      <td>4521.000000</td>\n",
       "      <td>4521.000000</td>\n",
       "      <td>4521.000000</td>\n",
       "    </tr>\n",
       "    <tr>\n",
       "      <th>mean</th>\n",
       "      <td>41.170095</td>\n",
       "      <td>1422.657819</td>\n",
       "      <td>15.915284</td>\n",
       "      <td>263.961292</td>\n",
       "      <td>2.793630</td>\n",
       "      <td>39.766645</td>\n",
       "      <td>0.542579</td>\n",
       "    </tr>\n",
       "    <tr>\n",
       "      <th>std</th>\n",
       "      <td>10.576211</td>\n",
       "      <td>3009.638142</td>\n",
       "      <td>8.247667</td>\n",
       "      <td>259.856633</td>\n",
       "      <td>3.109807</td>\n",
       "      <td>100.121124</td>\n",
       "      <td>1.693562</td>\n",
       "    </tr>\n",
       "    <tr>\n",
       "      <th>min</th>\n",
       "      <td>19.000000</td>\n",
       "      <td>-3313.000000</td>\n",
       "      <td>1.000000</td>\n",
       "      <td>4.000000</td>\n",
       "      <td>1.000000</td>\n",
       "      <td>-1.000000</td>\n",
       "      <td>0.000000</td>\n",
       "    </tr>\n",
       "    <tr>\n",
       "      <th>25%</th>\n",
       "      <td>33.000000</td>\n",
       "      <td>69.000000</td>\n",
       "      <td>9.000000</td>\n",
       "      <td>104.000000</td>\n",
       "      <td>1.000000</td>\n",
       "      <td>-1.000000</td>\n",
       "      <td>0.000000</td>\n",
       "    </tr>\n",
       "    <tr>\n",
       "      <th>50%</th>\n",
       "      <td>39.000000</td>\n",
       "      <td>444.000000</td>\n",
       "      <td>16.000000</td>\n",
       "      <td>185.000000</td>\n",
       "      <td>2.000000</td>\n",
       "      <td>-1.000000</td>\n",
       "      <td>0.000000</td>\n",
       "    </tr>\n",
       "    <tr>\n",
       "      <th>75%</th>\n",
       "      <td>49.000000</td>\n",
       "      <td>1480.000000</td>\n",
       "      <td>21.000000</td>\n",
       "      <td>329.000000</td>\n",
       "      <td>3.000000</td>\n",
       "      <td>-1.000000</td>\n",
       "      <td>0.000000</td>\n",
       "    </tr>\n",
       "    <tr>\n",
       "      <th>max</th>\n",
       "      <td>87.000000</td>\n",
       "      <td>71188.000000</td>\n",
       "      <td>31.000000</td>\n",
       "      <td>3025.000000</td>\n",
       "      <td>50.000000</td>\n",
       "      <td>871.000000</td>\n",
       "      <td>25.000000</td>\n",
       "    </tr>\n",
       "  </tbody>\n",
       "</table>\n",
       "</div>"
      ],
      "text/plain": [
       "               age       balance          day     duration     campaign  \\\n",
       "count  4521.000000   4521.000000  4521.000000  4521.000000  4521.000000   \n",
       "mean     41.170095   1422.657819    15.915284   263.961292     2.793630   \n",
       "std      10.576211   3009.638142     8.247667   259.856633     3.109807   \n",
       "min      19.000000  -3313.000000     1.000000     4.000000     1.000000   \n",
       "25%      33.000000     69.000000     9.000000   104.000000     1.000000   \n",
       "50%      39.000000    444.000000    16.000000   185.000000     2.000000   \n",
       "75%      49.000000   1480.000000    21.000000   329.000000     3.000000   \n",
       "max      87.000000  71188.000000    31.000000  3025.000000    50.000000   \n",
       "\n",
       "             pdays     previous  \n",
       "count  4521.000000  4521.000000  \n",
       "mean     39.766645     0.542579  \n",
       "std     100.121124     1.693562  \n",
       "min      -1.000000     0.000000  \n",
       "25%      -1.000000     0.000000  \n",
       "50%      -1.000000     0.000000  \n",
       "75%      -1.000000     0.000000  \n",
       "max     871.000000    25.000000  "
      ]
     },
     "execution_count": 59,
     "metadata": {},
     "output_type": "execute_result"
    }
   ],
   "source": [
    "df.describe()"
   ]
  },
  {
   "cell_type": "code",
   "execution_count": 60,
   "id": "59b461c3-c1a7-4934-a8f7-4237be7b1cf7",
   "metadata": {
    "execution": {
     "iopub.execute_input": "2023-11-10T18:26:26.474709Z",
     "iopub.status.busy": "2023-11-10T18:26:26.474119Z",
     "iopub.status.idle": "2023-11-10T18:26:26.668622Z",
     "shell.execute_reply": "2023-11-10T18:26:26.667824Z",
     "shell.execute_reply.started": "2023-11-10T18:26:26.474684Z"
    },
    "tags": []
   },
   "outputs": [
    {
     "name": "stdout",
     "output_type": "stream",
     "text": [
      "<class 'pandas.core.frame.DataFrame'>\n",
      "RangeIndex: 4521 entries, 0 to 4520\n",
      "Data columns (total 17 columns):\n",
      " #   Column     Non-Null Count  Dtype \n",
      "---  ------     --------------  ----- \n",
      " 0   age        4521 non-null   int64 \n",
      " 1   job        4521 non-null   object\n",
      " 2   marital    4521 non-null   object\n",
      " 3   education  4521 non-null   object\n",
      " 4   default    4521 non-null   object\n",
      " 5   balance    4521 non-null   int64 \n",
      " 6   housing    4521 non-null   object\n",
      " 7   loan       4521 non-null   object\n",
      " 8   contact    4521 non-null   object\n",
      " 9   day        4521 non-null   int64 \n",
      " 10  month      4521 non-null   object\n",
      " 11  duration   4521 non-null   int64 \n",
      " 12  campaign   4521 non-null   int64 \n",
      " 13  pdays      4521 non-null   int64 \n",
      " 14  previous   4521 non-null   int64 \n",
      " 15  poutcome   4521 non-null   object\n",
      " 16  y          4521 non-null   object\n",
      "dtypes: int64(7), object(10)\n",
      "memory usage: 600.6+ KB\n"
     ]
    }
   ],
   "source": [
    "df.info()"
   ]
  },
  {
   "cell_type": "code",
   "execution_count": 61,
   "id": "f951a1e0-f842-4519-b966-f0514aff416d",
   "metadata": {
    "execution": {
     "iopub.execute_input": "2023-11-10T18:26:26.670212Z",
     "iopub.status.busy": "2023-11-10T18:26:26.669897Z",
     "iopub.status.idle": "2023-11-10T18:26:26.801781Z",
     "shell.execute_reply": "2023-11-10T18:26:26.801096Z",
     "shell.execute_reply.started": "2023-11-10T18:26:26.670190Z"
    },
    "tags": []
   },
   "outputs": [
    {
     "data": {
      "text/plain": [
       "age          0\n",
       "job          0\n",
       "marital      0\n",
       "education    0\n",
       "default      0\n",
       "balance      0\n",
       "housing      0\n",
       "loan         0\n",
       "contact      0\n",
       "day          0\n",
       "month        0\n",
       "duration     0\n",
       "campaign     0\n",
       "pdays        0\n",
       "previous     0\n",
       "poutcome     0\n",
       "y            0\n",
       "dtype: int64"
      ]
     },
     "execution_count": 61,
     "metadata": {},
     "output_type": "execute_result"
    }
   ],
   "source": [
    "df.isnull().sum()"
   ]
  },
  {
   "cell_type": "code",
   "execution_count": 62,
   "id": "67bdd79c-dffd-44ef-ba19-c3fdd25dc586",
   "metadata": {
    "execution": {
     "iopub.execute_input": "2023-11-10T18:26:26.806845Z",
     "iopub.status.busy": "2023-11-10T18:26:26.806508Z",
     "iopub.status.idle": "2023-11-10T18:26:26.920655Z",
     "shell.execute_reply": "2023-11-10T18:26:26.919911Z",
     "shell.execute_reply.started": "2023-11-10T18:26:26.806819Z"
    },
    "tags": []
   },
   "outputs": [
    {
     "data": {
      "text/plain": [
       "count        4521\n",
       "unique          3\n",
       "top       married\n",
       "freq         2797\n",
       "Name: marital, dtype: object"
      ]
     },
     "execution_count": 62,
     "metadata": {},
     "output_type": "execute_result"
    }
   ],
   "source": [
    "df['marital'].describe()"
   ]
  },
  {
   "cell_type": "code",
   "execution_count": 63,
   "id": "ba564fab-3429-41a9-af8d-d226e37a482c",
   "metadata": {
    "execution": {
     "iopub.execute_input": "2023-11-10T18:26:26.994269Z",
     "iopub.status.busy": "2023-11-10T18:26:26.993710Z",
     "iopub.status.idle": "2023-11-10T18:26:27.085737Z",
     "shell.execute_reply": "2023-11-10T18:26:27.085049Z",
     "shell.execute_reply.started": "2023-11-10T18:26:26.994242Z"
    },
    "tags": []
   },
   "outputs": [
    {
     "data": {
      "text/plain": [
       "array(['married', 'single', 'divorced'], dtype=object)"
      ]
     },
     "execution_count": 63,
     "metadata": {},
     "output_type": "execute_result"
    }
   ],
   "source": [
    "df['marital'].unique()"
   ]
  },
  {
   "cell_type": "code",
   "execution_count": 64,
   "id": "dbb3df8e-0d55-4a9b-86ef-7eef6f823f3b",
   "metadata": {
    "execution": {
     "iopub.execute_input": "2023-11-10T18:26:27.497294Z",
     "iopub.status.busy": "2023-11-10T18:26:27.497033Z",
     "iopub.status.idle": "2023-11-10T18:26:27.513800Z",
     "shell.execute_reply": "2023-11-10T18:26:27.512362Z",
     "shell.execute_reply.started": "2023-11-10T18:26:27.497276Z"
    },
    "tags": []
   },
   "outputs": [
    {
     "name": "stdout",
     "output_type": "stream",
     "text": [
      "['divorced' 'married' 'single']\n"
     ]
    },
    {
     "data": {
      "text/plain": [
       "0       1\n",
       "1       1\n",
       "2       2\n",
       "3       1\n",
       "4       1\n",
       "       ..\n",
       "4516    1\n",
       "4517    1\n",
       "4518    1\n",
       "4519    1\n",
       "4520    2\n",
       "Name: marital, Length: 4521, dtype: int64"
      ]
     },
     "execution_count": 64,
     "metadata": {},
     "output_type": "execute_result"
    }
   ],
   "source": [
    "le_marital = LabelEncoder()\n",
    "df['marital'] = le_marital.fit_transform(df['marital'])\n",
    "print(le_marital.classes_)\n",
    "df['marital']"
   ]
  },
  {
   "cell_type": "code",
   "execution_count": 65,
   "id": "5445d0fd-fcee-405e-82c8-0a139402ff2b",
   "metadata": {
    "execution": {
     "iopub.execute_input": "2023-11-10T18:26:27.559871Z",
     "iopub.status.busy": "2023-11-10T18:26:27.559175Z",
     "iopub.status.idle": "2023-11-10T18:26:27.654467Z",
     "shell.execute_reply": "2023-11-10T18:26:27.653810Z",
     "shell.execute_reply.started": "2023-11-10T18:26:27.559840Z"
    },
    "tags": []
   },
   "outputs": [
    {
     "data": {
      "text/plain": [
       "array(['unemployed', 'services', 'management', 'blue-collar',\n",
       "       'self-employed', 'technician', 'entrepreneur', 'admin.', 'student',\n",
       "       'housemaid', 'retired', 'unknown'], dtype=object)"
      ]
     },
     "execution_count": 65,
     "metadata": {},
     "output_type": "execute_result"
    }
   ],
   "source": [
    "df['job'].unique()"
   ]
  },
  {
   "cell_type": "code",
   "execution_count": 66,
   "id": "bc3a28ea-48e8-40a7-ae96-e933eaf6e581",
   "metadata": {
    "execution": {
     "iopub.execute_input": "2023-11-10T18:26:27.656214Z",
     "iopub.status.busy": "2023-11-10T18:26:27.655876Z",
     "iopub.status.idle": "2023-11-10T18:26:27.756783Z",
     "shell.execute_reply": "2023-11-10T18:26:27.756230Z",
     "shell.execute_reply.started": "2023-11-10T18:26:27.656186Z"
    },
    "tags": []
   },
   "outputs": [
    {
     "name": "stdout",
     "output_type": "stream",
     "text": [
      "['admin.' 'blue-collar' 'entrepreneur' 'housemaid' 'management' 'retired'\n",
      " 'self-employed' 'services' 'student' 'technician' 'unemployed' 'unknown']\n"
     ]
    },
    {
     "data": {
      "text/plain": [
       "0       10\n",
       "1        7\n",
       "2        4\n",
       "3        4\n",
       "4        1\n",
       "        ..\n",
       "4516     7\n",
       "4517     6\n",
       "4518     9\n",
       "4519     1\n",
       "4520     2\n",
       "Name: job, Length: 4521, dtype: int64"
      ]
     },
     "execution_count": 66,
     "metadata": {},
     "output_type": "execute_result"
    }
   ],
   "source": [
    "le_job = LabelEncoder()\n",
    "df['job'] = le_job.fit_transform(df['job'])\n",
    "print(le_job.classes_)\n",
    "df['job']"
   ]
  },
  {
   "cell_type": "code",
   "execution_count": 67,
   "id": "f3708758-c359-4f02-91b9-f66e4c8abc22",
   "metadata": {
    "execution": {
     "iopub.execute_input": "2023-11-10T18:26:27.757604Z",
     "iopub.status.busy": "2023-11-10T18:26:27.757407Z",
     "iopub.status.idle": "2023-11-10T18:26:27.888394Z",
     "shell.execute_reply": "2023-11-10T18:26:27.887561Z",
     "shell.execute_reply.started": "2023-11-10T18:26:27.757584Z"
    },
    "tags": []
   },
   "outputs": [
    {
     "data": {
      "text/plain": [
       "array(['primary', 'secondary', 'tertiary', 'unknown'], dtype=object)"
      ]
     },
     "execution_count": 67,
     "metadata": {},
     "output_type": "execute_result"
    }
   ],
   "source": [
    "df['education'].unique()"
   ]
  },
  {
   "cell_type": "code",
   "execution_count": 68,
   "id": "9dab6fe3-aa52-45b6-9a63-a6f16259c4a2",
   "metadata": {
    "execution": {
     "iopub.execute_input": "2023-11-10T18:26:27.890995Z",
     "iopub.status.busy": "2023-11-10T18:26:27.890448Z",
     "iopub.status.idle": "2023-11-10T18:26:28.065512Z",
     "shell.execute_reply": "2023-11-10T18:26:28.064780Z",
     "shell.execute_reply.started": "2023-11-10T18:26:27.890965Z"
    },
    "tags": []
   },
   "outputs": [
    {
     "name": "stdout",
     "output_type": "stream",
     "text": [
      "['primary' 'secondary' 'tertiary' 'unknown']\n"
     ]
    },
    {
     "data": {
      "text/plain": [
       "0       0\n",
       "1       1\n",
       "2       2\n",
       "3       2\n",
       "4       1\n",
       "       ..\n",
       "4516    1\n",
       "4517    2\n",
       "4518    1\n",
       "4519    1\n",
       "4520    2\n",
       "Name: education, Length: 4521, dtype: int64"
      ]
     },
     "execution_count": 68,
     "metadata": {},
     "output_type": "execute_result"
    }
   ],
   "source": [
    "le_education = LabelEncoder()\n",
    "df['education'] = le_education.fit_transform(df['education'])\n",
    "print(le_education.classes_)\n",
    "df['education']"
   ]
  },
  {
   "cell_type": "code",
   "execution_count": 69,
   "id": "d23c7a6d-0e37-4c4e-a92d-427469588ec3",
   "metadata": {
    "execution": {
     "iopub.execute_input": "2023-11-10T18:26:28.066581Z",
     "iopub.status.busy": "2023-11-10T18:26:28.066331Z",
     "iopub.status.idle": "2023-11-10T18:26:28.254875Z",
     "shell.execute_reply": "2023-11-10T18:26:28.253576Z",
     "shell.execute_reply.started": "2023-11-10T18:26:28.066554Z"
    },
    "tags": []
   },
   "outputs": [
    {
     "data": {
      "text/plain": [
       "array(['no', 'yes'], dtype=object)"
      ]
     },
     "execution_count": 69,
     "metadata": {},
     "output_type": "execute_result"
    }
   ],
   "source": [
    "df['default'].unique()"
   ]
  },
  {
   "cell_type": "code",
   "execution_count": 70,
   "id": "fec7cc49-95a1-4130-94bd-7c2ae526454b",
   "metadata": {
    "execution": {
     "iopub.execute_input": "2023-11-10T18:26:28.257341Z",
     "iopub.status.busy": "2023-11-10T18:26:28.256864Z",
     "iopub.status.idle": "2023-11-10T18:26:28.521585Z",
     "shell.execute_reply": "2023-11-10T18:26:28.520886Z",
     "shell.execute_reply.started": "2023-11-10T18:26:28.257299Z"
    },
    "tags": []
   },
   "outputs": [
    {
     "name": "stdout",
     "output_type": "stream",
     "text": [
      "0       0\n",
      "1       0\n",
      "2       0\n",
      "3       0\n",
      "4       0\n",
      "       ..\n",
      "4516    0\n",
      "4517    1\n",
      "4518    0\n",
      "4519    0\n",
      "4520    0\n",
      "Name: default, Length: 4521, dtype: int64\n"
     ]
    }
   ],
   "source": [
    "df['default'].replace(['no', 'yes'], [0, 1], inplace=True)\n",
    "print(df['default'])"
   ]
  },
  {
   "cell_type": "code",
   "execution_count": 71,
   "id": "a9b44e1b-e9b4-41b3-8714-16e6ebdd2326",
   "metadata": {
    "execution": {
     "iopub.execute_input": "2023-11-10T18:26:28.522621Z",
     "iopub.status.busy": "2023-11-10T18:26:28.522317Z",
     "iopub.status.idle": "2023-11-10T18:26:28.675557Z",
     "shell.execute_reply": "2023-11-10T18:26:28.674828Z",
     "shell.execute_reply.started": "2023-11-10T18:26:28.522601Z"
    },
    "tags": []
   },
   "outputs": [
    {
     "data": {
      "text/plain": [
       "array(['no', 'yes'], dtype=object)"
      ]
     },
     "execution_count": 71,
     "metadata": {},
     "output_type": "execute_result"
    }
   ],
   "source": [
    "df['housing'].unique()"
   ]
  },
  {
   "cell_type": "code",
   "execution_count": 72,
   "id": "938a466f-6ab0-4398-ad9e-469b5c6a81ea",
   "metadata": {
    "execution": {
     "iopub.execute_input": "2023-11-10T18:26:28.676500Z",
     "iopub.status.busy": "2023-11-10T18:26:28.676302Z",
     "iopub.status.idle": "2023-11-10T18:26:28.788741Z",
     "shell.execute_reply": "2023-11-10T18:26:28.787928Z",
     "shell.execute_reply.started": "2023-11-10T18:26:28.676482Z"
    },
    "tags": []
   },
   "outputs": [
    {
     "name": "stdout",
     "output_type": "stream",
     "text": [
      "0       0\n",
      "1       1\n",
      "2       1\n",
      "3       1\n",
      "4       1\n",
      "       ..\n",
      "4516    1\n",
      "4517    1\n",
      "4518    0\n",
      "4519    0\n",
      "4520    1\n",
      "Name: housing, Length: 4521, dtype: int64\n"
     ]
    }
   ],
   "source": [
    "df['housing'].replace(['no', 'yes'], [0, 1], inplace=True)\n",
    "print(df['housing'])"
   ]
  },
  {
   "cell_type": "code",
   "execution_count": 73,
   "id": "4b8ca1c1-d17b-45c5-8893-3e12d448c429",
   "metadata": {
    "execution": {
     "iopub.execute_input": "2023-11-10T18:26:28.789802Z",
     "iopub.status.busy": "2023-11-10T18:26:28.789557Z",
     "iopub.status.idle": "2023-11-10T18:26:28.952657Z",
     "shell.execute_reply": "2023-11-10T18:26:28.952040Z",
     "shell.execute_reply.started": "2023-11-10T18:26:28.789775Z"
    },
    "tags": []
   },
   "outputs": [
    {
     "data": {
      "text/plain": [
       "array(['no', 'yes'], dtype=object)"
      ]
     },
     "execution_count": 73,
     "metadata": {},
     "output_type": "execute_result"
    }
   ],
   "source": [
    "df['loan'].unique()"
   ]
  },
  {
   "cell_type": "code",
   "execution_count": 74,
   "id": "02c332d6-e5c3-4a1e-923d-1d5ea5f2ad9b",
   "metadata": {
    "execution": {
     "iopub.execute_input": "2023-11-10T18:26:28.954861Z",
     "iopub.status.busy": "2023-11-10T18:26:28.954600Z",
     "iopub.status.idle": "2023-11-10T18:26:29.053749Z",
     "shell.execute_reply": "2023-11-10T18:26:29.053027Z",
     "shell.execute_reply.started": "2023-11-10T18:26:28.954842Z"
    },
    "tags": []
   },
   "outputs": [
    {
     "name": "stdout",
     "output_type": "stream",
     "text": [
      "0       0\n",
      "1       1\n",
      "2       0\n",
      "3       1\n",
      "4       0\n",
      "       ..\n",
      "4516    0\n",
      "4517    1\n",
      "4518    0\n",
      "4519    0\n",
      "4520    1\n",
      "Name: loan, Length: 4521, dtype: int64\n"
     ]
    }
   ],
   "source": [
    "df['loan'].replace(['no', 'yes'], [0, 1], inplace=True)\n",
    "print(df['loan'])"
   ]
  },
  {
   "cell_type": "code",
   "execution_count": 75,
   "id": "ce86fd1e-67d8-4a68-9ef7-cf1e4dc5702c",
   "metadata": {
    "execution": {
     "iopub.execute_input": "2023-11-10T18:26:29.055167Z",
     "iopub.status.busy": "2023-11-10T18:26:29.054905Z",
     "iopub.status.idle": "2023-11-10T18:26:29.207893Z",
     "shell.execute_reply": "2023-11-10T18:26:29.207190Z",
     "shell.execute_reply.started": "2023-11-10T18:26:29.055145Z"
    },
    "tags": []
   },
   "outputs": [
    {
     "data": {
      "text/plain": [
       "array(['cellular', 'unknown', 'telephone'], dtype=object)"
      ]
     },
     "execution_count": 75,
     "metadata": {},
     "output_type": "execute_result"
    }
   ],
   "source": [
    "df['contact'].unique()"
   ]
  },
  {
   "cell_type": "code",
   "execution_count": 76,
   "id": "5a6a9226-65bd-4572-b561-db2de74ed81b",
   "metadata": {
    "execution": {
     "iopub.execute_input": "2023-11-10T18:26:29.208824Z",
     "iopub.status.busy": "2023-11-10T18:26:29.208634Z",
     "iopub.status.idle": "2023-11-10T18:26:29.484864Z",
     "shell.execute_reply": "2023-11-10T18:26:29.484194Z",
     "shell.execute_reply.started": "2023-11-10T18:26:29.208806Z"
    },
    "tags": []
   },
   "outputs": [
    {
     "name": "stdout",
     "output_type": "stream",
     "text": [
      "['cellular' 'telephone' 'unknown']\n"
     ]
    },
    {
     "data": {
      "text/plain": [
       "0       0\n",
       "1       0\n",
       "2       0\n",
       "3       2\n",
       "4       2\n",
       "       ..\n",
       "4516    0\n",
       "4517    2\n",
       "4518    0\n",
       "4519    0\n",
       "4520    0\n",
       "Name: contact, Length: 4521, dtype: int64"
      ]
     },
     "execution_count": 76,
     "metadata": {},
     "output_type": "execute_result"
    }
   ],
   "source": [
    "le_contact = LabelEncoder()\n",
    "df['contact'] = le_contact.fit_transform(df['contact'])\n",
    "print(le_contact.classes_)\n",
    "df['contact']"
   ]
  },
  {
   "cell_type": "code",
   "execution_count": 77,
   "id": "58025188-e374-42bc-942d-98f7c3c4053e",
   "metadata": {
    "execution": {
     "iopub.execute_input": "2023-11-10T18:26:29.486007Z",
     "iopub.status.busy": "2023-11-10T18:26:29.485678Z",
     "iopub.status.idle": "2023-11-10T18:26:29.687385Z",
     "shell.execute_reply": "2023-11-10T18:26:29.685936Z",
     "shell.execute_reply.started": "2023-11-10T18:26:29.485987Z"
    },
    "tags": []
   },
   "outputs": [
    {
     "data": {
      "text/plain": [
       "array(['oct', 'may', 'apr', 'jun', 'feb', 'aug', 'jan', 'jul', 'nov',\n",
       "       'sep', 'mar', 'dec'], dtype=object)"
      ]
     },
     "execution_count": 77,
     "metadata": {},
     "output_type": "execute_result"
    }
   ],
   "source": [
    "df['month'].unique()"
   ]
  },
  {
   "cell_type": "code",
   "execution_count": 78,
   "id": "e6c15cdc-01be-44af-a070-9f7f2aa3158b",
   "metadata": {
    "execution": {
     "iopub.execute_input": "2023-11-10T18:26:29.689441Z",
     "iopub.status.busy": "2023-11-10T18:26:29.689011Z",
     "iopub.status.idle": "2023-11-10T18:26:29.829826Z",
     "shell.execute_reply": "2023-11-10T18:26:29.828843Z",
     "shell.execute_reply.started": "2023-11-10T18:26:29.689406Z"
    },
    "tags": []
   },
   "outputs": [
    {
     "name": "stdout",
     "output_type": "stream",
     "text": [
      "['apr' 'aug' 'dec' 'feb' 'jan' 'jul' 'jun' 'mar' 'may' 'nov' 'oct' 'sep']\n"
     ]
    },
    {
     "data": {
      "text/plain": [
       "0       10\n",
       "1        8\n",
       "2        0\n",
       "3        6\n",
       "4        8\n",
       "        ..\n",
       "4516     5\n",
       "4517     8\n",
       "4518     1\n",
       "4519     3\n",
       "4520     0\n",
       "Name: month, Length: 4521, dtype: int64"
      ]
     },
     "execution_count": 78,
     "metadata": {},
     "output_type": "execute_result"
    }
   ],
   "source": [
    "le_month = LabelEncoder()\n",
    "df['month'] = le_month.fit_transform(df['month'])\n",
    "print(le_month.classes_)\n",
    "df['month']"
   ]
  },
  {
   "cell_type": "code",
   "execution_count": 79,
   "id": "dec0f20a-e549-458d-b5a6-d2dab979e7f9",
   "metadata": {
    "execution": {
     "iopub.execute_input": "2023-11-10T18:26:29.831588Z",
     "iopub.status.busy": "2023-11-10T18:26:29.831298Z",
     "iopub.status.idle": "2023-11-10T18:26:30.009020Z",
     "shell.execute_reply": "2023-11-10T18:26:30.007905Z",
     "shell.execute_reply.started": "2023-11-10T18:26:29.831563Z"
    },
    "tags": []
   },
   "outputs": [
    {
     "data": {
      "text/plain": [
       "array(['unknown', 'failure', 'other', 'success'], dtype=object)"
      ]
     },
     "execution_count": 79,
     "metadata": {},
     "output_type": "execute_result"
    }
   ],
   "source": [
    "df['poutcome'].unique()"
   ]
  },
  {
   "cell_type": "code",
   "execution_count": 80,
   "id": "8d0dfbca-3d9a-4e47-bd20-0f53e511ac63",
   "metadata": {
    "execution": {
     "iopub.execute_input": "2023-11-10T18:26:30.010372Z",
     "iopub.status.busy": "2023-11-10T18:26:30.010087Z",
     "iopub.status.idle": "2023-11-10T18:26:30.117504Z",
     "shell.execute_reply": "2023-11-10T18:26:30.116839Z",
     "shell.execute_reply.started": "2023-11-10T18:26:30.010350Z"
    },
    "tags": []
   },
   "outputs": [
    {
     "name": "stdout",
     "output_type": "stream",
     "text": [
      "['failure' 'other' 'success' 'unknown']\n"
     ]
    },
    {
     "data": {
      "text/plain": [
       "0       3\n",
       "1       0\n",
       "2       0\n",
       "3       3\n",
       "4       3\n",
       "       ..\n",
       "4516    3\n",
       "4517    3\n",
       "4518    3\n",
       "4519    1\n",
       "4520    1\n",
       "Name: poutcome, Length: 4521, dtype: int64"
      ]
     },
     "execution_count": 80,
     "metadata": {},
     "output_type": "execute_result"
    }
   ],
   "source": [
    "le_poutcome = LabelEncoder()\n",
    "df['poutcome'] = le_poutcome.fit_transform(df['poutcome'])\n",
    "print(le_poutcome.classes_)\n",
    "df['poutcome']"
   ]
  },
  {
   "cell_type": "code",
   "execution_count": 81,
   "id": "616ce195-0814-4cb8-b03a-5fa7e31e4ce9",
   "metadata": {
    "execution": {
     "iopub.execute_input": "2023-11-10T18:26:30.120339Z",
     "iopub.status.busy": "2023-11-10T18:26:30.120057Z",
     "iopub.status.idle": "2023-11-10T18:26:30.229842Z",
     "shell.execute_reply": "2023-11-10T18:26:30.229075Z",
     "shell.execute_reply.started": "2023-11-10T18:26:30.120309Z"
    },
    "tags": []
   },
   "outputs": [
    {
     "data": {
      "text/html": [
       "<div>\n",
       "<style scoped>\n",
       "    .dataframe tbody tr th:only-of-type {\n",
       "        vertical-align: middle;\n",
       "    }\n",
       "\n",
       "    .dataframe tbody tr th {\n",
       "        vertical-align: top;\n",
       "    }\n",
       "\n",
       "    .dataframe thead th {\n",
       "        text-align: right;\n",
       "    }\n",
       "</style>\n",
       "<table border=\"1\" class=\"dataframe\">\n",
       "  <thead>\n",
       "    <tr style=\"text-align: right;\">\n",
       "      <th></th>\n",
       "      <th>age</th>\n",
       "      <th>job</th>\n",
       "      <th>marital</th>\n",
       "      <th>education</th>\n",
       "      <th>default</th>\n",
       "      <th>balance</th>\n",
       "      <th>housing</th>\n",
       "      <th>loan</th>\n",
       "      <th>contact</th>\n",
       "      <th>day</th>\n",
       "      <th>month</th>\n",
       "      <th>duration</th>\n",
       "      <th>campaign</th>\n",
       "      <th>pdays</th>\n",
       "      <th>previous</th>\n",
       "      <th>poutcome</th>\n",
       "      <th>y</th>\n",
       "    </tr>\n",
       "  </thead>\n",
       "  <tbody>\n",
       "    <tr>\n",
       "      <th>0</th>\n",
       "      <td>30</td>\n",
       "      <td>10</td>\n",
       "      <td>1</td>\n",
       "      <td>0</td>\n",
       "      <td>0</td>\n",
       "      <td>1787</td>\n",
       "      <td>0</td>\n",
       "      <td>0</td>\n",
       "      <td>0</td>\n",
       "      <td>19</td>\n",
       "      <td>10</td>\n",
       "      <td>79</td>\n",
       "      <td>1</td>\n",
       "      <td>-1</td>\n",
       "      <td>0</td>\n",
       "      <td>3</td>\n",
       "      <td>no</td>\n",
       "    </tr>\n",
       "    <tr>\n",
       "      <th>1</th>\n",
       "      <td>33</td>\n",
       "      <td>7</td>\n",
       "      <td>1</td>\n",
       "      <td>1</td>\n",
       "      <td>0</td>\n",
       "      <td>4789</td>\n",
       "      <td>1</td>\n",
       "      <td>1</td>\n",
       "      <td>0</td>\n",
       "      <td>11</td>\n",
       "      <td>8</td>\n",
       "      <td>220</td>\n",
       "      <td>1</td>\n",
       "      <td>339</td>\n",
       "      <td>4</td>\n",
       "      <td>0</td>\n",
       "      <td>no</td>\n",
       "    </tr>\n",
       "    <tr>\n",
       "      <th>2</th>\n",
       "      <td>35</td>\n",
       "      <td>4</td>\n",
       "      <td>2</td>\n",
       "      <td>2</td>\n",
       "      <td>0</td>\n",
       "      <td>1350</td>\n",
       "      <td>1</td>\n",
       "      <td>0</td>\n",
       "      <td>0</td>\n",
       "      <td>16</td>\n",
       "      <td>0</td>\n",
       "      <td>185</td>\n",
       "      <td>1</td>\n",
       "      <td>330</td>\n",
       "      <td>1</td>\n",
       "      <td>0</td>\n",
       "      <td>no</td>\n",
       "    </tr>\n",
       "    <tr>\n",
       "      <th>3</th>\n",
       "      <td>30</td>\n",
       "      <td>4</td>\n",
       "      <td>1</td>\n",
       "      <td>2</td>\n",
       "      <td>0</td>\n",
       "      <td>1476</td>\n",
       "      <td>1</td>\n",
       "      <td>1</td>\n",
       "      <td>2</td>\n",
       "      <td>3</td>\n",
       "      <td>6</td>\n",
       "      <td>199</td>\n",
       "      <td>4</td>\n",
       "      <td>-1</td>\n",
       "      <td>0</td>\n",
       "      <td>3</td>\n",
       "      <td>no</td>\n",
       "    </tr>\n",
       "    <tr>\n",
       "      <th>4</th>\n",
       "      <td>59</td>\n",
       "      <td>1</td>\n",
       "      <td>1</td>\n",
       "      <td>1</td>\n",
       "      <td>0</td>\n",
       "      <td>0</td>\n",
       "      <td>1</td>\n",
       "      <td>0</td>\n",
       "      <td>2</td>\n",
       "      <td>5</td>\n",
       "      <td>8</td>\n",
       "      <td>226</td>\n",
       "      <td>1</td>\n",
       "      <td>-1</td>\n",
       "      <td>0</td>\n",
       "      <td>3</td>\n",
       "      <td>no</td>\n",
       "    </tr>\n",
       "  </tbody>\n",
       "</table>\n",
       "</div>"
      ],
      "text/plain": [
       "   age  job  marital  education  default  balance  housing  loan  contact  \\\n",
       "0   30   10        1          0        0     1787        0     0        0   \n",
       "1   33    7        1          1        0     4789        1     1        0   \n",
       "2   35    4        2          2        0     1350        1     0        0   \n",
       "3   30    4        1          2        0     1476        1     1        2   \n",
       "4   59    1        1          1        0        0        1     0        2   \n",
       "\n",
       "   day  month  duration  campaign  pdays  previous  poutcome   y  \n",
       "0   19     10        79         1     -1         0         3  no  \n",
       "1   11      8       220         1    339         4         0  no  \n",
       "2   16      0       185         1    330         1         0  no  \n",
       "3    3      6       199         4     -1         0         3  no  \n",
       "4    5      8       226         1     -1         0         3  no  "
      ]
     },
     "execution_count": 81,
     "metadata": {},
     "output_type": "execute_result"
    }
   ],
   "source": [
    "df.head()"
   ]
  },
  {
   "cell_type": "code",
   "execution_count": 82,
   "id": "b1785218-05b9-4024-816e-72cb34e26bfc",
   "metadata": {
    "execution": {
     "iopub.execute_input": "2023-11-10T18:26:30.230881Z",
     "iopub.status.busy": "2023-11-10T18:26:30.230659Z",
     "iopub.status.idle": "2023-11-10T18:26:30.376617Z",
     "shell.execute_reply": "2023-11-10T18:26:30.376014Z",
     "shell.execute_reply.started": "2023-11-10T18:26:30.230859Z"
    },
    "tags": []
   },
   "outputs": [
    {
     "name": "stdout",
     "output_type": "stream",
     "text": [
      "<class 'pandas.core.frame.DataFrame'>\n",
      "RangeIndex: 4521 entries, 0 to 4520\n",
      "Data columns (total 17 columns):\n",
      " #   Column     Non-Null Count  Dtype \n",
      "---  ------     --------------  ----- \n",
      " 0   age        4521 non-null   int64 \n",
      " 1   job        4521 non-null   int64 \n",
      " 2   marital    4521 non-null   int64 \n",
      " 3   education  4521 non-null   int64 \n",
      " 4   default    4521 non-null   int64 \n",
      " 5   balance    4521 non-null   int64 \n",
      " 6   housing    4521 non-null   int64 \n",
      " 7   loan       4521 non-null   int64 \n",
      " 8   contact    4521 non-null   int64 \n",
      " 9   day        4521 non-null   int64 \n",
      " 10  month      4521 non-null   int64 \n",
      " 11  duration   4521 non-null   int64 \n",
      " 12  campaign   4521 non-null   int64 \n",
      " 13  pdays      4521 non-null   int64 \n",
      " 14  previous   4521 non-null   int64 \n",
      " 15  poutcome   4521 non-null   int64 \n",
      " 16  y          4521 non-null   object\n",
      "dtypes: int64(16), object(1)\n",
      "memory usage: 600.6+ KB\n"
     ]
    }
   ],
   "source": [
    "df.info()"
   ]
  },
  {
   "cell_type": "code",
   "execution_count": 83,
   "id": "a82f32e5-5610-4ed1-a7f6-2a7018abb7db",
   "metadata": {
    "execution": {
     "iopub.execute_input": "2023-11-10T18:26:30.378100Z",
     "iopub.status.busy": "2023-11-10T18:26:30.377604Z",
     "iopub.status.idle": "2023-11-10T18:26:30.554759Z",
     "shell.execute_reply": "2023-11-10T18:26:30.552794Z",
     "shell.execute_reply.started": "2023-11-10T18:26:30.378054Z"
    },
    "tags": []
   },
   "outputs": [
    {
     "data": {
      "text/plain": [
       "(4521, 17)"
      ]
     },
     "execution_count": 83,
     "metadata": {},
     "output_type": "execute_result"
    }
   ],
   "source": [
    "df.shape"
   ]
  },
  {
   "cell_type": "code",
   "execution_count": 84,
   "id": "6d39b384-ea97-4268-a764-e87ec67e2833",
   "metadata": {
    "execution": {
     "iopub.execute_input": "2023-11-10T18:26:30.559087Z",
     "iopub.status.busy": "2023-11-10T18:26:30.557399Z",
     "iopub.status.idle": "2023-11-10T18:26:30.662308Z",
     "shell.execute_reply": "2023-11-10T18:26:30.661515Z",
     "shell.execute_reply.started": "2023-11-10T18:26:30.559044Z"
    },
    "tags": []
   },
   "outputs": [],
   "source": [
    "X = df.iloc[:, :-1].values\n",
    "y = df.iloc[:, -1].values"
   ]
  },
  {
   "cell_type": "code",
   "execution_count": 85,
   "id": "c30f16c2-cc58-4276-a7f9-9601807eb8bf",
   "metadata": {
    "execution": {
     "iopub.execute_input": "2023-11-10T18:26:30.664475Z",
     "iopub.status.busy": "2023-11-10T18:26:30.664160Z",
     "iopub.status.idle": "2023-11-10T18:26:30.801978Z",
     "shell.execute_reply": "2023-11-10T18:26:30.801285Z",
     "shell.execute_reply.started": "2023-11-10T18:26:30.664448Z"
    },
    "tags": []
   },
   "outputs": [
    {
     "data": {
      "text/plain": [
       "((4521, 16), (4521,))"
      ]
     },
     "execution_count": 85,
     "metadata": {},
     "output_type": "execute_result"
    }
   ],
   "source": [
    "X.shape, y.shape"
   ]
  },
  {
   "cell_type": "code",
   "execution_count": 86,
   "id": "e28ef62b-b258-49e3-b868-d8efd67f0982",
   "metadata": {
    "execution": {
     "iopub.execute_input": "2023-11-10T18:26:30.803316Z",
     "iopub.status.busy": "2023-11-10T18:26:30.803064Z",
     "iopub.status.idle": "2023-11-10T18:26:30.957609Z",
     "shell.execute_reply": "2023-11-10T18:26:30.956819Z",
     "shell.execute_reply.started": "2023-11-10T18:26:30.803291Z"
    },
    "tags": []
   },
   "outputs": [],
   "source": [
    "X_train, X_test, y_train, y_test = train_test_split(X, y, random_state=1234)"
   ]
  },
  {
   "cell_type": "code",
   "execution_count": 87,
   "id": "c775f770-a04e-4991-a4c7-5b96bc9a7e1d",
   "metadata": {
    "execution": {
     "iopub.execute_input": "2023-11-10T18:26:30.990645Z",
     "iopub.status.busy": "2023-11-10T18:26:30.990342Z",
     "iopub.status.idle": "2023-11-10T18:26:31.088854Z",
     "shell.execute_reply": "2023-11-10T18:26:31.088184Z",
     "shell.execute_reply.started": "2023-11-10T18:26:30.990627Z"
    },
    "tags": []
   },
   "outputs": [
    {
     "name": "stdout",
     "output_type": "stream",
     "text": [
      "X_train.shape=(3390, 16)\n",
      "y_train.shape=(3390,)\n",
      "\n",
      "X_test.shape=(1131, 16)\n",
      "y_test.shape=(1131,)\n"
     ]
    }
   ],
   "source": [
    "print(f\"{X_train.shape=}\\n{y_train.shape=}\\n\\n{X_test.shape=}\\n{y_test.shape=}\")"
   ]
  },
  {
   "cell_type": "code",
   "execution_count": 95,
   "id": "234bd335-4373-480b-be4e-cbee7b6f3210",
   "metadata": {
    "execution": {
     "iopub.execute_input": "2023-11-10T18:28:37.685273Z",
     "iopub.status.busy": "2023-11-10T18:28:37.684918Z",
     "iopub.status.idle": "2023-11-10T18:28:37.688920Z",
     "shell.execute_reply": "2023-11-10T18:28:37.688258Z",
     "shell.execute_reply.started": "2023-11-10T18:28:37.685248Z"
    },
    "tags": []
   },
   "outputs": [],
   "source": [
    "estimator = Id3Estimator()"
   ]
  },
  {
   "cell_type": "code",
   "execution_count": 96,
   "id": "9056ea52-9a19-4b25-9bfb-8e3f2b2daa24",
   "metadata": {
    "execution": {
     "iopub.execute_input": "2023-11-10T18:28:37.892473Z",
     "iopub.status.busy": "2023-11-10T18:28:37.892186Z",
     "iopub.status.idle": "2023-11-10T18:28:37.933587Z",
     "shell.execute_reply": "2023-11-10T18:28:37.932756Z",
     "shell.execute_reply.started": "2023-11-10T18:28:37.892455Z"
    },
    "tags": []
   },
   "outputs": [
    {
     "ename": "AttributeError",
     "evalue": "module 'numpy' has no attribute 'float'.\n`np.float` was a deprecated alias for the builtin `float`. To avoid this error in existing code, use `float` by itself. Doing this will not modify any behavior and is safe. If you specifically wanted the numpy scalar type, use `np.float64` here.\nThe aliases was originally deprecated in NumPy 1.20; for more details and guidance see the original release note at:\n    https://numpy.org/devdocs/release/1.20.0-notes.html#deprecations",
     "output_type": "error",
     "traceback": [
      "\u001b[0;31m---------------------------------------------------------------------------\u001b[0m",
      "\u001b[0;31mAttributeError\u001b[0m                            Traceback (most recent call last)",
      "Cell \u001b[0;32mIn[96], line 1\u001b[0m\n\u001b[0;32m----> 1\u001b[0m estimator\u001b[38;5;241m.\u001b[39mfit(X_train, y_train)\n",
      "File \u001b[0;32m~/miniconda3/lib/python3.11/site-packages/id3/id3.py:110\u001b[0m, in \u001b[0;36mId3Estimator.fit\u001b[0;34m(self, X, y, check_input)\u001b[0m\n\u001b[1;32m    106\u001b[0m \u001b[38;5;28;01melse\u001b[39;00m:\n\u001b[1;32m    107\u001b[0m     min_samples_split \u001b[38;5;241m=\u001b[39m \u001b[38;5;241m1\u001b[39m\n\u001b[1;32m    109\u001b[0m \u001b[38;5;28;01mif\u001b[39;00m \u001b[38;5;28misinstance\u001b[39m(\u001b[38;5;28mself\u001b[39m\u001b[38;5;241m.\u001b[39mmin_entropy_decrease,\n\u001b[0;32m--> 110\u001b[0m               (np\u001b[38;5;241m.\u001b[39mfloat, np\u001b[38;5;241m.\u001b[39minteger)):\n\u001b[1;32m    111\u001b[0m     min_entropy_decrease \u001b[38;5;241m=\u001b[39m (\u001b[38;5;241m0\u001b[39m \u001b[38;5;28;01mif\u001b[39;00m \u001b[38;5;28mself\u001b[39m\u001b[38;5;241m.\u001b[39mmin_entropy_decrease \u001b[38;5;241m<\u001b[39m \u001b[38;5;241m0\u001b[39m\n\u001b[1;32m    112\u001b[0m                             \u001b[38;5;28;01melse\u001b[39;00m \u001b[38;5;28mself\u001b[39m\u001b[38;5;241m.\u001b[39mmin_entropy_decrease)\n\u001b[1;32m    113\u001b[0m \u001b[38;5;28;01melse\u001b[39;00m:\n",
      "File \u001b[0;32m~/miniconda3/lib/python3.11/site-packages/numpy/__init__.py:305\u001b[0m, in \u001b[0;36m__getattr__\u001b[0;34m(attr)\u001b[0m\n\u001b[1;32m    300\u001b[0m     warnings\u001b[38;5;241m.\u001b[39mwarn(\n\u001b[1;32m    301\u001b[0m         \u001b[38;5;124mf\u001b[39m\u001b[38;5;124m\"\u001b[39m\u001b[38;5;124mIn the future `np.\u001b[39m\u001b[38;5;132;01m{\u001b[39;00mattr\u001b[38;5;132;01m}\u001b[39;00m\u001b[38;5;124m` will be defined as the \u001b[39m\u001b[38;5;124m\"\u001b[39m\n\u001b[1;32m    302\u001b[0m         \u001b[38;5;124m\"\u001b[39m\u001b[38;5;124mcorresponding NumPy scalar.\u001b[39m\u001b[38;5;124m\"\u001b[39m, \u001b[38;5;167;01mFutureWarning\u001b[39;00m, stacklevel\u001b[38;5;241m=\u001b[39m\u001b[38;5;241m2\u001b[39m)\n\u001b[1;32m    304\u001b[0m \u001b[38;5;28;01mif\u001b[39;00m attr \u001b[38;5;129;01min\u001b[39;00m __former_attrs__:\n\u001b[0;32m--> 305\u001b[0m     \u001b[38;5;28;01mraise\u001b[39;00m \u001b[38;5;167;01mAttributeError\u001b[39;00m(__former_attrs__[attr])\n\u001b[1;32m    307\u001b[0m \u001b[38;5;66;03m# Importing Tester requires importing all of UnitTest which is not a\u001b[39;00m\n\u001b[1;32m    308\u001b[0m \u001b[38;5;66;03m# cheap import Since it is mainly used in test suits, we lazy import it\u001b[39;00m\n\u001b[1;32m    309\u001b[0m \u001b[38;5;66;03m# here to save on the order of 10 ms of import time for most users\u001b[39;00m\n\u001b[1;32m    310\u001b[0m \u001b[38;5;66;03m#\u001b[39;00m\n\u001b[1;32m    311\u001b[0m \u001b[38;5;66;03m# The previous way Tester was imported also had a side effect of adding\u001b[39;00m\n\u001b[1;32m    312\u001b[0m \u001b[38;5;66;03m# the full `numpy.testing` namespace\u001b[39;00m\n\u001b[1;32m    313\u001b[0m \u001b[38;5;28;01mif\u001b[39;00m attr \u001b[38;5;241m==\u001b[39m \u001b[38;5;124m'\u001b[39m\u001b[38;5;124mtesting\u001b[39m\u001b[38;5;124m'\u001b[39m:\n",
      "\u001b[0;31mAttributeError\u001b[0m: module 'numpy' has no attribute 'float'.\n`np.float` was a deprecated alias for the builtin `float`. To avoid this error in existing code, use `float` by itself. Doing this will not modify any behavior and is safe. If you specifically wanted the numpy scalar type, use `np.float64` here.\nThe aliases was originally deprecated in NumPy 1.20; for more details and guidance see the original release note at:\n    https://numpy.org/devdocs/release/1.20.0-notes.html#deprecations"
     ]
    }
   ],
   "source": [
    "estimator.fit(X_train, y_train)"
   ]
  },
  {
   "cell_type": "code",
   "execution_count": null,
   "id": "37f3950a-ac1d-4294-8860-f0b32af4a523",
   "metadata": {
    "tags": []
   },
   "outputs": [],
   "source": []
  },
  {
   "cell_type": "code",
   "execution_count": null,
   "id": "37b563b7-2a28-4cf3-b4d1-78da28439c8c",
   "metadata": {},
   "outputs": [],
   "source": []
  },
  {
   "cell_type": "code",
   "execution_count": null,
   "id": "b1ed97a9-5e17-410f-bcbc-7598409e19b3",
   "metadata": {},
   "outputs": [],
   "source": []
  }
 ],
 "metadata": {
  "kernelspec": {
   "display_name": "Python 3 (ipykernel)",
   "language": "python",
   "name": "python3"
  },
  "language_info": {
   "codemirror_mode": {
    "name": "ipython",
    "version": 3
   },
   "file_extension": ".py",
   "mimetype": "text/x-python",
   "name": "python",
   "nbconvert_exporter": "python",
   "pygments_lexer": "ipython3",
   "version": "3.11.4"
  },
  "widgets": {
   "application/vnd.jupyter.widget-state+json": {
    "state": {},
    "version_major": 2,
    "version_minor": 0
   }
  }
 },
 "nbformat": 4,
 "nbformat_minor": 5
}
